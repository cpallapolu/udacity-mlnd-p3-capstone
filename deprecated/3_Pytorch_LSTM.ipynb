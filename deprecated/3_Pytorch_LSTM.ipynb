{
 "cells": [
  {
   "cell_type": "markdown",
   "metadata": {},
   "source": [
    "# Customer Revenue Prediction"
   ]
  },
  {
   "cell_type": "markdown",
   "metadata": {},
   "source": [
    "## PyTorch LSTM Model\n",
    "*Machine Learning Nanodegree Program | Capstone Project*\n",
    "\n",
    "---"
   ]
  },
  {
   "cell_type": "markdown",
   "metadata": {},
   "source": [
    "In this notebook I will be creating a PyTorch LSTM model and compare it with the baseline model I created earlier.\n",
    "\n",
    "### Overview:\n",
    "- Reading the data\n",
    "- Preparing the tensors for the PyTorch Model\n",
    "- Initializing the LSTM model\n",
    "- Training the model with the train dataset\n",
    "- Validating the model using the val dataset\n",
    "- Predict the revenue for customer in test dataset\n",
    "- Visualizing the results\n",
    "- Compare the results with the baseline model\n",
    "- Saving the results to a csv "
   ]
  },
  {
   "cell_type": "markdown",
   "metadata": {},
   "source": [
    "First, import the relevant libraries into notebook"
   ]
  },
  {
   "cell_type": "code",
   "execution_count": 1,
   "metadata": {},
   "outputs": [],
   "source": [
    "import pandas as pd\n",
    "import numpy as np\n",
    "import matplotlib.pyplot as plt\n",
    "import seaborn as sns\n",
    "\n",
    "import sagemaker\n",
    "import boto3\n",
    "\n",
    "from os import path\n",
    "from sklearn.metrics import mean_squared_error\n",
    "\n",
    "%matplotlib inline\n",
    "pd.set_option('display.float_format', lambda x: '%.10f' % x)"
   ]
  },
  {
   "cell_type": "code",
   "execution_count": 2,
   "metadata": {},
   "outputs": [
    {
     "name": "stdout",
     "output_type": "stream",
     "text": [
      "sagemaker-us-east-1-201308845573\n"
     ]
    }
   ],
   "source": [
    "# session and role\n",
    "sagemaker_session = sagemaker.Session()\n",
    "role = sagemaker.get_execution_role()\n",
    "\n",
    "bucket = sagemaker_session.default_bucket()\n",
    "\n",
    "prefix = 'sagemaker/capstone-project'\n",
    "\n",
    "print(bucket)"
   ]
  },
  {
   "cell_type": "markdown",
   "metadata": {},
   "source": [
    "Set the various paths for the training, validation, test files and storing the baseline results"
   ]
  },
  {
   "cell_type": "code",
   "execution_count": 3,
   "metadata": {},
   "outputs": [
    {
     "name": "stdout",
     "output_type": "stream",
     "text": [
      "\n",
      "Train file: ../datasets/train.zip\n",
      "\n",
      "Validation file: ../datasets/val.zip\n",
      "\n",
      "Validation Prediction file: ../datasets/lstm_pred_val.zip\n",
      "\n",
      "Test file: ../datasets/test.zip\n",
      "\n",
      "Test Prediction file: ../datasets/lstm_pred_test.zip\n",
      "\n",
      "Important Features file: ../datasets/lstm_importances-01.png\n",
      "\n",
      "Input data S3 Train file: s3://sagemaker-us-east-1-201308845573/sagemaker/capstone-project/train.zip\n",
      "\n",
      "Input data S3 Val file: s3://sagemaker-us-east-1-201308845573/sagemaker/capstone-project/val.zip\n",
      "\n",
      "Input data S3 directory: s3://sagemaker-us-east-1-201308845573/sagemaker/capstone-project\n"
     ]
    }
   ],
   "source": [
    "data_dir = '../datasets'\n",
    "\n",
    "if not path.exists(data_dir):\n",
    "    raise Exception('{} directory not found.'.format(data_dir))\n",
    "\n",
    "train_file = '{}/{}'.format(data_dir, 'train.zip')\n",
    "print('\\nTrain file: {}'.format(train_file))\n",
    "\n",
    "val_file = '{}/{}'.format(data_dir, 'val.zip')\n",
    "print('\\nValidation file: {}'.format(val_file))\n",
    "\n",
    "pred_val_file = '{}/{}'.format(data_dir, 'lstm_pred_val.zip')\n",
    "print('\\nValidation Prediction file: {}'.format(pred_val_file))\n",
    "\n",
    "test_file = '{}/{}'.format(data_dir, 'test.zip')\n",
    "print('\\nTest file: {}'.format(test_file))\n",
    "\n",
    "pred_test_file = '{}/{}'.format(data_dir, 'lstm_pred_test.zip')\n",
    "print('\\nTest Prediction file: {}'.format(pred_test_file))\n",
    "\n",
    "imp_features_file = '{}/{}'.format(data_dir, 'lstm_importances-01.png')\n",
    "print('\\nImportant Features file: {}'.format(imp_features_file))\n",
    "\n",
    "input_s3_train_file = sagemaker_session.upload_data(path=train_file, bucket=bucket, key_prefix=prefix)\n",
    "print('\\nInput data S3 Train file: {}'.format(input_s3_train_file))\n",
    "\n",
    "input_s3_val_file = sagemaker_session.upload_data(path=val_file, bucket=bucket, key_prefix=prefix)\n",
    "print('\\nInput data S3 Val file: {}'.format(input_s3_val_file))\n",
    "\n",
    "input_s3_dir = 's3://{}/{}'.format(bucket, prefix)\n",
    "print('\\nInput data S3 directory: {}'.format(input_s3_dir))\n"
   ]
  },
  {
   "cell_type": "code",
   "execution_count": 4,
   "metadata": {},
   "outputs": [
    {
     "name": "stdout",
     "output_type": "stream",
     "text": [
      "sagemaker/capstone-project/train.zip\n",
      "sagemaker/capstone-project/val.zip\n",
      "\n",
      "Test passed!\n"
     ]
    }
   ],
   "source": [
    "empty_check = []\n",
    "\n",
    "for obj in boto3.resource('s3').Bucket(bucket).objects.all():\n",
    "    empty_check.append(obj.key)\n",
    "    print(obj.key)\n",
    "\n",
    "assert len(empty_check) !=0, 'S3 bucket is empty.'\n",
    "print('\\nTest passed!')"
   ]
  },
  {
   "cell_type": "markdown",
   "metadata": {},
   "source": [
    "Method to load the dataset from the files"
   ]
  },
  {
   "cell_type": "code",
   "execution_count": 5,
   "metadata": {},
   "outputs": [],
   "source": [
    "def load_data(zip_path):\n",
    "    df = pd.read_csv(\n",
    "        zip_path,\n",
    "        dtype={'fullVisitorId': 'str'},\n",
    "        compression='zip'\n",
    "    )\n",
    "    \n",
    "    [rows, columns] = df.shape\n",
    "\n",
    "    print('Loaded {} rows with {} columns from {}.'.format(\n",
    "        rows, columns, zip_path\n",
    "    ))\n",
    "    \n",
    "    return df"
   ]
  },
  {
   "cell_type": "markdown",
   "metadata": {},
   "source": [
    "Load the train, validation and test datasets."
   ]
  },
  {
   "cell_type": "code",
   "execution_count": 6,
   "metadata": {},
   "outputs": [
    {
     "name": "stdout",
     "output_type": "stream",
     "text": [
      "Loaded 765707 rows with 13 columns from ../datasets/train.zip.\n",
      "Loaded 137946 rows with 13 columns from ../datasets/val.zip.\n",
      "Loaded 804684 rows with 12 columns from ../datasets/test.zip.\n",
      "\n",
      "CPU times: user 4.85 s, sys: 247 ms, total: 5.09 s\n",
      "Wall time: 4.89 s\n"
     ]
    }
   ],
   "source": [
    "%%time\n",
    "\n",
    "train_df = load_data(train_file)\n",
    "val_df = load_data(val_file)\n",
    "test_df = load_data(test_file)\n",
    "\n",
    "print()"
   ]
  },
  {
   "cell_type": "code",
   "execution_count": 9,
   "metadata": {},
   "outputs": [
    {
     "data": {
      "text/plain": [
       "torch.Size([765440, 1, 11])"
      ]
     },
     "execution_count": 9,
     "metadata": {},
     "output_type": "execute_result"
    }
   ],
   "source": [
    "# remove this at the end\n",
    "\n",
    "import torch\n",
    "\n",
    "train_df.head()\n",
    "\n",
    "total_rows = train_df.shape[0] - (train_df.shape[0] % 512)\n",
    "\n",
    "train_df = train_df.iloc[:total_rows]\n",
    "\n",
    "train_y = np.log1p(train_df['totals.transactionRevenue'].values)\n",
    "train_y = torch.from_numpy(train_y).float().squeeze()\n",
    "\n",
    "train_X = train_df.drop(['totals.transactionRevenue', 'fullVisitorId'], axis=1).values\n",
    "train_X = torch.from_numpy(train_X).float()\n",
    "\n",
    "train_X = train_X.reshape(train_X.shape[0], 1, train_X.shape[1])\n",
    "\n",
    "train_X.shape\n",
    "\n",
    "train_df.head()\n",
    "\n",
    "train_X.shape"
   ]
  },
  {
   "cell_type": "code",
   "execution_count": 16,
   "metadata": {},
   "outputs": [],
   "source": [
    "from sagemaker.pytorch import PyTorch\n",
    "\n",
    "output_path = 's3://{}/{}'.format(bucket, prefix)\n",
    "\n",
    "estimator = PyTorch(\n",
    "    entry_point='lstm_train.py',\n",
    "    source_dir='../models/pytorch/',\n",
    "    role=role,\n",
    "    output_path=output_path,\n",
    "    sagemaker_session=sagemaker_session,\n",
    "    framework_version='1.2',\n",
    "    train_instance_count=1,\n",
    "    train_instance_type='ml.m4.xlarge',\n",
    "    hyperparameters={\n",
    "        'input_dim': 11,\n",
    "        'n_layers': 2,\n",
    "        'batch-size': 128,\n",
    "        'hidden_dim': 256\n",
    "    }\n",
    ")"
   ]
  },
  {
   "cell_type": "code",
   "execution_count": 17,
   "metadata": {},
   "outputs": [
    {
     "name": "stdout",
     "output_type": "stream",
     "text": [
      "2020-01-31 02:15:02 Starting - Starting the training job...\n",
      "2020-01-31 02:15:04 Starting - Launching requested ML instances......\n",
      "2020-01-31 02:16:08 Starting - Preparing the instances for training............\n",
      "2020-01-31 02:18:22 Downloading - Downloading input data......\n",
      "2020-01-31 02:19:17 Training - Downloading the training image..\u001b[34mbash: cannot set terminal process group (-1): Inappropriate ioctl for device\u001b[0m\n",
      "\u001b[34mbash: no job control in this shell\u001b[0m\n",
      "\u001b[34m2020-01-31 02:19:39,790 sagemaker-containers INFO     Imported framework sagemaker_pytorch_container.training\u001b[0m\n",
      "\u001b[34m2020-01-31 02:19:39,793 sagemaker-containers INFO     No GPUs detected (normal if no gpus installed)\u001b[0m\n",
      "\u001b[34m2020-01-31 02:19:39,806 sagemaker_pytorch_container.training INFO     Block until all host DNS lookups succeed.\u001b[0m\n",
      "\u001b[34m2020-01-31 02:19:42,856 sagemaker_pytorch_container.training INFO     Invoking user training script.\u001b[0m\n",
      "\u001b[34m2020-01-31 02:19:43,103 sagemaker-containers INFO     Module lstm_train does not provide a setup.py. \u001b[0m\n",
      "\u001b[34mGenerating setup.py\u001b[0m\n",
      "\u001b[34m2020-01-31 02:19:43,103 sagemaker-containers INFO     Generating setup.cfg\u001b[0m\n",
      "\u001b[34m2020-01-31 02:19:43,103 sagemaker-containers INFO     Generating MANIFEST.in\u001b[0m\n",
      "\u001b[34m2020-01-31 02:19:43,103 sagemaker-containers INFO     Installing module with the following command:\u001b[0m\n",
      "\u001b[34m/opt/conda/bin/python -m pip install . \u001b[0m\n",
      "\u001b[34mProcessing /opt/ml/code\u001b[0m\n",
      "\u001b[34mBuilding wheels for collected packages: lstm-train\n",
      "  Building wheel for lstm-train (setup.py): started\u001b[0m\n",
      "\u001b[34m  Building wheel for lstm-train (setup.py): finished with status 'done'\n",
      "  Created wheel for lstm-train: filename=lstm_train-1.0.0-py2.py3-none-any.whl size=12181 sha256=db6412ade97b139d9fd20e182b49c9ff3d3f5c23e5152c13775aaa2bec4e0506\n",
      "  Stored in directory: /tmp/pip-ephem-wheel-cache-i3byml9v/wheels/35/24/16/37574d11bf9bde50616c67372a334f94fa8356bc7164af8ca3\u001b[0m\n",
      "\u001b[34mSuccessfully built lstm-train\u001b[0m\n",
      "\u001b[34mInstalling collected packages: lstm-train\u001b[0m\n",
      "\u001b[34mSuccessfully installed lstm-train-1.0.0\u001b[0m\n",
      "\u001b[34mWARNING: You are using pip version 19.3; however, version 20.0.2 is available.\u001b[0m\n",
      "\u001b[34mYou should consider upgrading via the 'pip install --upgrade pip' command.\u001b[0m\n",
      "\u001b[34m2020-01-31 02:19:45,032 sagemaker-containers INFO     No GPUs detected (normal if no gpus installed)\u001b[0m\n",
      "\u001b[34m2020-01-31 02:19:45,046 sagemaker-containers INFO     Invoking user script\n",
      "\u001b[0m\n",
      "\u001b[34mTraining Env:\n",
      "\u001b[0m\n",
      "\u001b[34m{\n",
      "    \"additional_framework_parameters\": {},\n",
      "    \"channel_input_dirs\": {\n",
      "        \"train\": \"/opt/ml/input/data/train\"\n",
      "    },\n",
      "    \"current_host\": \"algo-1\",\n",
      "    \"framework_module\": \"sagemaker_pytorch_container.training:main\",\n",
      "    \"hosts\": [\n",
      "        \"algo-1\"\n",
      "    ],\n",
      "    \"hyperparameters\": {\n",
      "        \"batch-size\": 128,\n",
      "        \"input_dim\": 11,\n",
      "        \"hidden_dim\": 256,\n",
      "        \"n_layers\": 2\n",
      "    },\n",
      "    \"input_config_dir\": \"/opt/ml/input/config\",\n",
      "    \"input_data_config\": {\n",
      "        \"train\": {\n",
      "            \"TrainingInputMode\": \"File\",\n",
      "            \"S3DistributionType\": \"FullyReplicated\",\n",
      "            \"RecordWrapperType\": \"None\"\n",
      "        }\n",
      "    },\n",
      "    \"input_dir\": \"/opt/ml/input\",\n",
      "    \"is_master\": true,\n",
      "    \"job_name\": \"pytorch-training-2020-01-31-02-15-01-816\",\n",
      "    \"log_level\": 20,\n",
      "    \"master_hostname\": \"algo-1\",\n",
      "    \"model_dir\": \"/opt/ml/model\",\n",
      "    \"module_dir\": \"s3://sagemaker-us-east-1-201308845573/pytorch-training-2020-01-31-02-15-01-816/source/sourcedir.tar.gz\",\n",
      "    \"module_name\": \"lstm_train\",\n",
      "    \"network_interface_name\": \"eth0\",\n",
      "    \"num_cpus\": 4,\n",
      "    \"num_gpus\": 0,\n",
      "    \"output_data_dir\": \"/opt/ml/output/data\",\n",
      "    \"output_dir\": \"/opt/ml/output\",\n",
      "    \"output_intermediate_dir\": \"/opt/ml/output/intermediate\",\n",
      "    \"resource_config\": {\n",
      "        \"current_host\": \"algo-1\",\n",
      "        \"hosts\": [\n",
      "            \"algo-1\"\n",
      "        ],\n",
      "        \"network_interface_name\": \"eth0\"\n",
      "    },\n",
      "    \"user_entry_point\": \"lstm_train.py\"\u001b[0m\n",
      "\u001b[34m}\n",
      "\u001b[0m\n",
      "\u001b[34mEnvironment variables:\n",
      "\u001b[0m\n",
      "\u001b[34mSM_HOSTS=[\"algo-1\"]\u001b[0m\n",
      "\u001b[34mSM_NETWORK_INTERFACE_NAME=eth0\u001b[0m\n",
      "\u001b[34mSM_HPS={\"batch-size\":128,\"hidden_dim\":256,\"input_dim\":11,\"n_layers\":2}\u001b[0m\n",
      "\u001b[34mSM_USER_ENTRY_POINT=lstm_train.py\u001b[0m\n",
      "\u001b[34mSM_FRAMEWORK_PARAMS={}\u001b[0m\n",
      "\u001b[34mSM_RESOURCE_CONFIG={\"current_host\":\"algo-1\",\"hosts\":[\"algo-1\"],\"network_interface_name\":\"eth0\"}\u001b[0m\n",
      "\u001b[34mSM_INPUT_DATA_CONFIG={\"train\":{\"RecordWrapperType\":\"None\",\"S3DistributionType\":\"FullyReplicated\",\"TrainingInputMode\":\"File\"}}\u001b[0m\n",
      "\u001b[34mSM_OUTPUT_DATA_DIR=/opt/ml/output/data\u001b[0m\n",
      "\u001b[34mSM_CHANNELS=[\"train\"]\u001b[0m\n",
      "\u001b[34mSM_CURRENT_HOST=algo-1\u001b[0m\n",
      "\u001b[34mSM_MODULE_NAME=lstm_train\u001b[0m\n",
      "\u001b[34mSM_LOG_LEVEL=20\u001b[0m\n",
      "\u001b[34mSM_FRAMEWORK_MODULE=sagemaker_pytorch_container.training:main\u001b[0m\n",
      "\u001b[34mSM_INPUT_DIR=/opt/ml/input\u001b[0m\n",
      "\u001b[34mSM_INPUT_CONFIG_DIR=/opt/ml/input/config\u001b[0m\n",
      "\u001b[34mSM_OUTPUT_DIR=/opt/ml/output\u001b[0m\n",
      "\u001b[34mSM_NUM_CPUS=4\u001b[0m\n",
      "\u001b[34mSM_NUM_GPUS=0\u001b[0m\n",
      "\u001b[34mSM_MODEL_DIR=/opt/ml/model\u001b[0m\n",
      "\u001b[34mSM_MODULE_DIR=s3://sagemaker-us-east-1-201308845573/pytorch-training-2020-01-31-02-15-01-816/source/sourcedir.tar.gz\u001b[0m\n",
      "\u001b[34mSM_TRAINING_ENV={\"additional_framework_parameters\":{},\"channel_input_dirs\":{\"train\":\"/opt/ml/input/data/train\"},\"current_host\":\"algo-1\",\"framework_module\":\"sagemaker_pytorch_container.training:main\",\"hosts\":[\"algo-1\"],\"hyperparameters\":{\"batch-size\":128,\"hidden_dim\":256,\"input_dim\":11,\"n_layers\":2},\"input_config_dir\":\"/opt/ml/input/config\",\"input_data_config\":{\"train\":{\"RecordWrapperType\":\"None\",\"S3DistributionType\":\"FullyReplicated\",\"TrainingInputMode\":\"File\"}},\"input_dir\":\"/opt/ml/input\",\"is_master\":true,\"job_name\":\"pytorch-training-2020-01-31-02-15-01-816\",\"log_level\":20,\"master_hostname\":\"algo-1\",\"model_dir\":\"/opt/ml/model\",\"module_dir\":\"s3://sagemaker-us-east-1-201308845573/pytorch-training-2020-01-31-02-15-01-816/source/sourcedir.tar.gz\",\"module_name\":\"lstm_train\",\"network_interface_name\":\"eth0\",\"num_cpus\":4,\"num_gpus\":0,\"output_data_dir\":\"/opt/ml/output/data\",\"output_dir\":\"/opt/ml/output\",\"output_intermediate_dir\":\"/opt/ml/output/intermediate\",\"resource_config\":{\"current_host\":\"algo-1\",\"hosts\":[\"algo-1\"],\"network_interface_name\":\"eth0\"},\"user_entry_point\":\"lstm_train.py\"}\u001b[0m\n",
      "\u001b[34mSM_USER_ARGS=[\"--batch-size\",\"128\",\"--hidden_dim\",\"256\",\"--input_dim\",\"11\",\"--n_layers\",\"2\"]\u001b[0m\n",
      "\u001b[34mSM_OUTPUT_INTERMEDIATE_DIR=/opt/ml/output/intermediate\u001b[0m\n",
      "\u001b[34mSM_CHANNEL_TRAIN=/opt/ml/input/data/train\u001b[0m\n",
      "\u001b[34mSM_HP_BATCH-SIZE=128\u001b[0m\n",
      "\u001b[34mSM_HP_INPUT_DIM=11\u001b[0m\n",
      "\u001b[34mSM_HP_HIDDEN_DIM=256\u001b[0m\n",
      "\u001b[34mSM_HP_N_LAYERS=2\u001b[0m\n",
      "\u001b[34mPYTHONPATH=/opt/conda/bin:/opt/conda/lib/python36.zip:/opt/conda/lib/python3.6:/opt/conda/lib/python3.6/lib-dynload:/opt/conda/lib/python3.6/site-packages\n",
      "\u001b[0m\n",
      "\u001b[34mInvoking script with the following command:\n",
      "\u001b[0m\n",
      "\u001b[34m/opt/conda/bin/python -m lstm_train --batch-size 128 --hidden_dim 256 --input_dim 11 --n_layers 2\n",
      "\n",
      "\u001b[0m\n",
      "\u001b[34mUsing device cpu.\u001b[0m\n",
      "\u001b[34mGet data loader from /opt/ml/input/data/train/train.zip.\u001b[0m\n",
      "\u001b[34mGet data loader from /opt/ml/input/data/train/val.zip.\u001b[0m\n",
      "\u001b[34mModel loaded with input_dim 11, hidden_dim 256, outout_dim: 1,             n_layers 2.\u001b[0m\n",
      "\n",
      "2020-01-31 02:19:39 Training - Training image download completed. Training in progress.\u001b[34mEpoch: 1/10... Step: 500... Loss: 0.0664879455... Val Loss: 0.8187724500\u001b[0m\n",
      "\u001b[34mEpoch: 1/10... Step: 1000... Loss: 0.1241075801... Val Loss: 0.8187724500\u001b[0m\n",
      "\u001b[34mEpoch: 1/10... Step: 1500... Loss: 0.1801167719... Val Loss: 0.8187724500\u001b[0m\n",
      "\u001b[34mEpoch: 1/10... Step: 2000... Loss: 0.2342568336... Val Loss: 0.8187724500\u001b[0m\n",
      "\u001b[34mEpoch: 1/10... Step: 2500... Loss: 0.2957895651... Val Loss: 0.8187724500\u001b[0m\n",
      "\u001b[34mEpoch: 1/10... Step: 3000... Loss: 0.3601780526... Val Loss: 0.8187724500\u001b[0m\n",
      "\u001b[34mEpoch: 1/10... Step: 3500... Loss: 0.4258622611... Val Loss: 0.8187724500\u001b[0m\n",
      "\u001b[34mEpoch: 1/10... Step: 4000... Loss: 0.4852579136... Val Loss: 0.8187724500\u001b[0m\n",
      "\u001b[34mEpoch: 1/10... Step: 4500... Loss: 0.5470448573... Val Loss: 0.8187724500\u001b[0m\n",
      "\u001b[34mEpoch: 1/10... Step: 5000... Loss: 0.6086958655... Val Loss: 0.8187724500\u001b[0m\n",
      "\u001b[34mEpoch: 1/10... Step: 5500... Loss: 0.6655922801... Val Loss: 0.8187724500\u001b[0m\n",
      "\u001b[34mEpoch: 2/10... Step: 6000... Loss: 0.0026588174... Val Loss: 0.8187724500\u001b[0m\n",
      "\u001b[34mEpoch: 2/10... Step: 6500... Loss: 0.0705166978... Val Loss: 0.8187724500\u001b[0m\n",
      "\u001b[34mEpoch: 2/10... Step: 7000... Loss: 0.1246813881... Val Loss: 0.8187724500\u001b[0m\n"
     ]
    },
    {
     "name": "stdout",
     "output_type": "stream",
     "text": [
      "\u001b[34mEpoch: 2/10... Step: 7500... Loss: 0.1801167719... Val Loss: 0.8187724500\u001b[0m\n",
      "\u001b[34mEpoch: 2/10... Step: 8000... Loss: 0.2342568336... Val Loss: 0.8187724500\u001b[0m\n",
      "\u001b[34mEpoch: 2/10... Step: 8500... Loss: 0.2957895651... Val Loss: 0.8187724500\u001b[0m\n",
      "\u001b[34mEpoch: 2/10... Step: 9000... Loss: 0.3615640546... Val Loss: 0.8187724500\u001b[0m\n",
      "\u001b[34mEpoch: 2/10... Step: 9500... Loss: 0.4274380722... Val Loss: 0.8187724500\u001b[0m\n",
      "\u001b[34mEpoch: 2/10... Step: 10000... Loss: 0.4865137307... Val Loss: 0.8187724500\u001b[0m\n",
      "\u001b[34mEpoch: 2/10... Step: 10500... Loss: 0.5526766313... Val Loss: 0.8187724500\u001b[0m\n",
      "\u001b[34mEpoch: 2/10... Step: 11000... Loss: 0.6086958655... Val Loss: 0.8187724500\u001b[0m\n",
      "\u001b[34mEpoch: 2/10... Step: 11500... Loss: 0.6683590429... Val Loss: 0.8187724500\u001b[0m\n",
      "\u001b[34mEpoch: 3/10... Step: 12000... Loss: 0.0049414991... Val Loss: 0.8187724500\u001b[0m\n",
      "\u001b[34mEpoch: 3/10... Step: 12500... Loss: 0.0705166978... Val Loss: 0.8187724500\u001b[0m\n",
      "\u001b[34mEpoch: 3/10... Step: 13000... Loss: 0.1271369366... Val Loss: 0.8187724500\u001b[0m\n",
      "\u001b[34mEpoch: 3/10... Step: 13500... Loss: 0.1842632822... Val Loss: 0.8187724500\u001b[0m\n",
      "\u001b[34mEpoch: 3/10... Step: 14000... Loss: 0.2386086643... Val Loss: 0.8187724500\u001b[0m\n",
      "\u001b[34mEpoch: 3/10... Step: 14500... Loss: 0.2981935779... Val Loss: 0.8187724500\u001b[0m\n",
      "\u001b[34mEpoch: 3/10... Step: 15000... Loss: 0.3627457438... Val Loss: 0.8187724500\u001b[0m\n",
      "\u001b[34mEpoch: 3/10... Step: 15500... Loss: 0.4284598301... Val Loss: 0.8187724500\u001b[0m\n",
      "\u001b[34mEpoch: 3/10... Step: 16000... Loss: 0.4877221478... Val Loss: 0.8187724500\u001b[0m\n",
      "\u001b[34mEpoch: 3/10... Step: 16500... Loss: 0.5526766313... Val Loss: 0.8187724500\u001b[0m\n",
      "\u001b[34mEpoch: 3/10... Step: 17000... Loss: 0.6101651497... Val Loss: 0.8187724500\u001b[0m\n",
      "\u001b[34mEpoch: 3/10... Step: 17500... Loss: 0.6686106547... Val Loss: 0.8187724500\u001b[0m\n",
      "\u001b[34mEpoch: 4/10... Step: 18000... Loss: 0.0060667056... Val Loss: 0.8187724500\u001b[0m\n",
      "\u001b[34mEpoch: 4/10... Step: 18500... Loss: 0.0712652223... Val Loss: 0.8187724500\u001b[0m\n",
      "\u001b[34mEpoch: 4/10... Step: 19000... Loss: 0.1280133967... Val Loss: 0.8187724500\u001b[0m\n",
      "\u001b[34mEpoch: 4/10... Step: 19500... Loss: 0.1854050758... Val Loss: 0.8187724500\u001b[0m\n",
      "\u001b[34mEpoch: 4/10... Step: 20000... Loss: 0.2408172513... Val Loss: 0.8187724500\u001b[0m\n",
      "\u001b[34mEpoch: 4/10... Step: 20500... Loss: 0.3048373008... Val Loss: 0.8187724500\u001b[0m\n",
      "\u001b[34mEpoch: 4/10... Step: 21000... Loss: 0.3627457438... Val Loss: 0.8187724500\u001b[0m\n",
      "\u001b[34mEpoch: 4/10... Step: 21500... Loss: 0.4314463460... Val Loss: 0.8187724500\u001b[0m\n",
      "\u001b[34mEpoch: 4/10... Step: 22000... Loss: 0.4894508154... Val Loss: 0.8187724500\u001b[0m\n",
      "\u001b[34mEpoch: 4/10... Step: 22500... Loss: 0.5548174535... Val Loss: 0.8187724500\u001b[0m\n",
      "\u001b[34mEpoch: 4/10... Step: 23000... Loss: 0.6122952878... Val Loss: 0.8187724500\u001b[0m\n",
      "\u001b[34mEpoch: 4/10... Step: 23500... Loss: 0.6713194442... Val Loss: 0.8187724500\u001b[0m\n",
      "\u001b[34mEpoch: 5/10... Step: 24000... Loss: 0.0080256694... Val Loss: 0.8187724500\u001b[0m\n",
      "\u001b[34mEpoch: 5/10... Step: 24500... Loss: 0.0757007984... Val Loss: 0.8187724500\u001b[0m\n",
      "\u001b[34mEpoch: 5/10... Step: 25000... Loss: 0.1303269504... Val Loss: 0.8187724500\u001b[0m\n",
      "\u001b[34mEpoch: 5/10... Step: 25500... Loss: 0.1868553945... Val Loss: 0.8187724500\u001b[0m\n",
      "\u001b[34mEpoch: 5/10... Step: 26000... Loss: 0.2423786030... Val Loss: 0.8187724500\u001b[0m\n",
      "\u001b[34mEpoch: 5/10... Step: 26500... Loss: 0.3050918335... Val Loss: 0.8187724500\u001b[0m\n",
      "\u001b[34mEpoch: 5/10... Step: 27000... Loss: 0.3690109859... Val Loss: 0.8187724500\u001b[0m\n",
      "\u001b[34mEpoch: 5/10... Step: 27500... Loss: 0.4343306580... Val Loss: 0.8187724500\u001b[0m\n",
      "\u001b[34mEpoch: 5/10... Step: 28000... Loss: 0.4901399918... Val Loss: 0.8187724500\u001b[0m\n",
      "\u001b[34mEpoch: 5/10... Step: 28500... Loss: 0.5565612239... Val Loss: 0.8187724500\u001b[0m\n",
      "\u001b[34mEpoch: 5/10... Step: 29000... Loss: 0.6133952082... Val Loss: 0.8187724500\u001b[0m\n",
      "\u001b[34mEpoch: 5/10... Step: 29500... Loss: 0.6730763407... Val Loss: 0.8187724500\u001b[0m\n",
      "\u001b[34mEpoch: 6/10... Step: 30000... Loss: 0.0113603910... Val Loss: 0.8187724500\u001b[0m\n",
      "\u001b[34mEpoch: 6/10... Step: 30500... Loss: 0.0757007984... Val Loss: 0.8187724500\u001b[0m\n",
      "\u001b[34mEpoch: 6/10... Step: 31000... Loss: 0.1321486232... Val Loss: 0.8187724500\u001b[0m\n",
      "\u001b[34mEpoch: 6/10... Step: 31500... Loss: 0.1885359136... Val Loss: 0.8187724500\u001b[0m\n",
      "\u001b[34mEpoch: 6/10... Step: 32000... Loss: 0.2449220809... Val Loss: 0.8187724500\u001b[0m\n",
      "\u001b[34mEpoch: 6/10... Step: 32500... Loss: 0.3072375710... Val Loss: 0.8187724500\u001b[0m\n",
      "\u001b[34mEpoch: 6/10... Step: 33000... Loss: 0.3729261948... Val Loss: 0.8187724500\u001b[0m\n",
      "\u001b[34mEpoch: 6/10... Step: 33500... Loss: 0.4343306580... Val Loss: 0.8187724500\u001b[0m\n",
      "\u001b[34mEpoch: 6/10... Step: 34000... Loss: 0.4952515364... Val Loss: 0.8187724500\u001b[0m\n",
      "\u001b[34mEpoch: 6/10... Step: 34500... Loss: 0.5606765144... Val Loss: 0.8187724500\u001b[0m\n",
      "\u001b[34mEpoch: 6/10... Step: 35000... Loss: 0.6155883099... Val Loss: 0.8187724500\u001b[0m\n",
      "\u001b[34mEpoch: 6/10... Step: 35500... Loss: 0.6748563539... Val Loss: 0.8187724500\u001b[0m\n",
      "\u001b[34mEpoch: 7/10... Step: 36000... Loss: 0.0126816509... Val Loss: 0.8187724500\u001b[0m\n",
      "\u001b[34mEpoch: 7/10... Step: 36500... Loss: 0.0762361253... Val Loss: 0.8187724500\u001b[0m\n",
      "\u001b[34mEpoch: 7/10... Step: 37000... Loss: 0.1337359172... Val Loss: 0.8187724500\u001b[0m\n",
      "\u001b[34mEpoch: 7/10... Step: 37500... Loss: 0.1904422915... Val Loss: 0.8187724500\u001b[0m\n",
      "\u001b[34mEpoch: 7/10... Step: 38000... Loss: 0.2470619306... Val Loss: 0.8187724500\u001b[0m\n",
      "\u001b[34mEpoch: 7/10... Step: 38500... Loss: 0.3102677086... Val Loss: 0.8187724500\u001b[0m\n",
      "\u001b[34mEpoch: 7/10... Step: 39000... Loss: 0.3754790727... Val Loss: 0.8187724500\u001b[0m\n",
      "\u001b[34mEpoch: 7/10... Step: 39500... Loss: 0.4369044522... Val Loss: 0.8187724500\u001b[0m\n",
      "\u001b[34mEpoch: 7/10... Step: 40000... Loss: 0.4952515364... Val Loss: 0.8187724500\u001b[0m\n",
      "\u001b[34mEpoch: 7/10... Step: 40500... Loss: 0.5647899810... Val Loss: 0.8187724500\u001b[0m\n",
      "\u001b[34mEpoch: 7/10... Step: 41000... Loss: 0.6168871058... Val Loss: 0.8187724500\u001b[0m\n",
      "\u001b[34mEpoch: 7/10... Step: 41500... Loss: 0.6756917499... Val Loss: 0.8187724500\u001b[0m\n",
      "\u001b[34mEpoch: 8/10... Step: 42000... Loss: 0.0141772559... Val Loss: 0.8187724500\u001b[0m\n",
      "\u001b[34mEpoch: 8/10... Step: 42500... Loss: 0.0810232320... Val Loss: 0.8187724500\u001b[0m\n",
      "\u001b[34mEpoch: 8/10... Step: 43000... Loss: 0.1360056404... Val Loss: 0.8187724500\u001b[0m\n",
      "\u001b[34mEpoch: 8/10... Step: 43500... Loss: 0.1941593079... Val Loss: 0.8187724500\u001b[0m\n",
      "\u001b[34mEpoch: 8/10... Step: 44000... Loss: 0.2509874607... Val Loss: 0.8187724500\u001b[0m\n",
      "\u001b[34mEpoch: 8/10... Step: 44500... Loss: 0.3126792798... Val Loss: 0.8187724500\u001b[0m\n",
      "\u001b[34mEpoch: 8/10... Step: 45000... Loss: 0.3760854335... Val Loss: 0.8187724500\u001b[0m\n",
      "\u001b[34mEpoch: 8/10... Step: 45500... Loss: 0.4397494605... Val Loss: 0.8187724500\u001b[0m\n",
      "\u001b[34mEpoch: 8/10... Step: 46000... Loss: 0.4997217459... Val Loss: 0.8187724500\u001b[0m\n",
      "\u001b[34mEpoch: 8/10... Step: 46500... Loss: 0.5677773935... Val Loss: 0.8187724500\u001b[0m\n",
      "\u001b[34mEpoch: 8/10... Step: 47000... Loss: 0.6200338729... Val Loss: 0.8187724500\u001b[0m\n",
      "\u001b[34mEpoch: 8/10... Step: 47500... Loss: 0.6816911623... Val Loss: 0.8187724500\u001b[0m\n",
      "\u001b[34mEpoch: 9/10... Step: 48000... Loss: 0.0170137796... Val Loss: 0.8187724500\u001b[0m\n",
      "\u001b[34mEpoch: 9/10... Step: 48500... Loss: 0.0814240124... Val Loss: 0.8187724500\u001b[0m\n",
      "\u001b[34mEpoch: 9/10... Step: 49000... Loss: 0.1360056404... Val Loss: 0.8187724500\u001b[0m\n",
      "\u001b[34mEpoch: 9/10... Step: 49500... Loss: 0.1970501336... Val Loss: 0.8187724500\u001b[0m\n",
      "\u001b[34mEpoch: 9/10... Step: 50000... Loss: 0.2516450354... Val Loss: 0.8187724500\u001b[0m\n",
      "\u001b[34mEpoch: 9/10... Step: 50500... Loss: 0.3126792798... Val Loss: 0.8187724500\u001b[0m\n",
      "\u001b[34mEpoch: 9/10... Step: 51000... Loss: 0.3773197944... Val Loss: 0.8187724500\u001b[0m\n",
      "\u001b[34mEpoch: 9/10... Step: 51500... Loss: 0.4408931081... Val Loss: 0.8187724500\u001b[0m\n",
      "\u001b[34mEpoch: 9/10... Step: 52000... Loss: 0.5004622742... Val Loss: 0.8187724500\u001b[0m\n",
      "\u001b[34mEpoch: 9/10... Step: 52500... Loss: 0.5677773935... Val Loss: 0.8187724500\u001b[0m\n",
      "\u001b[34mEpoch: 9/10... Step: 53000... Loss: 0.6237993791... Val Loss: 0.8187724500\u001b[0m\n",
      "\u001b[34mEpoch: 9/10... Step: 53500... Loss: 0.6819779445... Val Loss: 0.8187724500\u001b[0m\n",
      "\u001b[34mEpoch: 10/10... Step: 54000... Loss: 0.0193121852... Val Loss: 0.8187724500\u001b[0m\n",
      "\u001b[34mEpoch: 10/10... Step: 54500... Loss: 0.0828883251... Val Loss: 0.8187724500\u001b[0m\n",
      "\u001b[34mEpoch: 10/10... Step: 55000... Loss: 0.1393578169... Val Loss: 0.8187724500\u001b[0m\n",
      "\u001b[34mEpoch: 10/10... Step: 55500... Loss: 0.1970501336... Val Loss: 0.8187724500\u001b[0m\n",
      "\u001b[34mEpoch: 10/10... Step: 56000... Loss: 0.2541171282... Val Loss: 0.8187724500\u001b[0m\n"
     ]
    },
    {
     "name": "stdout",
     "output_type": "stream",
     "text": [
      "\u001b[34mEpoch: 10/10... Step: 56500... Loss: 0.3152064804... Val Loss: 0.8187724500\u001b[0m\n",
      "\u001b[34mEpoch: 10/10... Step: 57000... Loss: 0.3814928152... Val Loss: 0.8187724500\u001b[0m\n",
      "\u001b[34mEpoch: 10/10... Step: 57500... Loss: 0.4437299723... Val Loss: 0.8187724500\u001b[0m\n",
      "\u001b[34mEpoch: 10/10... Step: 58000... Loss: 0.5035883236... Val Loss: 0.8187724500\u001b[0m\n",
      "\u001b[34mEpoch: 10/10... Step: 58500... Loss: 0.5688338405... Val Loss: 0.8187724500\u001b[0m\n",
      "\u001b[34mEpoch: 10/10... Step: 59000... Loss: 0.6241497574... Val Loss: 0.8187724500\u001b[0m\n",
      "\u001b[34mEpoch: 10/10... Step: 59500... Loss: 0.6860992922... Val Loss: 0.8187724500\u001b[0m\n",
      "\u001b[34m2020-01-31 02:49:01,516 sagemaker-containers INFO     Reporting training SUCCESS\u001b[0m\n",
      "\n",
      "2020-01-31 02:49:12 Uploading - Uploading generated training model\n",
      "2020-01-31 02:49:12 Completed - Training job completed\n",
      "Training seconds: 1850\n",
      "Billable seconds: 1850\n"
     ]
    }
   ],
   "source": [
    "estimator.fit({'train': input_s3_dir})"
   ]
  },
  {
   "cell_type": "code",
   "execution_count": null,
   "metadata": {},
   "outputs": [
    {
     "name": "stdout",
     "output_type": "stream",
     "text": [
      "-------------------"
     ]
    }
   ],
   "source": [
    "from sagemaker.pytorch import PyTorchModel\n",
    "\n",
    "model = PyTorchModel(\n",
    "    model_data=estimator.model_data,\n",
    "    role=role,\n",
    "    framework_version='1.2',\n",
    "    entry_point='lstm_predict.py',\n",
    "    source_dir='../models/pytorch'\n",
    ")\n",
    "\n",
    "predictor = model.deploy(initial_instance_count=1, instance_type='ml.m4.xlarge')"
   ]
  },
  {
   "cell_type": "code",
   "execution_count": 13,
   "metadata": {},
   "outputs": [],
   "source": [
    "def get_batches(dataset, size=1024):\n",
    "    for i in range(0, len(dataset), size):  \n",
    "        yield dataset[i:(i + size)]\n",
    "        \n",
    "def predict_batch(predictor, dataset):\n",
    "    pred_arr = np.array([])\n",
    "    \n",
    "    for next_batch in get_batches(dataset):\n",
    "        temp_pred = predictor.predict(next_batch)\n",
    "        \n",
    "        pred_arr = np.append(pred_arr, temp_pred)\n",
    "    \n",
    "    return pred_arr"
   ]
  },
  {
   "cell_type": "code",
   "execution_count": 14,
   "metadata": {
    "scrolled": true
   },
   "outputs": [
    {
     "data": {
      "text/html": [
       "<div>\n",
       "<style scoped>\n",
       "    .dataframe tbody tr th:only-of-type {\n",
       "        vertical-align: middle;\n",
       "    }\n",
       "\n",
       "    .dataframe tbody tr th {\n",
       "        vertical-align: top;\n",
       "    }\n",
       "\n",
       "    .dataframe thead th {\n",
       "        text-align: right;\n",
       "    }\n",
       "</style>\n",
       "<table border=\"1\" class=\"dataframe\">\n",
       "  <thead>\n",
       "    <tr style=\"text-align: right;\">\n",
       "      <th></th>\n",
       "      <th>fullVisitorId</th>\n",
       "      <th>transactionRevenue</th>\n",
       "      <th>predictedRevenue</th>\n",
       "    </tr>\n",
       "  </thead>\n",
       "  <tbody>\n",
       "    <tr>\n",
       "      <th>0</th>\n",
       "      <td>0000062267706107999</td>\n",
       "      <td>0.0000000000</td>\n",
       "      <td>0.0000000000</td>\n",
       "    </tr>\n",
       "    <tr>\n",
       "      <th>1</th>\n",
       "      <td>0000085059828173212</td>\n",
       "      <td>0.0000000000</td>\n",
       "      <td>0.0000000000</td>\n",
       "    </tr>\n",
       "    <tr>\n",
       "      <th>2</th>\n",
       "      <td>000026722803385797</td>\n",
       "      <td>0.0000000000</td>\n",
       "      <td>0.0000000000</td>\n",
       "    </tr>\n",
       "    <tr>\n",
       "      <th>3</th>\n",
       "      <td>0000436683523507380</td>\n",
       "      <td>0.0000000000</td>\n",
       "      <td>0.0000000000</td>\n",
       "    </tr>\n",
       "    <tr>\n",
       "      <th>4</th>\n",
       "      <td>0000450371054833295</td>\n",
       "      <td>0.0000000000</td>\n",
       "      <td>0.0000000000</td>\n",
       "    </tr>\n",
       "  </tbody>\n",
       "</table>\n",
       "</div>"
      ],
      "text/plain": [
       "         fullVisitorId  transactionRevenue  predictedRevenue\n",
       "0  0000062267706107999        0.0000000000      0.0000000000\n",
       "1  0000085059828173212        0.0000000000      0.0000000000\n",
       "2   000026722803385797        0.0000000000      0.0000000000\n",
       "3  0000436683523507380        0.0000000000      0.0000000000\n",
       "4  0000450371054833295        0.0000000000      0.0000000000"
      ]
     },
     "execution_count": 14,
     "metadata": {},
     "output_type": "execute_result"
    }
   ],
   "source": [
    "total_rows = val_df.shape[0] - (val_df.shape[0] % 1024)\n",
    "\n",
    "# val_df = val_df.iloc[:total_rows]\n",
    "\n",
    "val_id = val_df['fullVisitorId'].values\n",
    "\n",
    "val_y = val_df['totals.transactionRevenue'].values\n",
    "val_X = val_df.drop(['totals.transactionRevenue', 'fullVisitorId'], axis=1).values\n",
    "\n",
    "val_X = val_X.reshape(val_X.shape[0], 1, val_X.shape[1])\n",
    "\n",
    "pred_val = predict_batch(predictor, val_X)\n",
    "\n",
    "pred_val[pred_val < 0] = 0\n",
    "\n",
    "pred_val_data = {\n",
    "    'fullVisitorId': val_id,\n",
    "    'transactionRevenue': val_y,\n",
    "    'predictedRevenue': np.expm1(pred_val)\n",
    "}\n",
    "\n",
    "pred_val_df = pd.DataFrame(pred_val_data)\n",
    "\n",
    "pred_val_df = pred_val_df.groupby('fullVisitorId')['transactionRevenue', 'predictedRevenue'].sum().reset_index()\n",
    "\n",
    "pred_val_df.head()"
   ]
  },
  {
   "cell_type": "code",
   "execution_count": 15,
   "metadata": {},
   "outputs": [
    {
     "name": "stdout",
     "output_type": "stream",
     "text": [
      "\n",
      "RSME for validation data set: 2.2922912153\n",
      "\n"
     ]
    }
   ],
   "source": [
    "rsme_val = np.sqrt(\n",
    "    mean_squared_error(\n",
    "        np.log1p(pred_val_df['transactionRevenue'].values),\n",
    "        np.log1p(pred_val_df['predictedRevenue'].values)\n",
    "    )\n",
    ")\n",
    "\n",
    "print('\\nRSME for validation data set: {:.10f}\\n'.format(rsme_val))"
   ]
  },
  {
   "cell_type": "code",
   "execution_count": null,
   "metadata": {},
   "outputs": [],
   "source": [
    "total_rows = test_df.shape[0] - (test_df.shape[0] % 1024)\n",
    "\n",
    "# test_df = test_df.iloc[:total_rows]\n",
    "\n",
    "test_id = test_df['fullVisitorId'].values\n",
    "test_X = test_df.drop(['fullVisitorId'], axis=1).values\n",
    "\n",
    "test_X = test_X.reshape(test_X.shape[0], 1, test_X.shape[1])\n",
    "\n",
    "pred_test = predict_batch(predictor, test_X)\n",
    "\n",
    "pred_test[pred_test < 0] = 0\n",
    "\n",
    "pred_test_data = {\n",
    "    'fullVisitorId': test_id,\n",
    "    'predictedRevenue': np.expm1(pred_test)\n",
    "}\n",
    "\n",
    "pred_test_df = pd.DataFrame(pred_test_data)\n",
    "\n",
    "pred_test_df = pred_test_df.groupby('fullVisitorId')['predictedRevenue'].sum().reset_index()\n",
    "\n",
    "pred_test_df.head()"
   ]
  },
  {
   "cell_type": "code",
   "execution_count": null,
   "metadata": {},
   "outputs": [],
   "source": [
    "pred_val_df.to_csv(pred_val_file, index=False, compression='zip')\n",
    "\n",
    "pred_test_df.to_csv(pred_test_file, index=False, compression='zip')"
   ]
  },
  {
   "cell_type": "code",
   "execution_count": null,
   "metadata": {},
   "outputs": [],
   "source": [
    "def delete_endpoint(predictor):\n",
    "    try:\n",
    "        predictor.delete_endpoint()\n",
    "        print('Deleted {}'.format(predictor.endpoint))\n",
    "    except: \n",
    "        print('Already deleted: {}'.format(predictor.endpoint))\n",
    "        \n",
    "\n",
    "delete_endpoint(predictor)"
   ]
  },
  {
   "cell_type": "code",
   "execution_count": null,
   "metadata": {},
   "outputs": [],
   "source": [
    "bucket_to_delete = boto3.resource('s3').Bucket(bucket)\n",
    "\n",
    "bucket_to_delete.objects.all().delete()"
   ]
  },
  {
   "cell_type": "code",
   "execution_count": null,
   "metadata": {},
   "outputs": [],
   "source": []
  }
 ],
 "metadata": {
  "file_extension": ".py",
  "kernelspec": {
   "display_name": "conda_pytorch_p36",
   "language": "python",
   "name": "conda_pytorch_p36"
  },
  "language_info": {
   "codemirror_mode": {
    "name": "ipython",
    "version": 3
   },
   "file_extension": ".py",
   "mimetype": "text/x-python",
   "name": "python",
   "nbconvert_exporter": "python",
   "pygments_lexer": "ipython3",
   "version": "3.6.5"
  },
  "mimetype": "text/x-python",
  "name": "python",
  "npconvert_exporter": "python",
  "pygments_lexer": "ipython3",
  "version": 3
 },
 "nbformat": 4,
 "nbformat_minor": 2
}
