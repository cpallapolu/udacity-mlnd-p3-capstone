{
 "cells": [
  {
   "cell_type": "markdown",
   "metadata": {},
   "source": [
    "# Customer Revenue Prediction"
   ]
  },
  {
   "cell_type": "markdown",
   "metadata": {},
   "source": [
    "## Baseline Light GBM Model\n",
    "*Machine Learning Nanodegree Program | Capstone Project*\n",
    "\n",
    "---"
   ]
  },
  {
   "cell_type": "markdown",
   "metadata": {},
   "source": [
    "In this notebook I will be creating a baseline model that can be used to evaluate the performance of the Pytorch model that we will be creating as part of the project.\n",
    "\n",
    "### Overview:\n",
    "- Reading the data\n",
    "- Initializing the Light GBM model\n",
    "- Training the model with the train dataset\n",
    "- Validating the model using the val dataset\n",
    "- Predict the revenue for customer in test dataset\n",
    "- Visualizing the results\n",
    "- Saving the base line results to a csv "
   ]
  },
  {
   "cell_type": "markdown",
   "metadata": {},
   "source": [
    "First, import the relevant libraries into notebook"
   ]
  },
  {
   "cell_type": "code",
   "execution_count": null,
   "metadata": {},
   "outputs": [],
   "source": [
    "import pandas as pd\n",
    "import numpy as np\n",
    "import lightgbm as lgb\n",
    "import matplotlib.pyplot as plt\n",
    "import seaborn as sns\n",
    "\n",
    "from os import path\n",
    "from sklearn.metrics import mean_squared_error\n",
    "\n",
    "%matplotlib inline"
   ]
  },
  {
   "cell_type": "code",
   "execution_count": null,
   "metadata": {},
   "outputs": [],
   "source": [
    "files_dir = '../data/files'\n",
    "\n",
    "if not path.exists(files_dir):\n",
    "    raise Exception('{} directory not found.'.format(\n",
    "        files_dir\n",
    "    ))\n",
    "\n",
    "train_file = '{}/{}'.format(files_dir, 'train.zip')\n",
    "print('\\nTrain file: {}'.format(train_file))\n",
    "\n",
    "val_file = '{}/{}'.format(files_dir, 'val.zip')\n",
    "print('\\nVal file: {}'.format(val_file))\n",
    "\n",
    "test_file = '{}/{}'.format(files_dir, 'test.zip')\n",
    "print('\\nTest file: {}'.format(test_file))\n",
    "\n",
    "baseline_file = '{}/{}'.format(files_dir, 'baseline.zip')\n",
    "print('\\nBaseline file: {}'.format(baseline_file))\n",
    "\n",
    "imp_features_file = '{}/{}'.format(files_dir, 'lgbm_importances-01.png')\n",
    "print('\\nImportant Features file: {}'.format(imp_features_file))"
   ]
  },
  {
   "cell_type": "code",
   "execution_count": null,
   "metadata": {},
   "outputs": [],
   "source": [
    "def load_data(zip_path):\n",
    "    df = pd.read_csv(\n",
    "        zip_path,\n",
    "        dtype={'fullVisitorId': 'str'},\n",
    "        compression='zip'\n",
    "    )\n",
    "    \n",
    "    [rows, columns] = df.shape\n",
    "\n",
    "    print('\\nLoaded {} rows with {} columns from {}.\\n'.format(\n",
    "        rows, columns, zip_path\n",
    "    ))\n",
    "    \n",
    "    return df"
   ]
  },
  {
   "cell_type": "code",
   "execution_count": null,
   "metadata": {},
   "outputs": [],
   "source": [
    "%%time\n",
    "\n",
    "train_df = load_data(train_file)\n",
    "val_df = load_data(val_file)\n",
    "test_df = load_data(test_file)"
   ]
  },
  {
   "cell_type": "code",
   "execution_count": null,
   "metadata": {},
   "outputs": [],
   "source": [
    "train_id = train_df[\"fullVisitorId\"].values\n",
    "val_id = val_df[\"fullVisitorId\"].values\n",
    "test_id = test_df[\"fullVisitorId\"].values\n",
    "\n",
    "train_y = np.log1p(train_df[\"totals.transactionRevenue\"].values)\n",
    "val_y = np.log1p(val_df[\"totals.transactionRevenue\"].values)\n",
    "\n",
    "\n",
    "train_X = train_df.drop(['totals.transactionRevenue', 'fullVisitorId'], axis=1)\n",
    "val_X = val_df.drop(['totals.transactionRevenue', 'fullVisitorId'], axis=1)\n",
    "test_X = test_df.drop(['fullVisitorId'], axis=1)"
   ]
  },
  {
   "cell_type": "code",
   "execution_count": null,
   "metadata": {},
   "outputs": [],
   "source": [
    "print('\\nShape of the train dataset: {}'.format(train_X.shape))\n",
    "print('\\nShape of the val dataset: {}'.format(val_X.shape))\n",
    "print('\\nShape of the test dataset: {}\\n'.format(test_X.shape))"
   ]
  },
  {
   "cell_type": "code",
   "execution_count": null,
   "metadata": {},
   "outputs": [],
   "source": [
    "def lgbm_model(train_X, train_y, val_X, val_y, test_X):\n",
    "    params = {\n",
    "        'objective' : 'regression',\n",
    "        'metric' : 'rmse', \n",
    "        'num_leaves' : 30,\n",
    "        'min_child_samples' : 100,\n",
    "        'learning_rate' : 0.1,\n",
    "        'bagging_fraction' : 0.7,\n",
    "        'feature_fraction' : 0.5,\n",
    "        'bagging_frequency' : 5,\n",
    "        'bagging_seed' : 2020,\n",
    "        'verbosity' : -1\n",
    "    }\n",
    "    \n",
    "    lg_train = lgb.Dataset(train_X, label=train_y)\n",
    "    lg_val = lgb.Dataset(val_X, label=val_y)\n",
    "    \n",
    "    model = lgb.train(params, lg_train, 1000, valid_sets=[lg_val], early_stopping_rounds=100, verbose_eval=100)\n",
    "    \n",
    "    pred_test_y = model.predict(test_X, num_iteration=model.best_iteration)\n",
    "    pred_val_y = model.predict(val_X, num_iteration=model.best_iteration)\n",
    "    \n",
    "    return pred_test_y, pred_val_y, model"
   ]
  },
  {
   "cell_type": "code",
   "execution_count": null,
   "metadata": {},
   "outputs": [],
   "source": [
    "pred_test, pred_val, model = lgbm_model(train_X, train_y, val_X, val_y, test_X)"
   ]
  },
  {
   "cell_type": "code",
   "execution_count": null,
   "metadata": {},
   "outputs": [],
   "source": [
    "pred_val[pred_val < 0] = 0\n",
    "\n",
    "pred_val_df = pd.DataFrame({ 'fullVisitorId': val_id })\n",
    "pred_val_df['transactionRevenue'] = val_df[\"totals.transactionRevenue\"].values\n",
    "pred_val_df['predictedRevenue'] = np.expm1(pred_val)\n",
    "\n",
    "pred_val_df = pred_val_df.groupby('fullVisitorId')['transactionRevenue', 'predictedRevenue'].sum().reset_index()\n",
    "\n",
    "print(\n",
    "    np.sqrt(\n",
    "        mean_squared_error(\n",
    "            np.log1p(pred_val_df[\"transactionRevenue\"].values), \n",
    "            np.log1p(pred_val_df[\"predictedRevenue\"].values)\n",
    "        )\n",
    "    )\n",
    ")\n",
    "\n"
   ]
  },
  {
   "cell_type": "code",
   "execution_count": null,
   "metadata": {},
   "outputs": [],
   "source": [
    "baseline_df = pd.DataFrame({ 'fullVisitorId': test_id })\n",
    "pred_test[pred_test < 0] = 0\n",
    "\n",
    "baseline_df['predictedRevenue'] = np.expm1(pred_test)\n",
    "\n",
    "baseline_df = baseline_df.groupby('fullVisitorId')['predictedRevenue'].sum().reset_index()\n",
    "\n",
    "baseline_df = ['fullVisitorId', 'predictedRevenue']\n",
    "baseline_df['predictedRevenue'] = np.log1p(baseline_df['predictedRevenue'])\n",
    "\n",
    "\n",
    "baseline_df.to_csv(baseline_file, index=False, compression='zip')\n",
    "\n",
    "baseline_df.head()"
   ]
  },
  {
   "cell_type": "code",
   "execution_count": null,
   "metadata": {},
   "outputs": [],
   "source": [
    "imp_features = pd.DataFrame(\n",
    "    sorted(zip(model.feature_importances_, train_df.columns)),\n",
    "    columns=['Value','Feature']\n",
    ")\n",
    "\n",
    "# sns.countplot(imp_features, palette=\"hls\")\n",
    "\n",
    "sns.barplot(x=\"Value\", y=\"Feature\", data=imp_features.sort_values(by=\"Value\", ascending=False))\n",
    "\n",
    "plt.title(\"LightGBM - Feature Importance\", fontsize=12)\n",
    "\n",
    "plt.show()\n",
    "plt.savefig(imp_features_file)"
   ]
  }
 ],
 "metadata": {
  "file_extension": ".py",
  "kernelspec": {
   "display_name": "Python 3",
   "language": "python",
   "name": "python3"
  },
  "language_info": {
   "codemirror_mode": {
    "name": "ipython",
    "version": 3
   },
   "file_extension": ".py",
   "mimetype": "text/x-python",
   "name": "python",
   "nbconvert_exporter": "python",
   "pygments_lexer": "ipython3",
   "version": "3.7.2"
  },
  "mimetype": "text/x-python",
  "name": "python",
  "npconvert_exporter": "python",
  "pygments_lexer": "ipython3",
  "version": 3
 },
 "nbformat": 4,
 "nbformat_minor": 2
}
