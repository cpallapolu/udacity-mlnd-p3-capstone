{
 "cells": [
  {
   "cell_type": "markdown",
   "metadata": {},
   "source": [
    "# Customer Revenue Prediction"
   ]
  },
  {
   "cell_type": "markdown",
   "metadata": {},
   "source": [
    "## Baseline Light GBM Model\n",
    "*Machine Learning Nanodegree Program | Capstone Project*\n",
    "\n",
    "---"
   ]
  },
  {
   "cell_type": "markdown",
   "metadata": {},
   "source": [
    "In this notebook I will be creating a baseline model that can be used to evaluate the performance of the Pytorch model that I will be creating as part of the project.\n",
    "\n",
    "### Overview:\n",
    "- Reading the data\n",
    "- Initializing the Light GBM model\n",
    "- Training the model with the train dataset\n",
    "- Validating the model using the val dataset\n",
    "- Predict the revenue for customer in test dataset\n",
    "- Visualizing the results\n",
    "- Saving the base line results to a csv "
   ]
  },
  {
   "cell_type": "markdown",
   "metadata": {},
   "source": [
    "### Load and prepare Data\n",
    "\n",
    "First, import the relevant libraries into notebook"
   ]
  },
  {
   "cell_type": "code",
   "execution_count": 1,
   "metadata": {},
   "outputs": [],
   "source": [
    "import pandas as pd\n",
    "import numpy as np\n",
    "import matplotlib.pyplot as plt\n",
    "import seaborn as sns\n",
    "\n",
    "from lightgbm import LGBMModel\n",
    "from os import path\n",
    "from sklearn.metrics import mean_squared_error\n",
    "\n",
    "%matplotlib inline\n",
    "pd.set_option('display.float_format', lambda x: '%.10f' % x)"
   ]
  },
  {
   "cell_type": "markdown",
   "metadata": {},
   "source": [
    "Set the various paths for the training, validation, test files and storing the baseline results"
   ]
  },
  {
   "cell_type": "code",
   "execution_count": 2,
   "metadata": {},
   "outputs": [
    {
     "name": "stdout",
     "output_type": "stream",
     "text": [
      "\n",
      "Train file: ../datasets/train.zip\n",
      "\n",
      "Validation file: ../datasets/val.zip\n",
      "\n",
      "Validation Prediction file: ../datasets/lgbm_pred_val.zip\n",
      "\n",
      "Test file: ../datasets/test.zip\n",
      "\n",
      "Test Prediction file: ../datasets/lgbm_pred_test.zip\n",
      "\n",
      "Important Features file: ../datasets/lgbm_importances-01.png\n"
     ]
    }
   ],
   "source": [
    "data_dir = '../datasets'\n",
    "\n",
    "if not path.exists(data_dir):\n",
    "    raise Exception('{} directory not found.'.format(data_dir))\n",
    "\n",
    "train_file = '{}/{}'.format(data_dir, 'train.zip')\n",
    "print('\\nTrain file: {}'.format(train_file))\n",
    "\n",
    "val_file = '{}/{}'.format(data_dir, 'val.zip')\n",
    "print('\\nValidation file: {}'.format(val_file))\n",
    "\n",
    "pred_val_file = '{}/{}'.format(data_dir, 'lgbm_pred_val.zip')\n",
    "print('\\nValidation Prediction file: {}'.format(pred_val_file))\n",
    "\n",
    "test_file = '{}/{}'.format(data_dir, 'test.zip')\n",
    "print('\\nTest file: {}'.format(test_file))\n",
    "\n",
    "pred_test_file = '{}/{}'.format(data_dir, 'lgbm_pred_test.zip')\n",
    "print('\\nTest Prediction file: {}'.format(pred_test_file))\n",
    "\n",
    "imp_features_file = '{}/{}'.format(data_dir, 'lgbm_importances-01.png')\n",
    "print('\\nImportant Features file: {}'.format(imp_features_file))"
   ]
  },
  {
   "cell_type": "markdown",
   "metadata": {},
   "source": [
    "Method to load the dataset from the files"
   ]
  },
  {
   "cell_type": "code",
   "execution_count": 3,
   "metadata": {},
   "outputs": [],
   "source": [
    "def load_data(zip_path):\n",
    "    df = pd.read_csv(\n",
    "        zip_path,\n",
    "        dtype={'fullVisitorId': 'str'},\n",
    "        compression='zip'\n",
    "    )\n",
    "    \n",
    "    [rows, columns] = df.shape\n",
    "\n",
    "    print('Loaded {} rows with {} columns from {}.'.format(\n",
    "        rows, columns, zip_path\n",
    "    ))\n",
    "    \n",
    "    return df"
   ]
  },
  {
   "cell_type": "markdown",
   "metadata": {},
   "source": [
    "Load the train, validation and test datasets."
   ]
  },
  {
   "cell_type": "code",
   "execution_count": 4,
   "metadata": {},
   "outputs": [
    {
     "name": "stdout",
     "output_type": "stream",
     "text": [
      "Loaded 765707 rows with 26 columns from ../datasets/train.zip.\n",
      "Loaded 137946 rows with 26 columns from ../datasets/val.zip.\n",
      "Loaded 804684 rows with 25 columns from ../datasets/test.zip.\n",
      "\n",
      "CPU times: user 9.17 s, sys: 644 ms, total: 9.81 s\n",
      "Wall time: 10.8 s\n"
     ]
    }
   ],
   "source": [
    "%%time\n",
    "\n",
    "train_df = load_data(train_file)\n",
    "val_df = load_data(val_file)\n",
    "test_df = load_data(test_file)\n",
    "\n",
    "print()"
   ]
  },
  {
   "cell_type": "code",
   "execution_count": 26,
   "metadata": {},
   "outputs": [
    {
     "data": {
      "text/html": [
       "<div>\n",
       "<style scoped>\n",
       "    .dataframe tbody tr th:only-of-type {\n",
       "        vertical-align: middle;\n",
       "    }\n",
       "\n",
       "    .dataframe tbody tr th {\n",
       "        vertical-align: top;\n",
       "    }\n",
       "\n",
       "    .dataframe thead th {\n",
       "        text-align: right;\n",
       "    }\n",
       "</style>\n",
       "<table border=\"1\" class=\"dataframe\">\n",
       "  <thead>\n",
       "    <tr style=\"text-align: right;\">\n",
       "      <th></th>\n",
       "      <th>totals.transactionRevenue</th>\n",
       "      <th>fullVisitorId</th>\n",
       "      <th>channelGrouping</th>\n",
       "      <th>device.browser</th>\n",
       "      <th>device.deviceCategory</th>\n",
       "      <th>device.isMobile</th>\n",
       "      <th>device.operatingSystem</th>\n",
       "      <th>geoNetwork.city</th>\n",
       "      <th>geoNetwork.continent</th>\n",
       "      <th>geoNetwork.country</th>\n",
       "      <th>...</th>\n",
       "      <th>trafficSource.keyword</th>\n",
       "      <th>trafficSource.medium</th>\n",
       "      <th>trafficSource.source</th>\n",
       "      <th>trafficSource.referralPath</th>\n",
       "      <th>totals.bounces</th>\n",
       "      <th>totals.hits</th>\n",
       "      <th>totals.newVisits</th>\n",
       "      <th>totals.pageviews</th>\n",
       "      <th>visitNumber</th>\n",
       "      <th>visitStartTime</th>\n",
       "    </tr>\n",
       "  </thead>\n",
       "  <tbody>\n",
       "    <tr>\n",
       "      <th>752</th>\n",
       "      <td>37860000.0000000000</td>\n",
       "      <td>6194193421514403509</td>\n",
       "      <td>0.2857142857</td>\n",
       "      <td>0.2844827586</td>\n",
       "      <td>0.0000000000</td>\n",
       "      <td>0.0000000000</td>\n",
       "      <td>0.2173913043</td>\n",
       "      <td>0.0387840671</td>\n",
       "      <td>0.2000000000</td>\n",
       "      <td>0.9603524229</td>\n",
       "      <td>...</td>\n",
       "      <td>0.6171396772</td>\n",
       "      <td>0.0000000000</td>\n",
       "      <td>0.0000000000</td>\n",
       "      <td>1.0000000000</td>\n",
       "      <td>0.0000000000</td>\n",
       "      <td>0.0200400802</td>\n",
       "      <td>1.0000000000</td>\n",
       "      <td>0.0213675214</td>\n",
       "      <td>0.0000000000</td>\n",
       "      <td>0.0888219012</td>\n",
       "    </tr>\n",
       "    <tr>\n",
       "      <th>753</th>\n",
       "      <td>306670000.0000000000</td>\n",
       "      <td>5327166854580374902</td>\n",
       "      <td>0.5714285714</td>\n",
       "      <td>0.2844827586</td>\n",
       "      <td>0.0000000000</td>\n",
       "      <td>0.0000000000</td>\n",
       "      <td>0.2608695652</td>\n",
       "      <td>0.6069182390</td>\n",
       "      <td>0.2000000000</td>\n",
       "      <td>0.9603524229</td>\n",
       "      <td>...</td>\n",
       "      <td>0.1133370432</td>\n",
       "      <td>0.8000000000</td>\n",
       "      <td>0.4168336673</td>\n",
       "      <td>1.0000000000</td>\n",
       "      <td>0.0000000000</td>\n",
       "      <td>0.0200400802</td>\n",
       "      <td>0.0000000000</td>\n",
       "      <td>0.0192307692</td>\n",
       "      <td>0.0050761421</td>\n",
       "      <td>0.0888640865</td>\n",
       "    </tr>\n",
       "    <tr>\n",
       "      <th>799</th>\n",
       "      <td>68030000.0000000000</td>\n",
       "      <td>8885051388942907862</td>\n",
       "      <td>0.8571428571</td>\n",
       "      <td>0.2844827586</td>\n",
       "      <td>0.0000000000</td>\n",
       "      <td>0.0000000000</td>\n",
       "      <td>0.2173913043</td>\n",
       "      <td>0.6069182390</td>\n",
       "      <td>0.2000000000</td>\n",
       "      <td>0.9603524229</td>\n",
       "      <td>...</td>\n",
       "      <td>0.6171396772</td>\n",
       "      <td>1.0000000000</td>\n",
       "      <td>0.7174348697</td>\n",
       "      <td>0.0000000000</td>\n",
       "      <td>0.0000000000</td>\n",
       "      <td>0.0240480962</td>\n",
       "      <td>0.0000000000</td>\n",
       "      <td>0.0213675214</td>\n",
       "      <td>0.0152284264</td>\n",
       "      <td>0.0883102699</td>\n",
       "    </tr>\n",
       "    <tr>\n",
       "      <th>802</th>\n",
       "      <td>26250000.0000000000</td>\n",
       "      <td>0185467632009737931</td>\n",
       "      <td>0.8571428571</td>\n",
       "      <td>0.2844827586</td>\n",
       "      <td>0.0000000000</td>\n",
       "      <td>0.0000000000</td>\n",
       "      <td>0.8695652174</td>\n",
       "      <td>0.5649895178</td>\n",
       "      <td>0.2000000000</td>\n",
       "      <td>0.9603524229</td>\n",
       "      <td>...</td>\n",
       "      <td>0.6171396772</td>\n",
       "      <td>1.0000000000</td>\n",
       "      <td>0.7174348697</td>\n",
       "      <td>0.0000000000</td>\n",
       "      <td>0.0000000000</td>\n",
       "      <td>0.0240480962</td>\n",
       "      <td>0.0000000000</td>\n",
       "      <td>0.0235042735</td>\n",
       "      <td>0.0126903553</td>\n",
       "      <td>0.0889112683</td>\n",
       "    </tr>\n",
       "    <tr>\n",
       "      <th>859</th>\n",
       "      <td>574150000.0000000000</td>\n",
       "      <td>3244885836845029978</td>\n",
       "      <td>0.8571428571</td>\n",
       "      <td>0.2844827586</td>\n",
       "      <td>0.0000000000</td>\n",
       "      <td>0.0000000000</td>\n",
       "      <td>0.2608695652</td>\n",
       "      <td>0.5796645702</td>\n",
       "      <td>0.2000000000</td>\n",
       "      <td>0.9603524229</td>\n",
       "      <td>...</td>\n",
       "      <td>0.6171396772</td>\n",
       "      <td>1.0000000000</td>\n",
       "      <td>0.7174348697</td>\n",
       "      <td>0.0000000000</td>\n",
       "      <td>0.0000000000</td>\n",
       "      <td>0.0320641283</td>\n",
       "      <td>0.0000000000</td>\n",
       "      <td>0.0277777778</td>\n",
       "      <td>0.0076142132</td>\n",
       "      <td>0.0882288086</td>\n",
       "    </tr>\n",
       "  </tbody>\n",
       "</table>\n",
       "<p>5 rows × 26 columns</p>\n",
       "</div>"
      ],
      "text/plain": [
       "     totals.transactionRevenue        fullVisitorId  channelGrouping  \\\n",
       "752        37860000.0000000000  6194193421514403509     0.2857142857   \n",
       "753       306670000.0000000000  5327166854580374902     0.5714285714   \n",
       "799        68030000.0000000000  8885051388942907862     0.8571428571   \n",
       "802        26250000.0000000000  0185467632009737931     0.8571428571   \n",
       "859       574150000.0000000000  3244885836845029978     0.8571428571   \n",
       "\n",
       "     device.browser  device.deviceCategory  device.isMobile  \\\n",
       "752    0.2844827586           0.0000000000     0.0000000000   \n",
       "753    0.2844827586           0.0000000000     0.0000000000   \n",
       "799    0.2844827586           0.0000000000     0.0000000000   \n",
       "802    0.2844827586           0.0000000000     0.0000000000   \n",
       "859    0.2844827586           0.0000000000     0.0000000000   \n",
       "\n",
       "     device.operatingSystem  geoNetwork.city  geoNetwork.continent  \\\n",
       "752            0.2173913043     0.0387840671          0.2000000000   \n",
       "753            0.2608695652     0.6069182390          0.2000000000   \n",
       "799            0.2173913043     0.6069182390          0.2000000000   \n",
       "802            0.8695652174     0.5649895178          0.2000000000   \n",
       "859            0.2608695652     0.5796645702          0.2000000000   \n",
       "\n",
       "     geoNetwork.country  ...  trafficSource.keyword  trafficSource.medium  \\\n",
       "752        0.9603524229  ...           0.6171396772          0.0000000000   \n",
       "753        0.9603524229  ...           0.1133370432          0.8000000000   \n",
       "799        0.9603524229  ...           0.6171396772          1.0000000000   \n",
       "802        0.9603524229  ...           0.6171396772          1.0000000000   \n",
       "859        0.9603524229  ...           0.6171396772          1.0000000000   \n",
       "\n",
       "     trafficSource.source  trafficSource.referralPath  totals.bounces  \\\n",
       "752          0.0000000000                1.0000000000    0.0000000000   \n",
       "753          0.4168336673                1.0000000000    0.0000000000   \n",
       "799          0.7174348697                0.0000000000    0.0000000000   \n",
       "802          0.7174348697                0.0000000000    0.0000000000   \n",
       "859          0.7174348697                0.0000000000    0.0000000000   \n",
       "\n",
       "     totals.hits  totals.newVisits  totals.pageviews  visitNumber  \\\n",
       "752 0.0200400802      1.0000000000      0.0213675214 0.0000000000   \n",
       "753 0.0200400802      0.0000000000      0.0192307692 0.0050761421   \n",
       "799 0.0240480962      0.0000000000      0.0213675214 0.0152284264   \n",
       "802 0.0240480962      0.0000000000      0.0235042735 0.0126903553   \n",
       "859 0.0320641283      0.0000000000      0.0277777778 0.0076142132   \n",
       "\n",
       "     visitStartTime  \n",
       "752    0.0888219012  \n",
       "753    0.0888640865  \n",
       "799    0.0883102699  \n",
       "802    0.0889112683  \n",
       "859    0.0882288086  \n",
       "\n",
       "[5 rows x 26 columns]"
      ]
     },
     "execution_count": 26,
     "metadata": {},
     "output_type": "execute_result"
    }
   ],
   "source": [
    "train_df.head()"
   ]
  },
  {
   "cell_type": "markdown",
   "metadata": {},
   "source": [
    "For the LightBGM model, the labels should be separated from the features. I only need the _**fullVisitorId**_ to identify the customer and not for the training of the model. So I will drop the _**fullVisitorId**_ and _**totals.transactionRevenue**_ from the training and validation datasets and store them separately so that I can evaluate the results at later stage. From the test dataset we only need to drop _**fullVisitorId**_"
   ]
  },
  {
   "cell_type": "code",
   "execution_count": 6,
   "metadata": {},
   "outputs": [],
   "source": [
    "train_id = train_df['fullVisitorId'].values\n",
    "val_id = val_df['fullVisitorId'].values\n",
    "test_id = test_df['fullVisitorId'].values\n",
    "\n",
    "train_y = train_df['totals.transactionRevenue'].values\n",
    "train_log_y = np.log1p(train_y)\n",
    "\n",
    "val_y = val_df['totals.transactionRevenue'].values\n",
    "val_log_y = np.log1p(val_y)\n",
    "\n",
    "train_X = train_df.drop(['totals.transactionRevenue', 'fullVisitorId'], axis=1)\n",
    "val_X = val_df.drop(['totals.transactionRevenue', 'fullVisitorId'], axis=1)\n",
    "test_X = test_df.drop(['fullVisitorId'], axis=1)"
   ]
  },
  {
   "cell_type": "code",
   "execution_count": 7,
   "metadata": {},
   "outputs": [
    {
     "data": {
      "text/html": [
       "<style  type=\"text/css\" >\n",
       "    #T_50d928f0_420c_11ea_a9d4_f018982ce539 th {\n",
       "          text-align: center;\n",
       "    }</style><table id=\"T_50d928f0_420c_11ea_a9d4_f018982ce539\" ><thead>    <tr>        <th class=\"index_name level0\" >Type</th>        <th class=\"col_heading level0 col0\" colspan=2>Raw</th>        <th class=\"col_heading level0 col2\" colspan=2>Transformed</th>    </tr>    <tr>        <th class=\"index_name level1\" >Dataset</th>        <th class=\"col_heading level1 col0\" >Rows</th>        <th class=\"col_heading level1 col1\" >Columns</th>        <th class=\"col_heading level1 col2\" >Rows</th>        <th class=\"col_heading level1 col3\" >Columns</th>    </tr></thead><tbody>\n",
       "                <tr>\n",
       "                        <th id=\"T_50d928f0_420c_11ea_a9d4_f018982ce539level0_row0\" class=\"row_heading level0 row0\" >Train</th>\n",
       "                        <td id=\"T_50d928f0_420c_11ea_a9d4_f018982ce539row0_col0\" class=\"data row0 col0\" >765707</td>\n",
       "                        <td id=\"T_50d928f0_420c_11ea_a9d4_f018982ce539row0_col1\" class=\"data row0 col1\" >26</td>\n",
       "                        <td id=\"T_50d928f0_420c_11ea_a9d4_f018982ce539row0_col2\" class=\"data row0 col2\" >765707</td>\n",
       "                        <td id=\"T_50d928f0_420c_11ea_a9d4_f018982ce539row0_col3\" class=\"data row0 col3\" >24</td>\n",
       "            </tr>\n",
       "            <tr>\n",
       "                        <th id=\"T_50d928f0_420c_11ea_a9d4_f018982ce539level0_row1\" class=\"row_heading level0 row1\" >Validation</th>\n",
       "                        <td id=\"T_50d928f0_420c_11ea_a9d4_f018982ce539row1_col0\" class=\"data row1 col0\" >137946</td>\n",
       "                        <td id=\"T_50d928f0_420c_11ea_a9d4_f018982ce539row1_col1\" class=\"data row1 col1\" >26</td>\n",
       "                        <td id=\"T_50d928f0_420c_11ea_a9d4_f018982ce539row1_col2\" class=\"data row1 col2\" >137946</td>\n",
       "                        <td id=\"T_50d928f0_420c_11ea_a9d4_f018982ce539row1_col3\" class=\"data row1 col3\" >24</td>\n",
       "            </tr>\n",
       "            <tr>\n",
       "                        <th id=\"T_50d928f0_420c_11ea_a9d4_f018982ce539level0_row2\" class=\"row_heading level0 row2\" >Test</th>\n",
       "                        <td id=\"T_50d928f0_420c_11ea_a9d4_f018982ce539row2_col0\" class=\"data row2 col0\" >804684</td>\n",
       "                        <td id=\"T_50d928f0_420c_11ea_a9d4_f018982ce539row2_col1\" class=\"data row2 col1\" >25</td>\n",
       "                        <td id=\"T_50d928f0_420c_11ea_a9d4_f018982ce539row2_col2\" class=\"data row2 col2\" >804684</td>\n",
       "                        <td id=\"T_50d928f0_420c_11ea_a9d4_f018982ce539row2_col3\" class=\"data row2 col3\" >24</td>\n",
       "            </tr>\n",
       "    </tbody></table>"
      ],
      "text/plain": [
       "<pandas.io.formats.style.Styler at 0x11e459fd0>"
      ]
     },
     "execution_count": 7,
     "metadata": {},
     "output_type": "execute_result"
    }
   ],
   "source": [
    "header = pd.MultiIndex.from_product(\n",
    "    [['Raw','Transformed'], ['Rows','Columns']],\n",
    "    names=['Type','Dataset']\n",
    ")\n",
    "\n",
    "shape_df = pd.DataFrame(\n",
    "    [train_df.shape + train_X.shape, val_df.shape + val_X.shape, test_df.shape + test_X.shape], \n",
    "    index=['Train', 'Validation', 'Test'], \n",
    "    columns=header\n",
    ")\n",
    "\n",
    "shape_df.style.set_table_styles([\n",
    "    {'selector': 'th', 'props': [('text-align', 'center')]}\n",
    "])"
   ]
  },
  {
   "cell_type": "markdown",
   "metadata": {},
   "source": [
    "### LightBGM Model\n",
    "\n",
    "I will be using the [LGBMModel](https://lightgbm.readthedocs.io/en/latest/pythonapi/lightgbm.LGBMModel.html#lightgbm.LGBMModel). This funtion creates the model trains the model using the train set and predicts the transaction revenue for val and test dataset."
   ]
  },
  {
   "cell_type": "code",
   "execution_count": 19,
   "metadata": {},
   "outputs": [],
   "source": [
    "def lgbm_model(train_X, train_y, val_X, val_y, test_X):\n",
    "    model = LGBMModel(\n",
    "        objective='regression',\n",
    "        metric='rmse',\n",
    "        n_estimators=1000,\n",
    "        learning_rate=0.01,\n",
    "        min_child_samples=100,\n",
    "        bagging_fraction=0.7,\n",
    "        feature_fraction=0.5,\n",
    "        bagging_freq=5,\n",
    "        bagging_seed=2020\n",
    "    )\n",
    "    \n",
    "    model = model.fit(\n",
    "        train_X, \n",
    "        train_y, \n",
    "        eval_set=(val_X, val_y),\n",
    "        early_stopping_rounds=100,\n",
    "        verbose=100\n",
    "    )\n",
    "        \n",
    "    pred_test_y = model.predict(\n",
    "        test_X, \n",
    "        num_iteration=model.best_iteration_\n",
    "    )\n",
    "    pred_val_y = model.predict(\n",
    "        val_X, \n",
    "        num_iteration=model.best_iteration_\n",
    "    )\n",
    "    \n",
    "    return pred_test_y, pred_val_y, model"
   ]
  },
  {
   "cell_type": "code",
   "execution_count": 20,
   "metadata": {},
   "outputs": [
    {
     "name": "stdout",
     "output_type": "stream",
     "text": [
      "Training until validation scores don't improve for 100 rounds\n",
      "[100]\tvalid_0's rmse: 1.8608\n",
      "[200]\tvalid_0's rmse: 1.76686\n",
      "[300]\tvalid_0's rmse: 1.734\n",
      "[400]\tvalid_0's rmse: 1.7174\n",
      "[500]\tvalid_0's rmse: 1.70967\n",
      "[600]\tvalid_0's rmse: 1.70388\n",
      "[700]\tvalid_0's rmse: 1.70017\n",
      "[800]\tvalid_0's rmse: 1.69745\n",
      "[900]\tvalid_0's rmse: 1.69625\n",
      "[1000]\tvalid_0's rmse: 1.69537\n",
      "Did not meet early stopping. Best iteration is:\n",
      "[1000]\tvalid_0's rmse: 1.69537\n"
     ]
    }
   ],
   "source": [
    "pred_test, pred_val, model = lgbm_model(train_X, train_log_y, val_X, val_log_y, test_X)"
   ]
  },
  {
   "cell_type": "markdown",
   "metadata": {},
   "source": [
    "### Prepare validation results\n",
    "\n",
    "In order to evaluate the model, I will be calculating the Root Mean Squared Error between the actual _**total.transactionRevenue**_ and the _**predictedRevenue**_ for the validation sets"
   ]
  },
  {
   "cell_type": "code",
   "execution_count": 21,
   "metadata": {},
   "outputs": [
    {
     "data": {
      "text/html": [
       "<div>\n",
       "<style scoped>\n",
       "    .dataframe tbody tr th:only-of-type {\n",
       "        vertical-align: middle;\n",
       "    }\n",
       "\n",
       "    .dataframe tbody tr th {\n",
       "        vertical-align: top;\n",
       "    }\n",
       "\n",
       "    .dataframe thead th {\n",
       "        text-align: right;\n",
       "    }\n",
       "</style>\n",
       "<table border=\"1\" class=\"dataframe\">\n",
       "  <thead>\n",
       "    <tr style=\"text-align: right;\">\n",
       "      <th></th>\n",
       "      <th>fullVisitorId</th>\n",
       "      <th>transactionRevenue</th>\n",
       "      <th>predictedRevenue</th>\n",
       "    </tr>\n",
       "  </thead>\n",
       "  <tbody>\n",
       "    <tr>\n",
       "      <th>0</th>\n",
       "      <td>0000062267706107999</td>\n",
       "      <td>0.0000000000</td>\n",
       "      <td>0.0000000000</td>\n",
       "    </tr>\n",
       "    <tr>\n",
       "      <th>1</th>\n",
       "      <td>0000085059828173212</td>\n",
       "      <td>0.0000000000</td>\n",
       "      <td>0.0000000000</td>\n",
       "    </tr>\n",
       "    <tr>\n",
       "      <th>2</th>\n",
       "      <td>000026722803385797</td>\n",
       "      <td>0.0000000000</td>\n",
       "      <td>0.0000000000</td>\n",
       "    </tr>\n",
       "    <tr>\n",
       "      <th>3</th>\n",
       "      <td>0000436683523507380</td>\n",
       "      <td>0.0000000000</td>\n",
       "      <td>1.0636517332</td>\n",
       "    </tr>\n",
       "    <tr>\n",
       "      <th>4</th>\n",
       "      <td>0000450371054833295</td>\n",
       "      <td>0.0000000000</td>\n",
       "      <td>0.0000000000</td>\n",
       "    </tr>\n",
       "  </tbody>\n",
       "</table>\n",
       "</div>"
      ],
      "text/plain": [
       "         fullVisitorId  transactionRevenue  predictedRevenue\n",
       "0  0000062267706107999        0.0000000000      0.0000000000\n",
       "1  0000085059828173212        0.0000000000      0.0000000000\n",
       "2   000026722803385797        0.0000000000      0.0000000000\n",
       "3  0000436683523507380        0.0000000000      1.0636517332\n",
       "4  0000450371054833295        0.0000000000      0.0000000000"
      ]
     },
     "execution_count": 21,
     "metadata": {},
     "output_type": "execute_result"
    }
   ],
   "source": [
    "pred_val[pred_val < 0] = 0\n",
    "\n",
    "pred_val_data = {\n",
    "    'fullVisitorId': val_id,\n",
    "    'transactionRevenue': val_y,\n",
    "    'predictedRevenue': np.expm1(pred_val)\n",
    "}\n",
    "\n",
    "pred_val_df = pd.DataFrame(pred_val_data)\n",
    "\n",
    "pred_val_df = pred_val_df.groupby('fullVisitorId')['transactionRevenue', 'predictedRevenue'].sum().reset_index()\n",
    "\n",
    "pred_val_df.head()"
   ]
  },
  {
   "cell_type": "code",
   "execution_count": 22,
   "metadata": {},
   "outputs": [
    {
     "name": "stdout",
     "output_type": "stream",
     "text": [
      "\n",
      "RSME for validation data set: 1.7183142410\n"
     ]
    }
   ],
   "source": [
    "rsme_val = np.sqrt(\n",
    "    mean_squared_error(\n",
    "        np.log1p(pred_val_df['transactionRevenue'].values),\n",
    "        np.log1p(pred_val_df['predictedRevenue'].values)\n",
    "    )\n",
    ")\n",
    "\n",
    "print('\\nRSME for validation data set: {:.10f}'.format(rsme_val))"
   ]
  },
  {
   "cell_type": "markdown",
   "metadata": {},
   "source": [
    "### Prepare test results\n",
    "\n",
    "We will use this RSME as the baseline and compare this model with the Pytorch model that will be created to evaluate which model is better"
   ]
  },
  {
   "cell_type": "markdown",
   "metadata": {},
   "source": [
    "Now lets create a base line output file for the predictions for the test dataset. "
   ]
  },
  {
   "cell_type": "code",
   "execution_count": 23,
   "metadata": {},
   "outputs": [],
   "source": [
    "pred_test[pred_test < 0] = 0\n",
    "\n",
    "pred_test_data = {\n",
    "    'fullVisitorId': test_id,\n",
    "    'predictedRevenue': np.expm1(pred_test)\n",
    "}\n",
    "\n",
    "pred_test_df = pd.DataFrame(pred_test_data)\n",
    "\n",
    "pred_test_df = pred_test_df.groupby('fullVisitorId')['predictedRevenue'].sum().reset_index()"
   ]
  },
  {
   "cell_type": "code",
   "execution_count": 24,
   "metadata": {},
   "outputs": [
    {
     "data": {
      "text/html": [
       "<div>\n",
       "<style scoped>\n",
       "    .dataframe tbody tr th:only-of-type {\n",
       "        vertical-align: middle;\n",
       "    }\n",
       "\n",
       "    .dataframe tbody tr th {\n",
       "        vertical-align: top;\n",
       "    }\n",
       "\n",
       "    .dataframe thead th {\n",
       "        text-align: right;\n",
       "    }\n",
       "</style>\n",
       "<table border=\"1\" class=\"dataframe\">\n",
       "  <thead>\n",
       "    <tr style=\"text-align: right;\">\n",
       "      <th></th>\n",
       "      <th>fullVisitorId</th>\n",
       "      <th>predictedRevenue</th>\n",
       "    </tr>\n",
       "  </thead>\n",
       "  <tbody>\n",
       "    <tr>\n",
       "      <th>0</th>\n",
       "      <td>0000000259678714014</td>\n",
       "      <td>2.4062848919</td>\n",
       "    </tr>\n",
       "    <tr>\n",
       "      <th>1</th>\n",
       "      <td>0000049363351866189</td>\n",
       "      <td>0.0000000000</td>\n",
       "    </tr>\n",
       "    <tr>\n",
       "      <th>2</th>\n",
       "      <td>0000053049821714864</td>\n",
       "      <td>0.0000000000</td>\n",
       "    </tr>\n",
       "    <tr>\n",
       "      <th>3</th>\n",
       "      <td>0000059488412965267</td>\n",
       "      <td>0.0000000000</td>\n",
       "    </tr>\n",
       "    <tr>\n",
       "      <th>4</th>\n",
       "      <td>0000085840370633780</td>\n",
       "      <td>0.0417426113</td>\n",
       "    </tr>\n",
       "  </tbody>\n",
       "</table>\n",
       "</div>"
      ],
      "text/plain": [
       "         fullVisitorId  predictedRevenue\n",
       "0  0000000259678714014      2.4062848919\n",
       "1  0000049363351866189      0.0000000000\n",
       "2  0000053049821714864      0.0000000000\n",
       "3  0000059488412965267      0.0000000000\n",
       "4  0000085840370633780      0.0417426113"
      ]
     },
     "execution_count": 24,
     "metadata": {},
     "output_type": "execute_result"
    }
   ],
   "source": [
    "pred_test_df.head()"
   ]
  },
  {
   "cell_type": "markdown",
   "metadata": {},
   "source": [
    "Write the predictions of val and test so that we can compare them with the future model"
   ]
  },
  {
   "cell_type": "code",
   "execution_count": null,
   "metadata": {},
   "outputs": [],
   "source": [
    "pred_val_df.to_csv(pred_val_file, index=False, compression='zip')\n",
    "pred_test_df.to_csv(pred_test_file, index=False, compression='zip')"
   ]
  },
  {
   "cell_type": "markdown",
   "metadata": {},
   "source": [
    "### Important Features \n",
    "\n",
    "Visualization to see the feature importances for the model "
   ]
  },
  {
   "cell_type": "code",
   "execution_count": null,
   "metadata": {},
   "outputs": [],
   "source": [
    "feature_imp = pd.DataFrame({\n",
    "    'Values':model.feature_importances_,\n",
    "    'Features':train_X.columns\n",
    "})\n",
    "\n",
    "feature_imp = feature_imp.sort_values(by=\"Values\", ascending=False)\n",
    "\n",
    "plt.figure(figsize=(14, 14))\n",
    "\n",
    "sns_bar = sns.barplot(\n",
    "    x=\"Values\", \n",
    "    y=\"Features\", \n",
    "    data=feature_imp,\n",
    "    palette=\"hls\",\n",
    ")\n",
    "\n",
    "for patch in sns_bar.patches:\n",
    "    x = patch.get_x() + patch.get_width() + 5\n",
    "    y = patch.get_y() + (patch.get_height() / 2)\n",
    "    \n",
    "    sns_bar.annotate(int(patch.get_width()), (x, y))\n",
    "\n",
    "plt.title(\n",
    "    \"\\nLightGBM - Feature Importance\\n(Feature Importances vs Features)\\n\", \n",
    "    fontsize=12\n",
    ")\n",
    "plt.xlabel('') \n",
    "plt.ylabel('') \n",
    "\n",
    "plt.savefig(\n",
    "    fname=imp_features_file,\n",
    "    bbox_inches = \"tight\"\n",
    ")\n",
    "\n",
    "plt.show()\n"
   ]
  },
  {
   "cell_type": "markdown",
   "metadata": {},
   "source": [
    "From the above plot, we see that **_totals.hits_**, **_visitStartTime_** and **_totals.pageviews_** are the most important features"
   ]
  },
  {
   "cell_type": "code",
   "execution_count": null,
   "metadata": {},
   "outputs": [],
   "source": []
  }
 ],
 "metadata": {
  "file_extension": ".py",
  "kernelspec": {
   "display_name": "Python 3",
   "language": "python",
   "name": "python3"
  },
  "language_info": {
   "codemirror_mode": {
    "name": "ipython",
    "version": 3
   },
   "file_extension": ".py",
   "mimetype": "text/x-python",
   "name": "python",
   "nbconvert_exporter": "python",
   "pygments_lexer": "ipython3",
   "version": "3.7.2"
  },
  "mimetype": "text/x-python",
  "name": "python",
  "npconvert_exporter": "python",
  "pygments_lexer": "ipython3",
  "version": 3
 },
 "nbformat": 4,
 "nbformat_minor": 2
}
