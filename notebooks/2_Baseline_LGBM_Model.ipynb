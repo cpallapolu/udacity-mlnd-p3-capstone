{
 "cells": [
  {
   "cell_type": "markdown",
   "metadata": {},
   "source": [
    "# Customer Revenue Prediction"
   ]
  },
  {
   "cell_type": "markdown",
   "metadata": {},
   "source": [
    "## Baseline Light GBM Model\n",
    "*Machine Learning Nanodegree Program | Capstone Project*\n",
    "\n",
    "---"
   ]
  },
  {
   "cell_type": "markdown",
   "metadata": {},
   "source": [
    "In this notebook I will be creating a baseline model that can be used to evaluate the performance of the Pytorch model that we will be creating as part of the project.\n",
    "\n",
    "### Overview:\n",
    "- Reading the data\n",
    "- Initializing the Light GBM model\n",
    "- Training the model with the train dataset\n",
    "- Validating the model using the val dataset\n",
    "- Predict the revenue for customer in test dataset\n",
    "- Visualizing the results\n",
    "- Saving the base line results to a csv "
   ]
  },
  {
   "cell_type": "markdown",
   "metadata": {},
   "source": [
    "First, import the relevant libraries into notebook"
   ]
  },
  {
   "cell_type": "code",
   "execution_count": 38,
   "metadata": {},
   "outputs": [],
   "source": [
    "import pandas as pd\n",
    "import numpy as np\n",
    "import lightgbm as lgb\n",
    "\n",
    "from os import path\n",
    "from sklearn import metrics"
   ]
  },
  {
   "cell_type": "code",
   "execution_count": 39,
   "metadata": {},
   "outputs": [
    {
     "name": "stdout",
     "output_type": "stream",
     "text": [
      "\n",
      "Train file: ../data/files/train.zip\n",
      "\n",
      "Val file: ../data/files/val.zip\n",
      "\n",
      "Test file: ../data/files/test.zip\n"
     ]
    }
   ],
   "source": [
    "files_dir = '../data/files'\n",
    "\n",
    "if not path.exists(files_dir):\n",
    "    raise Exception('{} directory not found.'.format(\n",
    "        files_dir\n",
    "    ))\n",
    "\n",
    "train_file = '{}/{}'.format(files_dir, 'train.zip')\n",
    "print('\\nTrain file: {}'.format(train_file))\n",
    "\n",
    "val_file = '{}/{}'.format(files_dir, 'val.zip')\n",
    "print('\\nVal file: {}'.format(val_file))\n",
    "\n",
    "test_file = '{}/{}'.format(files_dir, 'test.zip')\n",
    "print('\\nTest file: {}'.format(test_file))"
   ]
  },
  {
   "cell_type": "code",
   "execution_count": 40,
   "metadata": {},
   "outputs": [],
   "source": [
    "def load_data(zip_path):\n",
    "    df = pd.read_csv(\n",
    "        zip_path,\n",
    "        dtype={'fullVisitorId': 'str'},\n",
    "        compression='zip'\n",
    "    )\n",
    "    \n",
    "    [rows, columns] = df.shape\n",
    "\n",
    "    print('\\nLoaded {} rows with {} columns from {}.\\n'.format(\n",
    "        rows, columns, zip_path\n",
    "    ))\n",
    "    \n",
    "    return df"
   ]
  },
  {
   "cell_type": "code",
   "execution_count": 41,
   "metadata": {},
   "outputs": [
    {
     "name": "stdout",
     "output_type": "stream",
     "text": [
      "\n",
      "Loaded 765707 rows with 26 columns from ../data/files/train.zip.\n",
      "\n",
      "\n",
      "Loaded 137946 rows with 26 columns from ../data/files/val.zip.\n",
      "\n",
      "\n",
      "Loaded 804684 rows with 25 columns from ../data/files/test.zip.\n",
      "\n",
      "CPU times: user 8.43 s, sys: 618 ms, total: 9.05 s\n",
      "Wall time: 9.46 s\n"
     ]
    }
   ],
   "source": [
    "%%time\n",
    "\n",
    "train_df = load_data(train_file)\n",
    "val_df = load_data(val_file)\n",
    "test_df = load_data(test_file)"
   ]
  },
  {
   "cell_type": "code",
   "execution_count": 42,
   "metadata": {},
   "outputs": [],
   "source": [
    "train_id = train_df[\"fullVisitorId\"].values\n",
    "val_id = val_df[\"fullVisitorId\"].values\n",
    "test_id = test_df[\"fullVisitorId\"].values\n",
    "\n",
    "train_y = np.log1p(train_df[\"totals.transactionRevenue\"].values)\n",
    "val_y = np.log1p(val_df[\"totals.transactionRevenue\"].values)\n",
    "\n",
    "\n",
    "train_X = train_df.drop(['totals.transactionRevenue', 'fullVisitorId'], axis=1)\n",
    "val_X = val_df.drop(['totals.transactionRevenue', 'fullVisitorId'], axis=1)\n",
    "test_X = test_df.drop(['fullVisitorId'], axis=1)"
   ]
  },
  {
   "cell_type": "code",
   "execution_count": 47,
   "metadata": {},
   "outputs": [
    {
     "name": "stdout",
     "output_type": "stream",
     "text": [
      "\n",
      "Shape of the train dataset: (765707, 24)\n",
      "\n",
      "Shape of the val dataset: (137946, 24)\n",
      "\n",
      "Shape of the test dataset: (804684, 24)\n",
      "\n"
     ]
    }
   ],
   "source": [
    "print('\\nShape of the train dataset: {}'.format(train_X.shape))\n",
    "print('\\nShape of the val dataset: {}'.format(val_X.shape))\n",
    "print('\\nShape of the test dataset: {}\\n'.format(test_X.shape))"
   ]
  },
  {
   "cell_type": "code",
   "execution_count": null,
   "metadata": {},
   "outputs": [],
   "source": [
    "def lgbm_model()"
   ]
  }
 ],
 "metadata": {
  "file_extension": ".py",
  "kernelspec": {
   "display_name": "Python 3",
   "language": "python",
   "name": "python3"
  },
  "language_info": {
   "codemirror_mode": {
    "name": "ipython",
    "version": 3
   },
   "file_extension": ".py",
   "mimetype": "text/x-python",
   "name": "python",
   "nbconvert_exporter": "python",
   "pygments_lexer": "ipython3",
   "version": "3.7.2"
  },
  "mimetype": "text/x-python",
  "name": "python",
  "npconvert_exporter": "python",
  "pygments_lexer": "ipython3",
  "version": 3
 },
 "nbformat": 4,
 "nbformat_minor": 2
}
