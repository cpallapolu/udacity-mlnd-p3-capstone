{
 "cells": [
  {
   "cell_type": "markdown",
   "metadata": {},
   "source": [
    "# Customer Revenue Prediction"
   ]
  },
  {
   "cell_type": "markdown",
   "metadata": {},
   "source": [
    "## Baseline Light GBM Model\n",
    "*Machine Learning Nanodegree Program | Capstone Project*\n",
    "\n",
    "---"
   ]
  },
  {
   "cell_type": "markdown",
   "metadata": {},
   "source": [
    "In this notebook I will be creating a baseline model that can be used to evaluate the performance of the Pytorch model that I will be creating as part of the project.\n",
    "\n",
    "### Overview:\n",
    "- Reading the data\n",
    "- Initializing the Light GBM model\n",
    "- Training the model with the train dataset\n",
    "- Validating the model using the val dataset\n",
    "- Predict the revenue for customer in test dataset\n",
    "- Visualizing the results\n",
    "- Saving the base line results to a csv "
   ]
  },
  {
   "cell_type": "markdown",
   "metadata": {},
   "source": [
    "### Load and prepare Data\n",
    "\n",
    "First, import the relevant libraries into notebook"
   ]
  },
  {
   "cell_type": "code",
   "execution_count": 1,
   "metadata": {},
   "outputs": [],
   "source": [
    "import pandas as pd\n",
    "import numpy as np\n",
    "import matplotlib.pyplot as plt\n",
    "import seaborn as sns\n",
    "\n",
    "from lightgbm import LGBMModel\n",
    "from os import path\n",
    "from sklearn.metrics import mean_squared_error\n",
    "\n",
    "%matplotlib inline\n",
    "pd.set_option('display.float_format', lambda x: '%.10f' % x)"
   ]
  },
  {
   "cell_type": "markdown",
   "metadata": {},
   "source": [
    "Set the various paths for the training, validation, test files and storing the baseline results"
   ]
  },
  {
   "cell_type": "code",
   "execution_count": 2,
   "metadata": {},
   "outputs": [
    {
     "name": "stdout",
     "output_type": "stream",
     "text": [
      "\n",
      "Train file: ../datasets/train.zip\n",
      "\n",
      "Validation file: ../datasets/val.zip\n",
      "\n",
      "Validation Prediction file: ../datasets/lgbm_pred_val.zip\n",
      "\n",
      "Test file: ../datasets/test.zip\n",
      "\n",
      "Test Prediction file: ../datasets/lgbm_pred_test.zip\n",
      "\n",
      "Important Features file: ../datasets/lgbm_importances-01.png\n"
     ]
    }
   ],
   "source": [
    "data_dir = '../datasets'\n",
    "\n",
    "if not path.exists(data_dir):\n",
    "    raise Exception('{} directory not found.'.format(data_dir))\n",
    "\n",
    "train_file = '{}/{}'.format(data_dir, 'train.zip')\n",
    "print('\\nTrain file: {}'.format(train_file))\n",
    "\n",
    "val_file = '{}/{}'.format(data_dir, 'val.zip')\n",
    "print('\\nValidation file: {}'.format(val_file))\n",
    "\n",
    "pred_val_file = '{}/{}'.format(data_dir, 'lgbm_pred_val.zip')\n",
    "print('\\nValidation Prediction file: {}'.format(pred_val_file))\n",
    "\n",
    "test_file = '{}/{}'.format(data_dir, 'test.zip')\n",
    "print('\\nTest file: {}'.format(test_file))\n",
    "\n",
    "pred_test_file = '{}/{}'.format(data_dir, 'lgbm_pred_test.zip')\n",
    "print('\\nTest Prediction file: {}'.format(pred_test_file))\n",
    "\n",
    "imp_features_file = '{}/{}'.format(data_dir, 'lgbm_importances-01.png')\n",
    "print('\\nImportant Features file: {}'.format(imp_features_file))"
   ]
  },
  {
   "cell_type": "markdown",
   "metadata": {},
   "source": [
    "Method to load the dataset from the files"
   ]
  },
  {
   "cell_type": "code",
   "execution_count": 3,
   "metadata": {},
   "outputs": [],
   "source": [
    "def load_data(zip_path):\n",
    "    df = pd.read_csv(\n",
    "        zip_path,\n",
    "        dtype={'fullVisitorId': 'str'},\n",
    "        compression='zip'\n",
    "    )\n",
    "    \n",
    "    [rows, columns] = df.shape\n",
    "\n",
    "    print('Loaded {} rows with {} columns from {}.'.format(\n",
    "        rows, columns, zip_path\n",
    "    ))\n",
    "    \n",
    "    return df"
   ]
  },
  {
   "cell_type": "markdown",
   "metadata": {},
   "source": [
    "Load the train, validation and test datasets."
   ]
  },
  {
   "cell_type": "code",
   "execution_count": 4,
   "metadata": {},
   "outputs": [
    {
     "name": "stdout",
     "output_type": "stream",
     "text": [
      "Loaded 765707 rows with 26 columns from ../datasets/train.zip.\n",
      "Loaded 137946 rows with 26 columns from ../datasets/val.zip.\n",
      "Loaded 804684 rows with 25 columns from ../datasets/test.zip.\n",
      "\n",
      "CPU times: user 8.61 s, sys: 532 ms, total: 9.14 s\n",
      "Wall time: 9.35 s\n"
     ]
    }
   ],
   "source": [
    "%%time\n",
    "\n",
    "train_df = load_data(train_file)\n",
    "val_df = load_data(val_file)\n",
    "test_df = load_data(test_file)\n",
    "\n",
    "print()"
   ]
  },
  {
   "cell_type": "code",
   "execution_count": null,
   "metadata": {},
   "outputs": [],
   "source": [
    "train_df.head()"
   ]
  },
  {
   "cell_type": "markdown",
   "metadata": {},
   "source": [
    "For the LightBGM model, the labels should be separated from the features. I only need the _**fullVisitorId**_ to identify the customer and not for the training of the model. So I will drop the _**fullVisitorId**_ and _**totals.transactionRevenue**_ from the training and validation datasets and store them separately so that I can evaluate the results at later stage. From the test dataset we only need to drop _**fullVisitorId**_"
   ]
  },
  {
   "cell_type": "code",
   "execution_count": 5,
   "metadata": {},
   "outputs": [],
   "source": [
    "train_id = train_df['fullVisitorId'].values\n",
    "val_id = val_df['fullVisitorId'].values\n",
    "test_id = test_df['fullVisitorId'].values\n",
    "\n",
    "train_y = train_df['totals.transactionRevenue'].values\n",
    "train_log_y = np.log1p(train_y)\n",
    "\n",
    "val_y = val_df['totals.transactionRevenue'].values\n",
    "val_log_y = np.log1p(val_y)\n",
    "\n",
    "train_X = train_df.drop(['totals.transactionRevenue', 'fullVisitorId'], axis=1)\n",
    "val_X = val_df.drop(['totals.transactionRevenue', 'fullVisitorId'], axis=1)\n",
    "test_X = test_df.drop(['fullVisitorId'], axis=1)"
   ]
  },
  {
   "cell_type": "code",
   "execution_count": 6,
   "metadata": {},
   "outputs": [
    {
     "data": {
      "text/html": [
       "<style  type=\"text/css\" >\n",
       "    #T_3aeecfda_42ee_11ea_833d_f018982ce539 th {\n",
       "          text-align: center;\n",
       "    }</style><table id=\"T_3aeecfda_42ee_11ea_833d_f018982ce539\" ><thead>    <tr>        <th class=\"index_name level0\" >Type</th>        <th class=\"col_heading level0 col0\" colspan=2>Raw</th>        <th class=\"col_heading level0 col2\" colspan=2>Transformed</th>    </tr>    <tr>        <th class=\"index_name level1\" >Dataset</th>        <th class=\"col_heading level1 col0\" >Rows</th>        <th class=\"col_heading level1 col1\" >Columns</th>        <th class=\"col_heading level1 col2\" >Rows</th>        <th class=\"col_heading level1 col3\" >Columns</th>    </tr></thead><tbody>\n",
       "                <tr>\n",
       "                        <th id=\"T_3aeecfda_42ee_11ea_833d_f018982ce539level0_row0\" class=\"row_heading level0 row0\" >Train</th>\n",
       "                        <td id=\"T_3aeecfda_42ee_11ea_833d_f018982ce539row0_col0\" class=\"data row0 col0\" >765707</td>\n",
       "                        <td id=\"T_3aeecfda_42ee_11ea_833d_f018982ce539row0_col1\" class=\"data row0 col1\" >26</td>\n",
       "                        <td id=\"T_3aeecfda_42ee_11ea_833d_f018982ce539row0_col2\" class=\"data row0 col2\" >765707</td>\n",
       "                        <td id=\"T_3aeecfda_42ee_11ea_833d_f018982ce539row0_col3\" class=\"data row0 col3\" >24</td>\n",
       "            </tr>\n",
       "            <tr>\n",
       "                        <th id=\"T_3aeecfda_42ee_11ea_833d_f018982ce539level0_row1\" class=\"row_heading level0 row1\" >Validation</th>\n",
       "                        <td id=\"T_3aeecfda_42ee_11ea_833d_f018982ce539row1_col0\" class=\"data row1 col0\" >137946</td>\n",
       "                        <td id=\"T_3aeecfda_42ee_11ea_833d_f018982ce539row1_col1\" class=\"data row1 col1\" >26</td>\n",
       "                        <td id=\"T_3aeecfda_42ee_11ea_833d_f018982ce539row1_col2\" class=\"data row1 col2\" >137946</td>\n",
       "                        <td id=\"T_3aeecfda_42ee_11ea_833d_f018982ce539row1_col3\" class=\"data row1 col3\" >24</td>\n",
       "            </tr>\n",
       "            <tr>\n",
       "                        <th id=\"T_3aeecfda_42ee_11ea_833d_f018982ce539level0_row2\" class=\"row_heading level0 row2\" >Test</th>\n",
       "                        <td id=\"T_3aeecfda_42ee_11ea_833d_f018982ce539row2_col0\" class=\"data row2 col0\" >804684</td>\n",
       "                        <td id=\"T_3aeecfda_42ee_11ea_833d_f018982ce539row2_col1\" class=\"data row2 col1\" >25</td>\n",
       "                        <td id=\"T_3aeecfda_42ee_11ea_833d_f018982ce539row2_col2\" class=\"data row2 col2\" >804684</td>\n",
       "                        <td id=\"T_3aeecfda_42ee_11ea_833d_f018982ce539row2_col3\" class=\"data row2 col3\" >24</td>\n",
       "            </tr>\n",
       "    </tbody></table>"
      ],
      "text/plain": [
       "<pandas.io.formats.style.Styler at 0x1302ab400>"
      ]
     },
     "execution_count": 6,
     "metadata": {},
     "output_type": "execute_result"
    }
   ],
   "source": [
    "header = pd.MultiIndex.from_product(\n",
    "    [['Raw','Transformed'], ['Rows','Columns']],\n",
    "    names=['Type','Dataset']\n",
    ")\n",
    "\n",
    "shape_df = pd.DataFrame(\n",
    "    [train_df.shape + train_X.shape, val_df.shape + val_X.shape, test_df.shape + test_X.shape], \n",
    "    index=['Train', 'Validation', 'Test'], \n",
    "    columns=header\n",
    ")\n",
    "\n",
    "shape_df.style.set_table_styles([\n",
    "    {'selector': 'th', 'props': [('text-align', 'center')]}\n",
    "])"
   ]
  },
  {
   "cell_type": "markdown",
   "metadata": {},
   "source": [
    "### LightBGM Model\n",
    "\n",
    "I will be using the [LGBMModel](https://lightgbm.readthedocs.io/en/latest/pythonapi/lightgbm.LGBMModel.html#lightgbm.LGBMModel). This funtion creates the model trains the model using the train set and predicts the transaction revenue for val and test dataset."
   ]
  },
  {
   "cell_type": "code",
   "execution_count": 295,
   "metadata": {},
   "outputs": [],
   "source": [
    "def lgbm_model(train_X, train_y, val_X, val_y, test_X):\n",
    "    model = LGBMModel(\n",
    "        objective='regression',\n",
    "        metric='rmse',\n",
    "        learning_rate=0.1,\n",
    "        bagging_fraction=0.7,\n",
    "        feature_fraction=0.1,\n",
    "        bagging_freq=10,\n",
    "        bagging_seed=2020\n",
    "    )\n",
    "    \n",
    "    model = model.fit(\n",
    "        train_X, \n",
    "        train_y, \n",
    "        eval_set=(val_X, val_y),\n",
    "        early_stopping_rounds=100,\n",
    "        verbose=100\n",
    "    )\n",
    "    \n",
    "    return model"
   ]
  },
  {
   "cell_type": "code",
   "execution_count": 296,
   "metadata": {},
   "outputs": [
    {
     "name": "stdout",
     "output_type": "stream",
     "text": [
      "Training until validation scores don't improve for 100 rounds\n",
      "[100]\tvalid_0's rmse: 1.84692\n",
      "Did not meet early stopping. Best iteration is:\n",
      "[97]\tvalid_0's rmse: 1.84689\n"
     ]
    }
   ],
   "source": [
    "model = lgbm_model(train_X, train_log_y, val_X, val_log_y, test_X)"
   ]
  },
  {
   "cell_type": "markdown",
   "metadata": {},
   "source": [
    "### Prepare validation results\n",
    "\n",
    "In order to evaluate the model, I will be calculating the Root Mean Squared Error between the actual _**total.transactionRevenue**_ and the _**predictedRevenue**_ for the validation sets"
   ]
  },
  {
   "cell_type": "code",
   "execution_count": 297,
   "metadata": {},
   "outputs": [
    {
     "name": "stdout",
     "output_type": "stream",
     "text": [
      "CPU times: user 1.23 s, sys: 37.7 ms, total: 1.27 s\n",
      "Wall time: 1.47 s\n"
     ]
    }
   ],
   "source": [
    "%%time\n",
    "\n",
    "pred_val =  model.predict(val_X, num_iteration=model.best_iteration_)"
   ]
  },
  {
   "cell_type": "code",
   "execution_count": 298,
   "metadata": {},
   "outputs": [
    {
     "data": {
      "text/html": [
       "<div>\n",
       "<style scoped>\n",
       "    .dataframe tbody tr th:only-of-type {\n",
       "        vertical-align: middle;\n",
       "    }\n",
       "\n",
       "    .dataframe tbody tr th {\n",
       "        vertical-align: top;\n",
       "    }\n",
       "\n",
       "    .dataframe thead th {\n",
       "        text-align: right;\n",
       "    }\n",
       "</style>\n",
       "<table border=\"1\" class=\"dataframe\">\n",
       "  <thead>\n",
       "    <tr style=\"text-align: right;\">\n",
       "      <th></th>\n",
       "      <th>fullVisitorId</th>\n",
       "      <th>transactionRevenue</th>\n",
       "      <th>predictedRevenue</th>\n",
       "    </tr>\n",
       "  </thead>\n",
       "  <tbody>\n",
       "    <tr>\n",
       "      <th>0</th>\n",
       "      <td>0000062267706107999</td>\n",
       "      <td>0.0000000000</td>\n",
       "      <td>0.0000000000</td>\n",
       "    </tr>\n",
       "    <tr>\n",
       "      <th>1</th>\n",
       "      <td>0000085059828173212</td>\n",
       "      <td>0.0000000000</td>\n",
       "      <td>0.0454538013</td>\n",
       "    </tr>\n",
       "    <tr>\n",
       "      <th>2</th>\n",
       "      <td>000026722803385797</td>\n",
       "      <td>0.0000000000</td>\n",
       "      <td>0.0000000000</td>\n",
       "    </tr>\n",
       "    <tr>\n",
       "      <th>3</th>\n",
       "      <td>0000436683523507380</td>\n",
       "      <td>0.0000000000</td>\n",
       "      <td>3.2917779328</td>\n",
       "    </tr>\n",
       "    <tr>\n",
       "      <th>4</th>\n",
       "      <td>0000450371054833295</td>\n",
       "      <td>0.0000000000</td>\n",
       "      <td>0.0978862047</td>\n",
       "    </tr>\n",
       "  </tbody>\n",
       "</table>\n",
       "</div>"
      ],
      "text/plain": [
       "         fullVisitorId  transactionRevenue  predictedRevenue\n",
       "0  0000062267706107999        0.0000000000      0.0000000000\n",
       "1  0000085059828173212        0.0000000000      0.0454538013\n",
       "2   000026722803385797        0.0000000000      0.0000000000\n",
       "3  0000436683523507380        0.0000000000      3.2917779328\n",
       "4  0000450371054833295        0.0000000000      0.0978862047"
      ]
     },
     "execution_count": 298,
     "metadata": {},
     "output_type": "execute_result"
    }
   ],
   "source": [
    "pred_val[pred_val < 0] = 0\n",
    "\n",
    "pred_val_data = {\n",
    "    'fullVisitorId': val_id,\n",
    "    'transactionRevenue': val_y,\n",
    "    'predictedRevenue': np.expm1(pred_val)\n",
    "}\n",
    "\n",
    "pred_val_df = pd.DataFrame(pred_val_data)\n",
    "\n",
    "pred_val_df = pred_val_df.groupby('fullVisitorId')['transactionRevenue', 'predictedRevenue'].sum().reset_index()\n",
    "\n",
    "pred_val_df.head()"
   ]
  },
  {
   "cell_type": "code",
   "execution_count": 299,
   "metadata": {},
   "outputs": [
    {
     "name": "stdout",
     "output_type": "stream",
     "text": [
      "\n",
      "RSME for validation data set: 1.9171\n"
     ]
    }
   ],
   "source": [
    "rsme_val = np.sqrt(\n",
    "    mean_squared_error(\n",
    "        np.log1p(pred_val_df['transactionRevenue'].values),\n",
    "        np.log1p(pred_val_df['predictedRevenue'].values)\n",
    "    )\n",
    ")\n",
    "\n",
    "print('\\nRSME for validation data set: {:.4f}'.format(rsme_val))"
   ]
  },
  {
   "cell_type": "markdown",
   "metadata": {},
   "source": [
    "### Prepare test results\n",
    "\n",
    "We will use this RSME as the baseline and compare this model with the Pytorch model that will be created to evaluate which model is better"
   ]
  },
  {
   "cell_type": "markdown",
   "metadata": {},
   "source": [
    "Now lets create a base line output file for the predictions for the test dataset. "
   ]
  },
  {
   "cell_type": "code",
   "execution_count": 300,
   "metadata": {},
   "outputs": [
    {
     "name": "stdout",
     "output_type": "stream",
     "text": [
      "CPU times: user 7.1 s, sys: 274 ms, total: 7.37 s\n",
      "Wall time: 8.18 s\n"
     ]
    }
   ],
   "source": [
    "%%time\n",
    "\n",
    "pred_test =  model.predict(test_X, num_iteration=model.best_iteration_)"
   ]
  },
  {
   "cell_type": "code",
   "execution_count": 301,
   "metadata": {},
   "outputs": [
    {
     "data": {
      "text/html": [
       "<div>\n",
       "<style scoped>\n",
       "    .dataframe tbody tr th:only-of-type {\n",
       "        vertical-align: middle;\n",
       "    }\n",
       "\n",
       "    .dataframe tbody tr th {\n",
       "        vertical-align: top;\n",
       "    }\n",
       "\n",
       "    .dataframe thead th {\n",
       "        text-align: right;\n",
       "    }\n",
       "</style>\n",
       "<table border=\"1\" class=\"dataframe\">\n",
       "  <thead>\n",
       "    <tr style=\"text-align: right;\">\n",
       "      <th></th>\n",
       "      <th>fullVisitorId</th>\n",
       "      <th>predictedRevenue</th>\n",
       "    </tr>\n",
       "  </thead>\n",
       "  <tbody>\n",
       "    <tr>\n",
       "      <th>0</th>\n",
       "      <td>0000000259678714014</td>\n",
       "      <td>2.3897294998</td>\n",
       "    </tr>\n",
       "    <tr>\n",
       "      <th>1</th>\n",
       "      <td>0000049363351866189</td>\n",
       "      <td>0.0874586600</td>\n",
       "    </tr>\n",
       "    <tr>\n",
       "      <th>2</th>\n",
       "      <td>0000053049821714864</td>\n",
       "      <td>0.0000000000</td>\n",
       "    </tr>\n",
       "    <tr>\n",
       "      <th>3</th>\n",
       "      <td>0000059488412965267</td>\n",
       "      <td>1.9629093950</td>\n",
       "    </tr>\n",
       "    <tr>\n",
       "      <th>4</th>\n",
       "      <td>0000085840370633780</td>\n",
       "      <td>0.1048852054</td>\n",
       "    </tr>\n",
       "  </tbody>\n",
       "</table>\n",
       "</div>"
      ],
      "text/plain": [
       "         fullVisitorId  predictedRevenue\n",
       "0  0000000259678714014      2.3897294998\n",
       "1  0000049363351866189      0.0874586600\n",
       "2  0000053049821714864      0.0000000000\n",
       "3  0000059488412965267      1.9629093950\n",
       "4  0000085840370633780      0.1048852054"
      ]
     },
     "execution_count": 301,
     "metadata": {},
     "output_type": "execute_result"
    }
   ],
   "source": [
    "pred_test[pred_test < 0] = 0\n",
    "\n",
    "pred_test_data = {\n",
    "    'fullVisitorId': test_id,\n",
    "    'predictedRevenue': np.expm1(pred_test)\n",
    "}\n",
    "\n",
    "pred_test_df = pd.DataFrame(pred_test_data)\n",
    "\n",
    "pred_test_df = pred_test_df.groupby('fullVisitorId')['predictedRevenue'].sum().reset_index()\n",
    "\n",
    "pred_test_df.head()"
   ]
  },
  {
   "cell_type": "markdown",
   "metadata": {},
   "source": [
    "Write the predictions of val and test so that we can compare them with the future model"
   ]
  },
  {
   "cell_type": "code",
   "execution_count": 302,
   "metadata": {},
   "outputs": [],
   "source": [
    "pred_val_df.to_csv(pred_val_file, index=False, compression='zip')\n",
    "pred_test_df.to_csv(pred_test_file, index=False, compression='zip')"
   ]
  },
  {
   "cell_type": "markdown",
   "metadata": {},
   "source": [
    "### Important Features \n",
    "\n",
    "Visualization to see the feature importances for the model "
   ]
  },
  {
   "cell_type": "code",
   "execution_count": 121,
   "metadata": {},
   "outputs": [
    {
     "data": {
      "image/png": "[encoded data removed]",
      "text/plain": [
       "<Figure size 1008x1008 with 1 Axes>"
      ]
     },
     "metadata": {
      "needs_background": "light"
     },
     "output_type": "display_data"
    }
   ],
   "source": [
    "feature_imp = pd.DataFrame({\n",
    "    'Values':model.feature_importances_,\n",
    "    'Features':train_X.columns\n",
    "})\n",
    "\n",
    "feature_imp = feature_imp.sort_values(by=\"Values\", ascending=False)\n",
    "\n",
    "plt.figure(figsize=(14, 14))\n",
    "\n",
    "sns_bar = sns.barplot(\n",
    "    x=\"Values\", \n",
    "    y=\"Features\", \n",
    "    data=feature_imp,\n",
    "    palette=\"hls\",\n",
    ")\n",
    "\n",
    "for patch in sns_bar.patches:\n",
    "    x = patch.get_x() + patch.get_width() + 5\n",
    "    y = patch.get_y() + (patch.get_height() / 2)\n",
    "    \n",
    "    sns_bar.annotate(int(patch.get_width()), (x, y))\n",
    "\n",
    "plt.title(\n",
    "    \"\\nLightGBM - Feature Importance\\n(Feature Importances vs Features)\\n\", \n",
    "    fontsize=12\n",
    ")\n",
    "plt.xlabel('') \n",
    "plt.ylabel('') \n",
    "\n",
    "plt.savefig(\n",
    "    fname=imp_features_file,\n",
    "    bbox_inches = \"tight\"\n",
    ")\n",
    "\n",
    "plt.show()\n"
   ]
  },
  {
   "cell_type": "markdown",
   "metadata": {},
   "source": [
    "From the above plot, we see that **_totals.hits_**, **_visitStartTime_** and **_totals.pageviews_** are the most important features"
   ]
  },
  {
   "cell_type": "code",
   "execution_count": null,
   "metadata": {},
   "outputs": [],
   "source": []
  }
 ],
 "metadata": {
  "file_extension": ".py",
  "kernelspec": {
   "display_name": "Python 3",
   "language": "python",
   "name": "python3"
  },
  "language_info": {
   "codemirror_mode": {
    "name": "ipython",
    "version": 3
   },
   "file_extension": ".py",
   "mimetype": "text/x-python",
   "name": "python",
   "nbconvert_exporter": "python",
   "pygments_lexer": "ipython3",
   "version": "3.7.2"
  },
  "mimetype": "text/x-python",
  "name": "python",
  "npconvert_exporter": "python",
  "pygments_lexer": "ipython3",
  "version": 3
 },
 "nbformat": 4,
 "nbformat_minor": 2
}
