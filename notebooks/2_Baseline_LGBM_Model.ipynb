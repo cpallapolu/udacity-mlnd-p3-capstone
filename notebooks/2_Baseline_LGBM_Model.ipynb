{
 "cells": [
  {
   "cell_type": "markdown",
   "metadata": {},
   "source": [
    "# Customer Revenue Prediction"
   ]
  },
  {
   "cell_type": "markdown",
   "metadata": {},
   "source": [
    "## Baseline Light GBM Model\n",
    "*Machine Learning Nanodegree Program | Capstone Project*\n",
    "\n",
    "---"
   ]
  },
  {
   "cell_type": "markdown",
   "metadata": {},
   "source": [
    "In this notebook I will be creating a baseline model that can be used to evaluate the performance of the Pytorch model that I will be creating as part of the project.\n",
    "\n",
    "### Overview:\n",
    "- Reading the data\n",
    "- Initializing the Light GBM model\n",
    "- Training the model with the train dataset\n",
    "- Validating the model using the val dataset\n",
    "- Predict the revenue for customer in test dataset\n",
    "- Visualizing the results\n",
    "- Saving the base line results to a csv "
   ]
  },
  {
   "cell_type": "markdown",
   "metadata": {},
   "source": [
    "First, import the relevant libraries into notebook"
   ]
  },
  {
   "cell_type": "code",
   "execution_count": 1,
   "metadata": {},
   "outputs": [],
   "source": [
    "import pandas as pd\n",
    "import numpy as np\n",
    "import matplotlib.pyplot as plt\n",
    "import seaborn as sns\n",
    "\n",
    "from lightgbm import LGBMModel\n",
    "from os import path\n",
    "from sklearn.metrics import mean_squared_error"
   ]
  },
  {
   "cell_type": "markdown",
   "metadata": {},
   "source": [
    "Set the various paths for the training, validation, test files and storing the baseline results"
   ]
  },
  {
   "cell_type": "code",
   "execution_count": 2,
   "metadata": {},
   "outputs": [
    {
     "name": "stdout",
     "output_type": "stream",
     "text": [
      "\n",
      "Train file: ../data/files/train.zip\n",
      "\n",
      "Val file: ../data/files/val.zip\n",
      "\n",
      "Test file: ../data/files/test.zip\n",
      "\n",
      "Baseline file: ../data/files/baseline.zip\n",
      "\n",
      "Important Features file: ../data/files/lgbm_importances-01.png\n"
     ]
    }
   ],
   "source": [
    "files_dir = '../data/files'\n",
    "\n",
    "if not path.exists(files_dir):\n",
    "    raise Exception('{} directory not found.'.format(\n",
    "        files_dir\n",
    "    ))\n",
    "\n",
    "train_file = '{}/{}'.format(files_dir, 'train.zip')\n",
    "print('\\nTrain file: {}'.format(train_file))\n",
    "\n",
    "val_file = '{}/{}'.format(files_dir, 'val.zip')\n",
    "print('\\nVal file: {}'.format(val_file))\n",
    "\n",
    "test_file = '{}/{}'.format(files_dir, 'test.zip')\n",
    "print('\\nTest file: {}'.format(test_file))\n",
    "\n",
    "baseline_file = '{}/{}'.format(files_dir, 'baseline.zip')\n",
    "print('\\nBaseline file: {}'.format(baseline_file))\n",
    "\n",
    "imp_features_file = '{}/{}'.format(files_dir, 'lgbm_importances-01.png')\n",
    "print('\\nImportant Features file: {}'.format(imp_features_file))"
   ]
  },
  {
   "cell_type": "markdown",
   "metadata": {},
   "source": [
    "Method to load the dataset from the files"
   ]
  },
  {
   "cell_type": "code",
   "execution_count": 3,
   "metadata": {},
   "outputs": [],
   "source": [
    "def load_data(zip_path):\n",
    "    df = pd.read_csv(\n",
    "        zip_path,\n",
    "        dtype={'fullVisitorId': 'str'},\n",
    "        compression='zip'\n",
    "    )\n",
    "    \n",
    "    [rows, columns] = df.shape\n",
    "\n",
    "    print('\\nLoaded {} rows with {} columns from {}.\\n'.format(\n",
    "        rows, columns, zip_path\n",
    "    ))\n",
    "    \n",
    "    return df"
   ]
  },
  {
   "cell_type": "markdown",
   "metadata": {},
   "source": [
    "Load the train, validation and test datasets."
   ]
  },
  {
   "cell_type": "code",
   "execution_count": 4,
   "metadata": {},
   "outputs": [
    {
     "name": "stdout",
     "output_type": "stream",
     "text": [
      "\n",
      "Loaded 765707 rows with 26 columns from ../data/files/train.zip.\n",
      "\n",
      "\n",
      "Loaded 137946 rows with 26 columns from ../data/files/val.zip.\n",
      "\n",
      "\n",
      "Loaded 804684 rows with 25 columns from ../data/files/test.zip.\n",
      "\n",
      "CPU times: user 8.28 s, sys: 506 ms, total: 8.78 s\n",
      "Wall time: 9.05 s\n"
     ]
    }
   ],
   "source": [
    "%%time\n",
    "\n",
    "train_df = load_data(train_file)\n",
    "val_df = load_data(val_file)\n",
    "test_df = load_data(test_file)"
   ]
  },
  {
   "cell_type": "markdown",
   "metadata": {},
   "source": [
    "For the LightBGM model, the labels should be separated from the features. I only need the _**fullVisitorId**_ to identify the customer and not for the training of the model. So I will drop the _**fullVisitorId**_ and _**totals.transactionRevenue**_ from the training and validation datasets and store them separately so that I can evaluate the results at later stage. From the test dataset we only need to drop _**fullVisitorId**_"
   ]
  },
  {
   "cell_type": "code",
   "execution_count": 5,
   "metadata": {},
   "outputs": [],
   "source": [
    "train_id = train_df[\"fullVisitorId\"].values\n",
    "val_id = val_df[\"fullVisitorId\"].values\n",
    "test_id = test_df[\"fullVisitorId\"].values\n",
    "\n",
    "train_y = np.log1p(train_df[\"totals.transactionRevenue\"].values)\n",
    "val_y = np.log1p(val_df[\"totals.transactionRevenue\"].values)\n",
    "\n",
    "train_X = train_df.drop(['totals.transactionRevenue', 'fullVisitorId'], axis=1)\n",
    "val_X = val_df.drop(['totals.transactionRevenue', 'fullVisitorId'], axis=1)\n",
    "test_X = test_df.drop(['fullVisitorId'], axis=1)"
   ]
  },
  {
   "cell_type": "code",
   "execution_count": 6,
   "metadata": {},
   "outputs": [
    {
     "name": "stdout",
     "output_type": "stream",
     "text": [
      "\n",
      "Shape of the train dataset: (765707, 24)\n",
      "\n",
      "Shape of the val dataset: (137946, 24)\n",
      "\n",
      "Shape of the test dataset: (804684, 24)\n",
      "\n"
     ]
    },
    {
     "data": {
      "text/html": [
       "<div>\n",
       "<style scoped>\n",
       "    .dataframe tbody tr th:only-of-type {\n",
       "        vertical-align: middle;\n",
       "    }\n",
       "\n",
       "    .dataframe tbody tr th {\n",
       "        vertical-align: top;\n",
       "    }\n",
       "\n",
       "    .dataframe thead th {\n",
       "        text-align: right;\n",
       "    }\n",
       "</style>\n",
       "<table border=\"1\" class=\"dataframe\">\n",
       "  <thead>\n",
       "    <tr style=\"text-align: right;\">\n",
       "      <th></th>\n",
       "      <th>channelGrouping</th>\n",
       "      <th>device.browser</th>\n",
       "      <th>device.deviceCategory</th>\n",
       "      <th>device.isMobile</th>\n",
       "      <th>device.operatingSystem</th>\n",
       "      <th>geoNetwork.city</th>\n",
       "      <th>geoNetwork.continent</th>\n",
       "      <th>geoNetwork.country</th>\n",
       "      <th>geoNetwork.metro</th>\n",
       "      <th>geoNetwork.networkDomain</th>\n",
       "      <th>...</th>\n",
       "      <th>trafficSource.keyword</th>\n",
       "      <th>trafficSource.medium</th>\n",
       "      <th>trafficSource.source</th>\n",
       "      <th>trafficSource.referralPath</th>\n",
       "      <th>totals.bounces</th>\n",
       "      <th>totals.hits</th>\n",
       "      <th>totals.newVisits</th>\n",
       "      <th>totals.pageviews</th>\n",
       "      <th>visitNumber</th>\n",
       "      <th>visitStartTime</th>\n",
       "    </tr>\n",
       "  </thead>\n",
       "  <tbody>\n",
       "    <tr>\n",
       "      <th>0</th>\n",
       "      <td>0.571429</td>\n",
       "      <td>0.284483</td>\n",
       "      <td>0.0</td>\n",
       "      <td>0.0</td>\n",
       "      <td>0.869565</td>\n",
       "      <td>0.395178</td>\n",
       "      <td>0.4</td>\n",
       "      <td>0.925110</td>\n",
       "      <td>0.595041</td>\n",
       "      <td>0.892208</td>\n",
       "      <td>...</td>\n",
       "      <td>0.113337</td>\n",
       "      <td>0.8</td>\n",
       "      <td>0.416834</td>\n",
       "      <td>1.0</td>\n",
       "      <td>1.0</td>\n",
       "      <td>0.0</td>\n",
       "      <td>1.0</td>\n",
       "      <td>0.0</td>\n",
       "      <td>0.000000</td>\n",
       "      <td>0.088405</td>\n",
       "    </tr>\n",
       "    <tr>\n",
       "      <th>1</th>\n",
       "      <td>0.571429</td>\n",
       "      <td>0.353448</td>\n",
       "      <td>0.0</td>\n",
       "      <td>0.0</td>\n",
       "      <td>0.260870</td>\n",
       "      <td>0.579665</td>\n",
       "      <td>1.0</td>\n",
       "      <td>0.048458</td>\n",
       "      <td>0.595041</td>\n",
       "      <td>0.240549</td>\n",
       "      <td>...</td>\n",
       "      <td>0.113337</td>\n",
       "      <td>0.8</td>\n",
       "      <td>0.416834</td>\n",
       "      <td>1.0</td>\n",
       "      <td>1.0</td>\n",
       "      <td>0.0</td>\n",
       "      <td>1.0</td>\n",
       "      <td>0.0</td>\n",
       "      <td>0.000000</td>\n",
       "      <td>0.089979</td>\n",
       "    </tr>\n",
       "    <tr>\n",
       "      <th>2</th>\n",
       "      <td>0.571429</td>\n",
       "      <td>0.284483</td>\n",
       "      <td>0.0</td>\n",
       "      <td>0.0</td>\n",
       "      <td>0.869565</td>\n",
       "      <td>0.496855</td>\n",
       "      <td>0.6</td>\n",
       "      <td>0.814978</td>\n",
       "      <td>0.595041</td>\n",
       "      <td>0.007671</td>\n",
       "      <td>...</td>\n",
       "      <td>0.113337</td>\n",
       "      <td>0.8</td>\n",
       "      <td>0.416834</td>\n",
       "      <td>1.0</td>\n",
       "      <td>1.0</td>\n",
       "      <td>0.0</td>\n",
       "      <td>1.0</td>\n",
       "      <td>0.0</td>\n",
       "      <td>0.000000</td>\n",
       "      <td>0.089512</td>\n",
       "    </tr>\n",
       "    <tr>\n",
       "      <th>3</th>\n",
       "      <td>0.571429</td>\n",
       "      <td>0.672414</td>\n",
       "      <td>0.0</td>\n",
       "      <td>0.0</td>\n",
       "      <td>0.217391</td>\n",
       "      <td>0.579665</td>\n",
       "      <td>0.4</td>\n",
       "      <td>0.409692</td>\n",
       "      <td>0.595041</td>\n",
       "      <td>0.007671</td>\n",
       "      <td>...</td>\n",
       "      <td>0.298089</td>\n",
       "      <td>0.8</td>\n",
       "      <td>0.416834</td>\n",
       "      <td>1.0</td>\n",
       "      <td>1.0</td>\n",
       "      <td>0.0</td>\n",
       "      <td>1.0</td>\n",
       "      <td>0.0</td>\n",
       "      <td>0.000000</td>\n",
       "      <td>0.090012</td>\n",
       "    </tr>\n",
       "    <tr>\n",
       "      <th>4</th>\n",
       "      <td>0.571429</td>\n",
       "      <td>0.284483</td>\n",
       "      <td>0.5</td>\n",
       "      <td>1.0</td>\n",
       "      <td>0.000000</td>\n",
       "      <td>0.579665</td>\n",
       "      <td>0.6</td>\n",
       "      <td>0.955947</td>\n",
       "      <td>0.595041</td>\n",
       "      <td>0.007671</td>\n",
       "      <td>...</td>\n",
       "      <td>0.113337</td>\n",
       "      <td>0.8</td>\n",
       "      <td>0.416834</td>\n",
       "      <td>1.0</td>\n",
       "      <td>1.0</td>\n",
       "      <td>0.0</td>\n",
       "      <td>0.0</td>\n",
       "      <td>0.0</td>\n",
       "      <td>0.002538</td>\n",
       "      <td>0.088159</td>\n",
       "    </tr>\n",
       "  </tbody>\n",
       "</table>\n",
       "<p>5 rows × 24 columns</p>\n",
       "</div>"
      ],
      "text/plain": [
       "   channelGrouping  device.browser  device.deviceCategory  device.isMobile  \\\n",
       "0         0.571429        0.284483                    0.0              0.0   \n",
       "1         0.571429        0.353448                    0.0              0.0   \n",
       "2         0.571429        0.284483                    0.0              0.0   \n",
       "3         0.571429        0.672414                    0.0              0.0   \n",
       "4         0.571429        0.284483                    0.5              1.0   \n",
       "\n",
       "   device.operatingSystem  geoNetwork.city  geoNetwork.continent  \\\n",
       "0                0.869565         0.395178                   0.4   \n",
       "1                0.260870         0.579665                   1.0   \n",
       "2                0.869565         0.496855                   0.6   \n",
       "3                0.217391         0.579665                   0.4   \n",
       "4                0.000000         0.579665                   0.6   \n",
       "\n",
       "   geoNetwork.country  geoNetwork.metro  geoNetwork.networkDomain  ...  \\\n",
       "0            0.925110          0.595041                  0.892208  ...   \n",
       "1            0.048458          0.595041                  0.240549  ...   \n",
       "2            0.814978          0.595041                  0.007671  ...   \n",
       "3            0.409692          0.595041                  0.007671  ...   \n",
       "4            0.955947          0.595041                  0.007671  ...   \n",
       "\n",
       "   trafficSource.keyword  trafficSource.medium  trafficSource.source  \\\n",
       "0               0.113337                   0.8              0.416834   \n",
       "1               0.113337                   0.8              0.416834   \n",
       "2               0.113337                   0.8              0.416834   \n",
       "3               0.298089                   0.8              0.416834   \n",
       "4               0.113337                   0.8              0.416834   \n",
       "\n",
       "   trafficSource.referralPath  totals.bounces  totals.hits  totals.newVisits  \\\n",
       "0                         1.0             1.0          0.0               1.0   \n",
       "1                         1.0             1.0          0.0               1.0   \n",
       "2                         1.0             1.0          0.0               1.0   \n",
       "3                         1.0             1.0          0.0               1.0   \n",
       "4                         1.0             1.0          0.0               0.0   \n",
       "\n",
       "   totals.pageviews  visitNumber  visitStartTime  \n",
       "0               0.0     0.000000        0.088405  \n",
       "1               0.0     0.000000        0.089979  \n",
       "2               0.0     0.000000        0.089512  \n",
       "3               0.0     0.000000        0.090012  \n",
       "4               0.0     0.002538        0.088159  \n",
       "\n",
       "[5 rows x 24 columns]"
      ]
     },
     "execution_count": 6,
     "metadata": {},
     "output_type": "execute_result"
    }
   ],
   "source": [
    "print('\\nShape of the train dataset: {}'.format(train_X.shape))\n",
    "print('\\nShape of the val dataset: {}'.format(val_X.shape))\n",
    "print('\\nShape of the test dataset: {}\\n'.format(test_X.shape))"
   ]
  },
  {
   "cell_type": "markdown",
   "metadata": {},
   "source": [
    "I will be using the [LGBMModel](https://lightgbm.readthedocs.io/en/latest/pythonapi/lightgbm.LGBMModel.html#lightgbm.LGBMModel). This funtion creates the model trains the model using the train set and predicts the transaction revenue for val and test dataset."
   ]
  },
  {
   "cell_type": "code",
   "execution_count": 7,
   "metadata": {},
   "outputs": [],
   "source": [
    "def lgbm_model(train_X, train_y, val_X, val_y, test_X):\n",
    "    model = LGBMModel(\n",
    "        objective='regression',\n",
    "        metric='rmse',\n",
    "        n_estimators=1000,\n",
    "        learning_rate= 0.1,\n",
    "        min_child_samples=100,\n",
    "        bagging_fraction=0.7,\n",
    "        feature_fraction=0.5,\n",
    "        bagging_freq=5,\n",
    "        bagging_seed=2020\n",
    "    )\n",
    "    \n",
    "    model = model.fit(\n",
    "        train_X, \n",
    "        train_y, \n",
    "        eval_set=(val_X, val_y),\n",
    "        early_stopping_rounds=100,\n",
    "        verbose=100\n",
    "    )\n",
    "        \n",
    "    pred_test_y = model.predict(\n",
    "        test_X, \n",
    "        num_iteration=model.best_iteration_\n",
    "    )\n",
    "    pred_val_y = model.predict(\n",
    "        val_X, \n",
    "        num_iteration=model.best_iteration_\n",
    "    )\n",
    "    \n",
    "    return pred_test_y, pred_val_y, model"
   ]
  },
  {
   "cell_type": "code",
   "execution_count": 8,
   "metadata": {},
   "outputs": [
    {
     "name": "stdout",
     "output_type": "stream",
     "text": [
      "Training until validation scores don't improve for 100 rounds\n",
      "[100]\tvalid_0's rmse: 1.70385\n",
      "[200]\tvalid_0's rmse: 1.69903\n",
      "[300]\tvalid_0's rmse: 1.69869\n",
      "Early stopping, best iteration is:\n",
      "[283]\tvalid_0's rmse: 1.69773\n"
     ]
    }
   ],
   "source": [
    "pred_test, pred_val, model = lgbm_model(train_X, train_y, val_X, val_y, test_X)"
   ]
  },
  {
   "cell_type": "markdown",
   "metadata": {},
   "source": [
    "In order to evaluate the model, I will be calculating the Root Mean Squared Error between the actual _**total.transactionRevenue**_ and the _**predictedRevenue**_ for the validation sets"
   ]
  },
  {
   "cell_type": "code",
   "execution_count": 9,
   "metadata": {},
   "outputs": [
    {
     "name": "stdout",
     "output_type": "stream",
     "text": [
      "\n",
      "RSME for validation data set: 1.716\n",
      "\n"
     ]
    }
   ],
   "source": [
    "pred_val[pred_val < 0] = 0\n",
    "\n",
    "pred_val_df = pd.DataFrame({ 'fullVisitorId': val_id })\n",
    "pred_val_df['transactionRevenue'] = val_df[\"totals.transactionRevenue\"].values\n",
    "pred_val_df['predictedRevenue'] = np.expm1(pred_val)\n",
    "\n",
    "pred_val_df = pred_val_df.groupby('fullVisitorId')['transactionRevenue', 'predictedRevenue'].sum().reset_index()\n",
    "\n",
    "rsme_val = np.sqrt(\n",
    "    mean_squared_error(\n",
    "        np.log1p(pred_val_df[\"transactionRevenue\"].values), \n",
    "        np.log1p(pred_val_df[\"predictedRevenue\"].values))\n",
    ")\n",
    "\n",
    "print('\\nRSME for validation data set: {:.3f}\\n'.format(rsme_val))"
   ]
  },
  {
   "cell_type": "markdown",
   "metadata": {},
   "source": [
    "We will use this RSME as the baseline and compare this model with the Pytorch model that will be created to evaluate which model is better"
   ]
  },
  {
   "cell_type": "markdown",
   "metadata": {},
   "source": [
    "<br />\n",
    "Now lets create a base line output file for the predictions for the test dataset. "
   ]
  },
  {
   "cell_type": "code",
   "execution_count": 10,
   "metadata": {},
   "outputs": [],
   "source": [
    "baseline_df = pd.DataFrame({ 'fullVisitorId': test_id })\n",
    "\n",
    "pred_test[pred_test < 0] = 0\n",
    "\n",
    "baseline_df['predictedRevenue'] = np.expm1(pred_test)\n",
    "\n",
    "baseline_df = baseline_df.groupby('fullVisitorId')['predictedRevenue'].sum().reset_index()\n",
    "\n",
    "baseline_df.columns = ['fullVisitorId', 'predictedRevenue']\n",
    "\n",
    "baseline_df[\"predictedRevenue\"] = np.log1p(baseline_df[\"predictedRevenue\"])\n",
    "\n",
    "baseline_df.to_csv(baseline_file, index=False, compression='zip')"
   ]
  },
  {
   "cell_type": "code",
   "execution_count": 11,
   "metadata": {},
   "outputs": [
    {
     "data": {
      "text/html": [
       "<div>\n",
       "<style scoped>\n",
       "    .dataframe tbody tr th:only-of-type {\n",
       "        vertical-align: middle;\n",
       "    }\n",
       "\n",
       "    .dataframe tbody tr th {\n",
       "        vertical-align: top;\n",
       "    }\n",
       "\n",
       "    .dataframe thead th {\n",
       "        text-align: right;\n",
       "    }\n",
       "</style>\n",
       "<table border=\"1\" class=\"dataframe\">\n",
       "  <thead>\n",
       "    <tr style=\"text-align: right;\">\n",
       "      <th></th>\n",
       "      <th>fullVisitorId</th>\n",
       "      <th>predictedRevenue</th>\n",
       "    </tr>\n",
       "  </thead>\n",
       "  <tbody>\n",
       "    <tr>\n",
       "      <th>0</th>\n",
       "      <td>0000000259678714014</td>\n",
       "      <td>0.214314</td>\n",
       "    </tr>\n",
       "    <tr>\n",
       "      <th>1</th>\n",
       "      <td>0000049363351866189</td>\n",
       "      <td>0.000765</td>\n",
       "    </tr>\n",
       "    <tr>\n",
       "      <th>2</th>\n",
       "      <td>0000053049821714864</td>\n",
       "      <td>0.000000</td>\n",
       "    </tr>\n",
       "    <tr>\n",
       "      <th>3</th>\n",
       "      <td>0000059488412965267</td>\n",
       "      <td>0.000000</td>\n",
       "    </tr>\n",
       "    <tr>\n",
       "      <th>4</th>\n",
       "      <td>0000085840370633780</td>\n",
       "      <td>0.000000</td>\n",
       "    </tr>\n",
       "  </tbody>\n",
       "</table>\n",
       "</div>"
      ],
      "text/plain": [
       "         fullVisitorId  predictedRevenue\n",
       "0  0000000259678714014          0.214314\n",
       "1  0000049363351866189          0.000765\n",
       "2  0000053049821714864          0.000000\n",
       "3  0000059488412965267          0.000000\n",
       "4  0000085840370633780          0.000000"
      ]
     },
     "execution_count": 11,
     "metadata": {},
     "output_type": "execute_result"
    }
   ],
   "source": [
    "baseline_df.head()"
   ]
  },
  {
   "cell_type": "markdown",
   "metadata": {},
   "source": [
    "Visualization to see the feature importances for the model "
   ]
  },
  {
   "cell_type": "code",
   "execution_count": 89,
   "metadata": {},
   "outputs": [
    {
     "name": "stdout",
     "output_type": "stream",
     "text": [
      "\n",
      "-0.4 0 1384.0\n",
      "0.4 1388.6\n",
      "\n",
      "0.6 0 1277.0\n",
      "0.4 1282.6\n",
      "\n",
      "1.6 0 1113.0\n",
      "0.4 1119.6\n",
      "\n",
      "2.6 0 662.0\n",
      "0.4 669.6\n",
      "\n",
      "3.6 0 542.0\n",
      "0.4 550.6\n",
      "\n",
      "4.6 0 497.0\n",
      "0.4 506.6\n",
      "\n",
      "5.6 0 409.0\n",
      "0.4 419.6\n",
      "\n",
      "6.6 0 335.0\n",
      "0.4 346.6\n",
      "\n",
      "7.6 0 326.0\n",
      "0.4 338.6\n",
      "\n",
      "8.6 0 280.0\n",
      "0.4 293.6\n",
      "\n",
      "9.6 0 219.0\n",
      "0.4 233.6\n",
      "\n",
      "10.6 0 201.0\n",
      "0.4 216.6\n",
      "\n",
      "11.6 0 191.0\n",
      "0.4 207.6\n",
      "\n",
      "12.6 0 174.0\n",
      "0.4 191.6\n",
      "\n",
      "13.6 0 155.0\n",
      "0.4 173.6\n",
      "\n",
      "14.6 0 130.0\n",
      "0.4 149.6\n",
      "\n",
      "15.6 0 107.0\n",
      "0.4 127.6\n",
      "\n",
      "16.6 0 100.0\n",
      "0.4 121.6\n",
      "\n",
      "17.6 0 84.0\n",
      "0.4 106.6\n",
      "\n",
      "18.6 0 81.0\n",
      "0.4 104.6\n",
      "\n",
      "19.6 0 70.0\n",
      "0.4 94.6\n",
      "\n",
      "20.6 0 63.0\n",
      "0.4 88.6\n",
      "\n",
      "21.6 0 62.0\n",
      "0.4 88.6\n",
      "\n",
      "22.6 0 28.0\n",
      "0.4 55.6\n"
     ]
    },
    {
     "data": {
      "image/png": "[encoded data removed]",
      "text/plain": [
       "<Figure size 1008x1008 with 1 Axes>"
      ]
     },
     "metadata": {
      "needs_background": "light"
     },
     "output_type": "display_data"
    }
   ],
   "source": [
    "feature_imp = pd.DataFrame({\n",
    "    'Values':model.feature_importances_,\n",
    "    'Features':train_X.columns\n",
    "})\n",
    "\n",
    "feature_imp = feature_imp.sort_values(by=\"Values\", ascending=False)\n",
    "\n",
    "plt.figure(figsize=(14, 14))\n",
    "\n",
    "sns_bar = sns.barplot(\n",
    "    x=\"Values\", \n",
    "    y=\"Features\", \n",
    "    data=feature_imp,\n",
    "    orient='V',\n",
    "    palette=\"hls\",\n",
    ")\n",
    "\n",
    "for patch in sns_bar.patches:\n",
    "    x = patch.get_x() + patch.get_width() + 5\n",
    "    y = patch.get_y() + (patch.get_height() / 2)\n",
    "    sns_bar.annotate(int(patch.get_width()), (x, y))\n",
    "\n",
    "plt.title(\n",
    "    \"\\nLightGBM - Feature Importance\\n(Feature Importances vs Features)\\n\", \n",
    "    fontsize=12\n",
    ")\n",
    "plt.xlabel('') \n",
    "plt.ylabel('') \n",
    "\n",
    "plt.savefig(\n",
    "    fname=imp_features_file,\n",
    "    bbox_inches = \"tight\"\n",
    ")\n",
    "\n",
    "plt.show()\n"
   ]
  },
  {
   "cell_type": "markdown",
   "metadata": {},
   "source": [
    "From the above plot, we see that **_totals.hits_**, **_visitStartTime_** and **_totals.pageviews_** are the most important features"
   ]
  },
  {
   "cell_type": "code",
   "execution_count": null,
   "metadata": {},
   "outputs": [],
   "source": []
  }
 ],
 "metadata": {
  "file_extension": ".py",
  "kernelspec": {
   "display_name": "Python 3",
   "language": "python",
   "name": "python3"
  },
  "language_info": {
   "codemirror_mode": {
    "name": "ipython",
    "version": 3
   },
   "file_extension": ".py",
   "mimetype": "text/x-python",
   "name": "python",
   "nbconvert_exporter": "python",
   "pygments_lexer": "ipython3",
   "version": "3.7.2"
  },
  "mimetype": "text/x-python",
  "name": "python",
  "npconvert_exporter": "python",
  "pygments_lexer": "ipython3",
  "version": 3
 },
 "nbformat": 4,
 "nbformat_minor": 2
}
