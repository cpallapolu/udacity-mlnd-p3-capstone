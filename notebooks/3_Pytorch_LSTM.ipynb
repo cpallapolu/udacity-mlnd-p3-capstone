{
 "cells": [
  {
   "cell_type": "markdown",
   "metadata": {},
   "source": [
    "# Customer Revenue Prediction"
   ]
  },
  {
   "cell_type": "markdown",
   "metadata": {},
   "source": [
    "## PyTorch LSTM Model\n",
    "*Machine Learning Nanodegree Program | Capstone Project*\n",
    "\n",
    "---"
   ]
  },
  {
   "cell_type": "markdown",
   "metadata": {},
   "source": [
    "In this notebook I will be creating a PyTorch LSTM model and compare it with the baseline model I created earlier.\n",
    "\n",
    "### Overview:\n",
    "- Reading the data\n",
    "- Preparing the tensors for the PyTorch Model\n",
    "- Initializing the LSTM model\n",
    "- Training the model with the train dataset\n",
    "- Validating the model using the val dataset\n",
    "- Predict the revenue for customer in test dataset\n",
    "- Visualizing the results\n",
    "- Compare the results with the baseline model\n",
    "- Saving the results to a csv "
   ]
  },
  {
   "cell_type": "markdown",
   "metadata": {},
   "source": [
    "First, import the relevant libraries into notebook"
   ]
  },
  {
   "cell_type": "code",
   "execution_count": 15,
   "metadata": {},
   "outputs": [],
   "source": [
    "import pandas as pd\n",
    "import numpy as np\n",
    "import matplotlib.pyplot as plt\n",
    "import seaborn as sns\n",
    "\n",
    "import sagemaker\n",
    "import boto3\n",
    "\n",
    "from os import path\n",
    "from sklearn.metrics import mean_squared_error\n",
    "\n",
    "%matplotlib inline"
   ]
  },
  {
   "cell_type": "code",
   "execution_count": 16,
   "metadata": {},
   "outputs": [
    {
     "name": "stderr",
     "output_type": "stream",
     "text": [
      "Couldn't call 'get_role' to get Role ARN from role name arn:aws:iam::201308845573:root to get Role path.\n"
     ]
    },
    {
     "ename": "ValueError",
     "evalue": "The current AWS identity is not a role: arn:aws:iam::201308845573:root, therefore it cannot be used as a SageMaker execution role",
     "output_type": "error",
     "traceback": [
      "\u001b[0;31m---------------------------------------------------------------------------\u001b[0m",
      "\u001b[0;31mValueError\u001b[0m                                Traceback (most recent call last)",
      "\u001b[0;32m<ipython-input-16-3e2f6453fac2>\u001b[0m in \u001b[0;36m<module>\u001b[0;34m\u001b[0m\n\u001b[1;32m      1\u001b[0m \u001b[0;31m# session and role\u001b[0m\u001b[0;34m\u001b[0m\u001b[0;34m\u001b[0m\u001b[0;34m\u001b[0m\u001b[0m\n\u001b[1;32m      2\u001b[0m \u001b[0msagemaker_session\u001b[0m \u001b[0;34m=\u001b[0m \u001b[0msagemaker\u001b[0m\u001b[0;34m.\u001b[0m\u001b[0mSession\u001b[0m\u001b[0;34m(\u001b[0m\u001b[0;34m)\u001b[0m\u001b[0;34m\u001b[0m\u001b[0;34m\u001b[0m\u001b[0m\n\u001b[0;32m----> 3\u001b[0;31m \u001b[0mrole\u001b[0m \u001b[0;34m=\u001b[0m \u001b[0msagemaker\u001b[0m\u001b[0;34m.\u001b[0m\u001b[0mget_execution_role\u001b[0m\u001b[0;34m(\u001b[0m\u001b[0;34m)\u001b[0m\u001b[0;34m\u001b[0m\u001b[0;34m\u001b[0m\u001b[0m\n\u001b[0m\u001b[1;32m      4\u001b[0m \u001b[0;34m\u001b[0m\u001b[0m\n\u001b[1;32m      5\u001b[0m \u001b[0mbucket\u001b[0m \u001b[0;34m=\u001b[0m \u001b[0msagemaker_session\u001b[0m\u001b[0;34m.\u001b[0m\u001b[0mdefault_bucket\u001b[0m\u001b[0;34m(\u001b[0m\u001b[0;34m)\u001b[0m\u001b[0;34m\u001b[0m\u001b[0;34m\u001b[0m\u001b[0m\n",
      "\u001b[0;32m/usr/local/lib/python3.7/site-packages/sagemaker/session.py\u001b[0m in \u001b[0;36mget_execution_role\u001b[0;34m(sagemaker_session)\u001b[0m\n\u001b[1;32m   1708\u001b[0m         \u001b[0;34m\"SageMaker execution role\"\u001b[0m\u001b[0;34m\u001b[0m\u001b[0;34m\u001b[0m\u001b[0m\n\u001b[1;32m   1709\u001b[0m     )\n\u001b[0;32m-> 1710\u001b[0;31m     \u001b[0;32mraise\u001b[0m \u001b[0mValueError\u001b[0m\u001b[0;34m(\u001b[0m\u001b[0mmessage\u001b[0m\u001b[0;34m.\u001b[0m\u001b[0mformat\u001b[0m\u001b[0;34m(\u001b[0m\u001b[0marn\u001b[0m\u001b[0;34m)\u001b[0m\u001b[0;34m)\u001b[0m\u001b[0;34m\u001b[0m\u001b[0;34m\u001b[0m\u001b[0m\n\u001b[0m\u001b[1;32m   1711\u001b[0m \u001b[0;34m\u001b[0m\u001b[0m\n\u001b[1;32m   1712\u001b[0m \u001b[0;34m\u001b[0m\u001b[0m\n",
      "\u001b[0;31mValueError\u001b[0m: The current AWS identity is not a role: arn:aws:iam::201308845573:root, therefore it cannot be used as a SageMaker execution role"
     ]
    }
   ],
   "source": [
    "# session and role\n",
    "sagemaker_session = sagemaker.Session()\n",
    "role = sagemaker.get_execution_role()\n",
    "\n",
    "bucket = sagemaker_session.default_bucket()\n",
    "\n",
    "prefix = 'sagemaker/capstone-project'"
   ]
  },
  {
   "cell_type": "markdown",
   "metadata": {},
   "source": [
    "Set the various paths for the training, validation, test files and storing the baseline results"
   ]
  },
  {
   "cell_type": "code",
   "execution_count": 17,
   "metadata": {},
   "outputs": [
    {
     "name": "stdout",
     "output_type": "stream",
     "text": [
      "\n",
      "Train file: ../datasets/train.zip\n",
      "\n",
      "Validation file: ../datasets/val.zip\n",
      "\n",
      "Validation Prediction file: ../datasets/lstm_pred_val.zip\n",
      "\n",
      "Test file: ../datasets/test.zip\n",
      "\n",
      "Test Prediction file: ../datasets/lstm_pred_test.zip\n",
      "\n",
      "Important Features file: ../datasets/lstm_importances-01.png\n"
     ]
    },
    {
     "ename": "NameError",
     "evalue": "name 'bucket' is not defined",
     "output_type": "error",
     "traceback": [
      "\u001b[0;31m---------------------------------------------------------------------------\u001b[0m",
      "\u001b[0;31mNameError\u001b[0m                                 Traceback (most recent call last)",
      "\u001b[0;32m<ipython-input-17-9562114c2271>\u001b[0m in \u001b[0;36m<module>\u001b[0;34m\u001b[0m\n\u001b[1;32m     22\u001b[0m \u001b[0mprint\u001b[0m\u001b[0;34m(\u001b[0m\u001b[0;34m'\\nImportant Features file: {}'\u001b[0m\u001b[0;34m.\u001b[0m\u001b[0mformat\u001b[0m\u001b[0;34m(\u001b[0m\u001b[0mimp_features_file\u001b[0m\u001b[0;34m)\u001b[0m\u001b[0;34m)\u001b[0m\u001b[0;34m\u001b[0m\u001b[0;34m\u001b[0m\u001b[0m\n\u001b[1;32m     23\u001b[0m \u001b[0;34m\u001b[0m\u001b[0m\n\u001b[0;32m---> 24\u001b[0;31m \u001b[0minput_data\u001b[0m \u001b[0;34m=\u001b[0m \u001b[0msagemaker_session\u001b[0m\u001b[0;34m.\u001b[0m\u001b[0mupload_data\u001b[0m\u001b[0;34m(\u001b[0m\u001b[0mpath\u001b[0m\u001b[0;34m=\u001b[0m\u001b[0mtrain_file\u001b[0m\u001b[0;34m,\u001b[0m \u001b[0mbucket\u001b[0m\u001b[0;34m=\u001b[0m\u001b[0mbucket\u001b[0m\u001b[0;34m,\u001b[0m \u001b[0mkey_prefix\u001b[0m\u001b[0;34m=\u001b[0m\u001b[0mprefix\u001b[0m\u001b[0;34m)\u001b[0m\u001b[0;34m\u001b[0m\u001b[0;34m\u001b[0m\u001b[0m\n\u001b[0m\u001b[1;32m     25\u001b[0m \u001b[0mprint\u001b[0m\u001b[0;34m(\u001b[0m\u001b[0;34m'\\nInput data S3 path: {}'\u001b[0m\u001b[0;34m.\u001b[0m\u001b[0mformat\u001b[0m\u001b[0;34m(\u001b[0m\u001b[0minput_data\u001b[0m\u001b[0;34m)\u001b[0m\u001b[0;34m)\u001b[0m\u001b[0;34m\u001b[0m\u001b[0;34m\u001b[0m\u001b[0m\n",
      "\u001b[0;31mNameError\u001b[0m: name 'bucket' is not defined"
     ]
    }
   ],
   "source": [
    "data_dir = '../datasets'\n",
    "\n",
    "if not path.exists(data_dir):\n",
    "    raise Exception('{} directory not found.'.format(data_dir))\n",
    "\n",
    "train_file = '{}/{}'.format(data_dir, 'train.zip')\n",
    "print('\\nTrain file: {}'.format(train_file))\n",
    "\n",
    "val_file = '{}/{}'.format(data_dir, 'val.zip')\n",
    "print('\\nValidation file: {}'.format(val_file))\n",
    "\n",
    "pred_val_file = '{}/{}'.format(data_dir, 'lstm_pred_val.zip')\n",
    "print('\\nValidation Prediction file: {}'.format(pred_val_file))\n",
    "\n",
    "test_file = '{}/{}'.format(data_dir, 'test.zip')\n",
    "print('\\nTest file: {}'.format(test_file))\n",
    "\n",
    "pred_test_file = '{}/{}'.format(data_dir, 'lstm_pred_test.zip')\n",
    "print('\\nTest Prediction file: {}'.format(pred_test_file))\n",
    "\n",
    "imp_features_file = '{}/{}'.format(data_dir, 'lstm_importances-01.png')\n",
    "print('\\nImportant Features file: {}'.format(imp_features_file))\n",
    "\n",
    "input_data = sagemaker_session.upload_data(path=train_file, bucket=bucket, key_prefix=prefix)\n",
    "print('\\nInput data S3 path: {}'.format(input_data))"
   ]
  },
  {
   "cell_type": "code",
   "execution_count": null,
   "metadata": {},
   "outputs": [],
   "source": [
    "empty_check = []\n",
    "\n",
    "for obj in boto3.resource('s3').Bucket(bucket).objects.all():\n",
    "    empty_check.append(obj.key)\n",
    "    print(obj.key)\n",
    "\n",
    "assert len(empty_check) !=0, 'S3 bucket is empty.'\n",
    "print('Test passed!')"
   ]
  },
  {
   "cell_type": "markdown",
   "metadata": {},
   "source": [
    "Method to load the dataset from the files"
   ]
  },
  {
   "cell_type": "code",
   "execution_count": 5,
   "metadata": {},
   "outputs": [],
   "source": [
    "def load_data(zip_path):\n",
    "    df = pd.read_csv(\n",
    "        zip_path,\n",
    "        dtype={'fullVisitorId': 'str'},\n",
    "        compression='zip'\n",
    "    )\n",
    "    \n",
    "    [rows, columns] = df.shape\n",
    "\n",
    "    print('Loaded {} rows with {} columns from {}.'.format(\n",
    "        rows, columns, zip_path\n",
    "    ))\n",
    "    \n",
    "    return df"
   ]
  },
  {
   "cell_type": "markdown",
   "metadata": {},
   "source": [
    "Load the train, validation and test datasets."
   ]
  },
  {
   "cell_type": "code",
   "execution_count": 7,
   "metadata": {},
   "outputs": [
    {
     "name": "stdout",
     "output_type": "stream",
     "text": [
      "Loaded 765707 rows with 26 columns from ../datasets/train.zip.\n",
      "Loaded 137946 rows with 26 columns from ../datasets/val.zip.\n",
      "Loaded 804684 rows with 25 columns from ../datasets/test.zip.\n",
      "\n",
      "CPU times: user 8.98 s, sys: 681 ms, total: 9.66 s\n",
      "Wall time: 10.9 s\n"
     ]
    }
   ],
   "source": [
    "%%time\n",
    "\n",
    "train_df = load_data(train_file)\n",
    "val_df = load_data(val_file)\n",
    "test_df = load_data(test_file)\n",
    "\n",
    "print()"
   ]
  },
  {
   "cell_type": "code",
   "execution_count": 10,
   "metadata": {},
   "outputs": [
    {
     "data": {
      "text/html": [
       "<div>\n",
       "<style scoped>\n",
       "    .dataframe tbody tr th:only-of-type {\n",
       "        vertical-align: middle;\n",
       "    }\n",
       "\n",
       "    .dataframe tbody tr th {\n",
       "        vertical-align: top;\n",
       "    }\n",
       "\n",
       "    .dataframe thead th {\n",
       "        text-align: right;\n",
       "    }\n",
       "</style>\n",
       "<table border=\"1\" class=\"dataframe\">\n",
       "  <thead>\n",
       "    <tr style=\"text-align: right;\">\n",
       "      <th></th>\n",
       "      <th>totals.transactionRevenue</th>\n",
       "      <th>fullVisitorId</th>\n",
       "      <th>channelGrouping</th>\n",
       "      <th>device.browser</th>\n",
       "      <th>device.deviceCategory</th>\n",
       "      <th>device.isMobile</th>\n",
       "      <th>device.operatingSystem</th>\n",
       "      <th>geoNetwork.city</th>\n",
       "      <th>geoNetwork.continent</th>\n",
       "      <th>geoNetwork.country</th>\n",
       "      <th>...</th>\n",
       "      <th>trafficSource.keyword</th>\n",
       "      <th>trafficSource.medium</th>\n",
       "      <th>trafficSource.source</th>\n",
       "      <th>trafficSource.referralPath</th>\n",
       "      <th>totals.bounces</th>\n",
       "      <th>totals.hits</th>\n",
       "      <th>totals.newVisits</th>\n",
       "      <th>totals.pageviews</th>\n",
       "      <th>visitNumber</th>\n",
       "      <th>visitStartTime</th>\n",
       "    </tr>\n",
       "  </thead>\n",
       "  <tbody>\n",
       "    <tr>\n",
       "      <th>0</th>\n",
       "      <td>0.0</td>\n",
       "      <td>1131660440785968503</td>\n",
       "      <td>0.571429</td>\n",
       "      <td>0.284483</td>\n",
       "      <td>0.0</td>\n",
       "      <td>0.0</td>\n",
       "      <td>0.869565</td>\n",
       "      <td>0.395178</td>\n",
       "      <td>0.4</td>\n",
       "      <td>0.925110</td>\n",
       "      <td>...</td>\n",
       "      <td>0.113337</td>\n",
       "      <td>0.8</td>\n",
       "      <td>0.416834</td>\n",
       "      <td>1.0</td>\n",
       "      <td>1.0</td>\n",
       "      <td>0.0</td>\n",
       "      <td>1.0</td>\n",
       "      <td>0.0</td>\n",
       "      <td>0.000000</td>\n",
       "      <td>0.088405</td>\n",
       "    </tr>\n",
       "    <tr>\n",
       "      <th>1</th>\n",
       "      <td>0.0</td>\n",
       "      <td>377306020877927890</td>\n",
       "      <td>0.571429</td>\n",
       "      <td>0.353448</td>\n",
       "      <td>0.0</td>\n",
       "      <td>0.0</td>\n",
       "      <td>0.260870</td>\n",
       "      <td>0.579665</td>\n",
       "      <td>1.0</td>\n",
       "      <td>0.048458</td>\n",
       "      <td>...</td>\n",
       "      <td>0.113337</td>\n",
       "      <td>0.8</td>\n",
       "      <td>0.416834</td>\n",
       "      <td>1.0</td>\n",
       "      <td>1.0</td>\n",
       "      <td>0.0</td>\n",
       "      <td>1.0</td>\n",
       "      <td>0.0</td>\n",
       "      <td>0.000000</td>\n",
       "      <td>0.089979</td>\n",
       "    </tr>\n",
       "    <tr>\n",
       "      <th>2</th>\n",
       "      <td>0.0</td>\n",
       "      <td>3895546263509774583</td>\n",
       "      <td>0.571429</td>\n",
       "      <td>0.284483</td>\n",
       "      <td>0.0</td>\n",
       "      <td>0.0</td>\n",
       "      <td>0.869565</td>\n",
       "      <td>0.496855</td>\n",
       "      <td>0.6</td>\n",
       "      <td>0.814978</td>\n",
       "      <td>...</td>\n",
       "      <td>0.113337</td>\n",
       "      <td>0.8</td>\n",
       "      <td>0.416834</td>\n",
       "      <td>1.0</td>\n",
       "      <td>1.0</td>\n",
       "      <td>0.0</td>\n",
       "      <td>1.0</td>\n",
       "      <td>0.0</td>\n",
       "      <td>0.000000</td>\n",
       "      <td>0.089512</td>\n",
       "    </tr>\n",
       "    <tr>\n",
       "      <th>3</th>\n",
       "      <td>0.0</td>\n",
       "      <td>4763447161404445595</td>\n",
       "      <td>0.571429</td>\n",
       "      <td>0.672414</td>\n",
       "      <td>0.0</td>\n",
       "      <td>0.0</td>\n",
       "      <td>0.217391</td>\n",
       "      <td>0.579665</td>\n",
       "      <td>0.4</td>\n",
       "      <td>0.409692</td>\n",
       "      <td>...</td>\n",
       "      <td>0.298089</td>\n",
       "      <td>0.8</td>\n",
       "      <td>0.416834</td>\n",
       "      <td>1.0</td>\n",
       "      <td>1.0</td>\n",
       "      <td>0.0</td>\n",
       "      <td>1.0</td>\n",
       "      <td>0.0</td>\n",
       "      <td>0.000000</td>\n",
       "      <td>0.090012</td>\n",
       "    </tr>\n",
       "    <tr>\n",
       "      <th>4</th>\n",
       "      <td>0.0</td>\n",
       "      <td>27294437909732085</td>\n",
       "      <td>0.571429</td>\n",
       "      <td>0.284483</td>\n",
       "      <td>0.5</td>\n",
       "      <td>1.0</td>\n",
       "      <td>0.000000</td>\n",
       "      <td>0.579665</td>\n",
       "      <td>0.6</td>\n",
       "      <td>0.955947</td>\n",
       "      <td>...</td>\n",
       "      <td>0.113337</td>\n",
       "      <td>0.8</td>\n",
       "      <td>0.416834</td>\n",
       "      <td>1.0</td>\n",
       "      <td>1.0</td>\n",
       "      <td>0.0</td>\n",
       "      <td>0.0</td>\n",
       "      <td>0.0</td>\n",
       "      <td>0.002538</td>\n",
       "      <td>0.088159</td>\n",
       "    </tr>\n",
       "  </tbody>\n",
       "</table>\n",
       "<p>5 rows × 26 columns</p>\n",
       "</div>"
      ],
      "text/plain": [
       "   totals.transactionRevenue        fullVisitorId  channelGrouping  \\\n",
       "0                        0.0  1131660440785968503         0.571429   \n",
       "1                        0.0   377306020877927890         0.571429   \n",
       "2                        0.0  3895546263509774583         0.571429   \n",
       "3                        0.0  4763447161404445595         0.571429   \n",
       "4                        0.0    27294437909732085         0.571429   \n",
       "\n",
       "   device.browser  device.deviceCategory  device.isMobile  \\\n",
       "0        0.284483                    0.0              0.0   \n",
       "1        0.353448                    0.0              0.0   \n",
       "2        0.284483                    0.0              0.0   \n",
       "3        0.672414                    0.0              0.0   \n",
       "4        0.284483                    0.5              1.0   \n",
       "\n",
       "   device.operatingSystem  geoNetwork.city  geoNetwork.continent  \\\n",
       "0                0.869565         0.395178                   0.4   \n",
       "1                0.260870         0.579665                   1.0   \n",
       "2                0.869565         0.496855                   0.6   \n",
       "3                0.217391         0.579665                   0.4   \n",
       "4                0.000000         0.579665                   0.6   \n",
       "\n",
       "   geoNetwork.country  ...  trafficSource.keyword  trafficSource.medium  \\\n",
       "0            0.925110  ...               0.113337                   0.8   \n",
       "1            0.048458  ...               0.113337                   0.8   \n",
       "2            0.814978  ...               0.113337                   0.8   \n",
       "3            0.409692  ...               0.298089                   0.8   \n",
       "4            0.955947  ...               0.113337                   0.8   \n",
       "\n",
       "   trafficSource.source  trafficSource.referralPath  totals.bounces  \\\n",
       "0              0.416834                         1.0             1.0   \n",
       "1              0.416834                         1.0             1.0   \n",
       "2              0.416834                         1.0             1.0   \n",
       "3              0.416834                         1.0             1.0   \n",
       "4              0.416834                         1.0             1.0   \n",
       "\n",
       "   totals.hits  totals.newVisits  totals.pageviews  visitNumber  \\\n",
       "0          0.0               1.0               0.0     0.000000   \n",
       "1          0.0               1.0               0.0     0.000000   \n",
       "2          0.0               1.0               0.0     0.000000   \n",
       "3          0.0               1.0               0.0     0.000000   \n",
       "4          0.0               0.0               0.0     0.002538   \n",
       "\n",
       "   visitStartTime  \n",
       "0        0.088405  \n",
       "1        0.089979  \n",
       "2        0.089512  \n",
       "3        0.090012  \n",
       "4        0.088159  \n",
       "\n",
       "[5 rows x 26 columns]"
      ]
     },
     "execution_count": 10,
     "metadata": {},
     "output_type": "execute_result"
    }
   ],
   "source": [
    "train_df.head()"
   ]
  },
  {
   "cell_type": "markdown",
   "metadata": {},
   "source": [
    "For the LSTM model, the labels should be separated from the features. I only need the _**fullVisitorId**_ to identify the customer and not for the training of the model. So I will drop the _**fullVisitorId**_ and _**totals.transactionRevenue**_ from the training and validation datasets and store them separately so that I can evaluate the results at later stage. From the test dataset we only need to drop _**fullVisitorId**_"
   ]
  },
  {
   "cell_type": "code",
   "execution_count": 14,
   "metadata": {},
   "outputs": [
    {
     "data": {
      "text/plain": [
       "array([[0.57142857, 0.28448276, 0.        , ..., 0.        , 0.        ,\n",
       "        0.08840489],\n",
       "       [0.57142857, 0.35344828, 0.        , ..., 0.        , 0.        ,\n",
       "        0.08997852],\n",
       "       [0.57142857, 0.28448276, 0.        , ..., 0.        , 0.        ,\n",
       "        0.08951173],\n",
       "       ...,\n",
       "       [1.        , 0.22413793, 0.5       , ..., 0.04273504, 0.        ,\n",
       "        0.42664789],\n",
       "       [1.        , 0.28448276, 0.        , ..., 0.04487179, 0.        ,\n",
       "        0.42874861],\n",
       "       [1.        , 0.28448276, 0.5       , ..., 0.06410256, 0.        ,\n",
       "        0.42816706]])"
      ]
     },
     "execution_count": 14,
     "metadata": {},
     "output_type": "execute_result"
    }
   ],
   "source": [
    "train_id = train_df['fullVisitorId'].values\n",
    "val_id = val_df['fullVisitorId'].values\n",
    "test_id = test_df['fullVisitorId'].values\n",
    "\n",
    "train_y = train_df['totals.transactionRevenue'].values\n",
    "train_log_y = np.log1p(train_y)\n",
    "\n",
    "val_y = val_df['totals.transactionRevenue'].values\n",
    "val_log_y = np.log1p(val_y)\n",
    "\n",
    "train_X = train_df.drop(['totals.transactionRevenue', 'fullVisitorId'], axis=1)\n",
    "val_X = val_df.drop(['totals.transactionRevenue', 'fullVisitorId'], axis=1)\n",
    "test_X = test_df.drop(['fullVisitorId'], axis=1)"
   ]
  },
  {
   "cell_type": "code",
   "execution_count": 12,
   "metadata": {},
   "outputs": [
    {
     "data": {
      "text/html": [
       "<style  type=\"text/css\" >\n",
       "    #T_0b380c08_404f_11ea_8992_f018982ce539 th {\n",
       "          text-align: center;\n",
       "    }</style><table id=\"T_0b380c08_404f_11ea_8992_f018982ce539\" ><thead>    <tr>        <th class=\"index_name level0\" >Type</th>        <th class=\"col_heading level0 col0\" colspan=2>Raw</th>        <th class=\"col_heading level0 col2\" colspan=2>Transformed</th>    </tr>    <tr>        <th class=\"index_name level1\" >Dataset</th>        <th class=\"col_heading level1 col0\" >Rows</th>        <th class=\"col_heading level1 col1\" >Columns</th>        <th class=\"col_heading level1 col2\" >Rows</th>        <th class=\"col_heading level1 col3\" >Columns</th>    </tr></thead><tbody>\n",
       "                <tr>\n",
       "                        <th id=\"T_0b380c08_404f_11ea_8992_f018982ce539level0_row0\" class=\"row_heading level0 row0\" >Train</th>\n",
       "                        <td id=\"T_0b380c08_404f_11ea_8992_f018982ce539row0_col0\" class=\"data row0 col0\" >765707</td>\n",
       "                        <td id=\"T_0b380c08_404f_11ea_8992_f018982ce539row0_col1\" class=\"data row0 col1\" >26</td>\n",
       "                        <td id=\"T_0b380c08_404f_11ea_8992_f018982ce539row0_col2\" class=\"data row0 col2\" >765707</td>\n",
       "                        <td id=\"T_0b380c08_404f_11ea_8992_f018982ce539row0_col3\" class=\"data row0 col3\" >24</td>\n",
       "            </tr>\n",
       "            <tr>\n",
       "                        <th id=\"T_0b380c08_404f_11ea_8992_f018982ce539level0_row1\" class=\"row_heading level0 row1\" >Validation</th>\n",
       "                        <td id=\"T_0b380c08_404f_11ea_8992_f018982ce539row1_col0\" class=\"data row1 col0\" >137946</td>\n",
       "                        <td id=\"T_0b380c08_404f_11ea_8992_f018982ce539row1_col1\" class=\"data row1 col1\" >26</td>\n",
       "                        <td id=\"T_0b380c08_404f_11ea_8992_f018982ce539row1_col2\" class=\"data row1 col2\" >137946</td>\n",
       "                        <td id=\"T_0b380c08_404f_11ea_8992_f018982ce539row1_col3\" class=\"data row1 col3\" >24</td>\n",
       "            </tr>\n",
       "            <tr>\n",
       "                        <th id=\"T_0b380c08_404f_11ea_8992_f018982ce539level0_row2\" class=\"row_heading level0 row2\" >Test</th>\n",
       "                        <td id=\"T_0b380c08_404f_11ea_8992_f018982ce539row2_col0\" class=\"data row2 col0\" >804684</td>\n",
       "                        <td id=\"T_0b380c08_404f_11ea_8992_f018982ce539row2_col1\" class=\"data row2 col1\" >25</td>\n",
       "                        <td id=\"T_0b380c08_404f_11ea_8992_f018982ce539row2_col2\" class=\"data row2 col2\" >804684</td>\n",
       "                        <td id=\"T_0b380c08_404f_11ea_8992_f018982ce539row2_col3\" class=\"data row2 col3\" >24</td>\n",
       "            </tr>\n",
       "    </tbody></table>"
      ],
      "text/plain": [
       "<pandas.io.formats.style.Styler at 0x117173828>"
      ]
     },
     "execution_count": 12,
     "metadata": {},
     "output_type": "execute_result"
    }
   ],
   "source": [
    "header = pd.MultiIndex.from_product(\n",
    "    [['Raw','Transformed'], ['Rows','Columns']],\n",
    "    names=['Type','Dataset']\n",
    ")\n",
    "\n",
    "shape_df = pd.DataFrame(\n",
    "    [train_df.shape + train_X.shape, val_df.shape + val_X.shape, test_df.shape + test_X.shape], \n",
    "    index=['Train', 'Validation', 'Test'], \n",
    "    columns=header\n",
    ")\n",
    "\n",
    "shape_df.style.set_table_styles([\n",
    "    {'selector': 'th', 'props': [('text-align', 'center')]}\n",
    "])"
   ]
  },
  {
   "cell_type": "code",
   "execution_count": null,
   "metadata": {},
   "outputs": [],
   "source": [
    "from sagemaker.pytorch import PyTorch\n",
    "\n",
    "estimator = PyTorch(\n",
    "    entry_point='lstm_train.py',\n",
    "    source_dir='models/pytorch',\n",
    "    role=role,\n",
    "    sagemaker_session=sagemaker_session,\n",
    "    framework_version='1.2',\n",
    "    train_instance_count=1,\n",
    "    train_instance_type='ml.m4.xlarge',\n",
    "    hyperparameters={\n",
    "        'input_features': 3,\n",
    "        'epochs': 100\n",
    "    }\n",
    ")"
   ]
  },
  {
   "cell_type": "code",
   "execution_count": null,
   "metadata": {},
   "outputs": [],
   "source": [
    "estimator.fit({'train': input_data})"
   ]
  },
  {
   "cell_type": "code",
   "execution_count": null,
   "metadata": {},
   "outputs": [],
   "source": [
    "from sagemaker.pytorch import PyTorchModel\n",
    "\n",
    "model = PyTorchModel(\n",
    "    model_data=estimator.model_data,\n",
    "    role=role,\n",
    "    framework_version='1.2',\n",
    "    entry_point='predict.py',\n",
    "    source_dir='models/pytorch'\n",
    ")\n",
    "\n",
    "predictor = model.deploy(initial_instance_count=1, instance_type='ml.m4.xlarge')"
   ]
  },
  {
   "cell_type": "code",
   "execution_count": null,
   "metadata": {},
   "outputs": [],
   "source": [
    "# read in test data, assuming it is stored locally\n",
    "\n",
    "test_data = pd.read_csv(os.path.join(data_dir, \"test.csv\"), header=None, names=None)\n",
    "\n",
    "# labels are in the first column\n",
    "test_y = test_data.iloc[:,0]\n",
    "test_x = test_data.iloc[:,1:]"
   ]
  },
  {
   "cell_type": "code",
   "execution_count": null,
   "metadata": {},
   "outputs": [],
   "source": [
    "def delete_endpoint(predictor):\n",
    "    try:\n",
    "        predictor.delete_endpoint()\n",
    "        print('Deleted {}'.format(predictor.endpoint))\n",
    "    except: \n",
    "        print('Already deleted: {}'.format(predictor.endpoint))\n",
    "        \n",
    "\n",
    "delete_endpoint(predictor)"
   ]
  },
  {
   "cell_type": "code",
   "execution_count": null,
   "metadata": {},
   "outputs": [],
   "source": [
    "\n",
    "\n"
   ]
  }
 ],
 "metadata": {
  "file_extension": ".py",
  "kernelspec": {
   "display_name": "Python 3",
   "language": "python",
   "name": "python3"
  },
  "language_info": {
   "codemirror_mode": {
    "name": "ipython",
    "version": 3
   },
   "file_extension": ".py",
   "mimetype": "text/x-python",
   "name": "python",
   "nbconvert_exporter": "python",
   "pygments_lexer": "ipython3",
   "version": "3.7.2"
  },
  "mimetype": "text/x-python",
  "name": "python",
  "npconvert_exporter": "python",
  "pygments_lexer": "ipython3",
  "version": 3
 },
 "nbformat": 4,
 "nbformat_minor": 2
}
