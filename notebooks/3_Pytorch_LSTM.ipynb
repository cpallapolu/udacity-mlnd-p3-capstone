{
 "cells": [
  {
   "cell_type": "markdown",
   "metadata": {},
   "source": [
    "# Customer Revenue Prediction"
   ]
  },
  {
   "cell_type": "markdown",
   "metadata": {},
   "source": [
    "## PyTorch LSTM Model\n",
    "*Machine Learning Nanodegree Program | Capstone Project*\n",
    "\n",
    "---"
   ]
  },
  {
   "cell_type": "markdown",
   "metadata": {},
   "source": [
    "In this notebook I will be creating a PyTorch LSTM model and compare it with the baseline model I created earlier.\n",
    "\n",
    "### Overview:\n",
    "- Reading the data\n",
    "- Preparing the tensors for the PyTorch Model\n",
    "- Initializing the LSTM model\n",
    "- Training the model with the train dataset\n",
    "- Validating the model using the val dataset\n",
    "- Predict the revenue for customer in test dataset\n",
    "- Visualizing the results\n",
    "- Compare the results with the baseline model\n",
    "- Saving the results to a csv "
   ]
  },
  {
   "cell_type": "markdown",
   "metadata": {},
   "source": [
    "First, import the relevant libraries into notebook"
   ]
  },
  {
   "cell_type": "code",
   "execution_count": 1,
   "metadata": {},
   "outputs": [],
   "source": [
    "import pandas as pd\n",
    "import numpy as np\n",
    "import matplotlib.pyplot as plt\n",
    "import seaborn as sns\n",
    "\n",
    "import sagemaker\n",
    "import boto3\n",
    "\n",
    "from os import path\n",
    "from sklearn.metrics import mean_squared_error\n",
    "\n",
    "%matplotlib inline\n",
    "pd.set_option('display.float_format', lambda x: '%.10f' % x)"
   ]
  },
  {
   "cell_type": "code",
   "execution_count": 2,
   "metadata": {},
   "outputs": [
    {
     "name": "stdout",
     "output_type": "stream",
     "text": [
      "sagemaker-us-east-1-201308845573\n"
     ]
    }
   ],
   "source": [
    "# session and role\n",
    "sagemaker_session = sagemaker.Session()\n",
    "role = sagemaker.get_execution_role()\n",
    "\n",
    "bucket = sagemaker_session.default_bucket()\n",
    "\n",
    "prefix = 'sagemaker/capstone-project'\n",
    "\n",
    "print(bucket)"
   ]
  },
  {
   "cell_type": "markdown",
   "metadata": {},
   "source": [
    "Set the various paths for the training, validation, test files and storing the baseline results"
   ]
  },
  {
   "cell_type": "code",
   "execution_count": 3,
   "metadata": {},
   "outputs": [
    {
     "name": "stdout",
     "output_type": "stream",
     "text": [
      "\n",
      "Train file: ../datasets/train.zip\n",
      "\n",
      "Validation file: ../datasets/val.zip\n",
      "\n",
      "Validation Prediction file: ../datasets/lstm_pred_val.zip\n",
      "\n",
      "Test file: ../datasets/test.zip\n",
      "\n",
      "Test Prediction file: ../datasets/lstm_pred_test.zip\n",
      "\n",
      "Important Features file: ../datasets/lstm_importances-01.png\n",
      "\n",
      "Input data S3 Train file: s3://sagemaker-us-east-1-201308845573/sagemaker/capstone-project/train.zip\n",
      "\n",
      "Input data S3 directory: s3://sagemaker-us-east-1-201308845573/sagemaker/capstone-project\n"
     ]
    }
   ],
   "source": [
    "data_dir = '../datasets'\n",
    "\n",
    "if not path.exists(data_dir):\n",
    "    raise Exception('{} directory not found.'.format(data_dir))\n",
    "\n",
    "train_file = '{}/{}'.format(data_dir, 'train.zip')\n",
    "print('\\nTrain file: {}'.format(train_file))\n",
    "\n",
    "val_file = '{}/{}'.format(data_dir, 'val.zip')\n",
    "print('\\nValidation file: {}'.format(val_file))\n",
    "\n",
    "pred_val_file = '{}/{}'.format(data_dir, 'lstm_pred_val.zip')\n",
    "print('\\nValidation Prediction file: {}'.format(pred_val_file))\n",
    "\n",
    "test_file = '{}/{}'.format(data_dir, 'test.zip')\n",
    "print('\\nTest file: {}'.format(test_file))\n",
    "\n",
    "pred_test_file = '{}/{}'.format(data_dir, 'lstm_pred_test.zip')\n",
    "print('\\nTest Prediction file: {}'.format(pred_test_file))\n",
    "\n",
    "imp_features_file = '{}/{}'.format(data_dir, 'lstm_importances-01.png')\n",
    "print('\\nImportant Features file: {}'.format(imp_features_file))\n",
    "\n",
    "input_s3_train_file = sagemaker_session.upload_data(path=train_file, bucket=bucket, key_prefix=prefix)\n",
    "print('\\nInput data S3 Train file: {}'.format(input_s3_train_file))\n",
    "\n",
    "input_s3_dir = 's3://{}/{}'.format(bucket, prefix)\n",
    "print('\\nInput data S3 directory: {}'.format(input_s3_dir))\n"
   ]
  },
  {
   "cell_type": "code",
   "execution_count": 4,
   "metadata": {},
   "outputs": [
    {
     "name": "stdout",
     "output_type": "stream",
     "text": [
      "sagemaker/capstone-project/train.zip\n",
      "\n",
      "Test passed!\n"
     ]
    }
   ],
   "source": [
    "empty_check = []\n",
    "\n",
    "for obj in boto3.resource('s3').Bucket(bucket).objects.all():\n",
    "    empty_check.append(obj.key)\n",
    "    print(obj.key)\n",
    "\n",
    "assert len(empty_check) !=0, 'S3 bucket is empty.'\n",
    "print('\\nTest passed!')"
   ]
  },
  {
   "cell_type": "markdown",
   "metadata": {},
   "source": [
    "Method to load the dataset from the files"
   ]
  },
  {
   "cell_type": "code",
   "execution_count": 5,
   "metadata": {},
   "outputs": [],
   "source": [
    "def load_data(zip_path):\n",
    "    df = pd.read_csv(\n",
    "        zip_path,\n",
    "        dtype={'fullVisitorId': 'str'},\n",
    "        compression='zip'\n",
    "    )\n",
    "    \n",
    "    [rows, columns] = df.shape\n",
    "\n",
    "    print('Loaded {} rows with {} columns from {}.'.format(\n",
    "        rows, columns, zip_path\n",
    "    ))\n",
    "    \n",
    "    return df"
   ]
  },
  {
   "cell_type": "markdown",
   "metadata": {},
   "source": [
    "Load the train, validation and test datasets."
   ]
  },
  {
   "cell_type": "code",
   "execution_count": 6,
   "metadata": {},
   "outputs": [
    {
     "name": "stdout",
     "output_type": "stream",
     "text": [
      "Loaded 765707 rows with 26 columns from ../datasets/train.zip.\n",
      "Loaded 137946 rows with 26 columns from ../datasets/val.zip.\n",
      "Loaded 804684 rows with 25 columns from ../datasets/test.zip.\n",
      "\n",
      "CPU times: user 11.7 s, sys: 446 ms, total: 12.1 s\n",
      "Wall time: 11.9 s\n"
     ]
    }
   ],
   "source": [
    "%%time\n",
    "\n",
    "train_df = load_data(train_file)\n",
    "val_df = load_data(val_file)\n",
    "test_df = load_data(test_file)\n",
    "\n",
    "print()"
   ]
  },
  {
   "cell_type": "markdown",
   "metadata": {},
   "source": [
    "##### remove this at the end\n",
    "\n",
    "import torch\n",
    "\n",
    "train_df.head()\n",
    "\n",
    "train_y = np.log1p(train_df['totals.transactionRevenue'].values)\n",
    "train_y = torch.from_numpy(train_y).float().squeeze()\n",
    "\n",
    "train_X = train_df.drop(['totals.transactionRevenue', 'fullVisitorId'], axis=1).values\n",
    "train_X = torch.from_numpy(train_X).float()\n",
    "\n",
    "train_X = train_X.reshape(train_X.shape[0], 1, train_X.shape[1])\n",
    "\n",
    "train_df.head()"
   ]
  },
  {
   "cell_type": "code",
   "execution_count": 7,
   "metadata": {},
   "outputs": [],
   "source": [
    "from sagemaker.pytorch import PyTorch\n",
    "\n",
    "output_path = 's3://{}/{}'.format(bucket, prefix)\n",
    "\n",
    "estimator = PyTorch(\n",
    "    entry_point='lstm_train.py',\n",
    "    source_dir='../models/pytorch/',\n",
    "    role=role,\n",
    "    output_path=output_path,\n",
    "    sagemaker_session=sagemaker_session,\n",
    "    framework_version='1.2',\n",
    "    train_instance_count=1,\n",
    "    train_instance_type='ml.m4.xlarge',\n",
    "    hyperparameters={\n",
    "        'input_dim': 24,\n",
    "        'epochs': 50,\n",
    "        'batch-size': 1024\n",
    "    }\n",
    ")"
   ]
  },
  {
   "cell_type": "code",
   "execution_count": 8,
   "metadata": {},
   "outputs": [
    {
     "name": "stdout",
     "output_type": "stream",
     "text": [
      "2020-01-27 19:57:39 Starting - Starting the training job...\n",
      "2020-01-27 19:57:41 Starting - Launching requested ML instances......\n",
      "2020-01-27 19:58:47 Starting - Preparing the instances for training......\n",
      "2020-01-27 19:59:51 Downloading - Downloading input data...\n",
      "2020-01-27 20:00:24 Training - Downloading the training image...\n",
      "2020-01-27 20:00:53 Training - Training image download completed. Training in progress.\u001b[34mbash: cannot set terminal process group (-1): Inappropriate ioctl for device\u001b[0m\n",
      "\u001b[34mbash: no job control in this shell\u001b[0m\n",
      "\u001b[34m2020-01-27 20:00:54,106 sagemaker-containers INFO     Imported framework sagemaker_pytorch_container.training\u001b[0m\n",
      "\u001b[34m2020-01-27 20:00:54,109 sagemaker-containers INFO     No GPUs detected (normal if no gpus installed)\u001b[0m\n",
      "\u001b[34m2020-01-27 20:00:54,123 sagemaker_pytorch_container.training INFO     Block until all host DNS lookups succeed.\u001b[0m\n",
      "\u001b[34m2020-01-27 20:00:54,124 sagemaker_pytorch_container.training INFO     Invoking user training script.\u001b[0m\n",
      "\u001b[34m2020-01-27 20:00:54,390 sagemaker-containers INFO     Module lstm_train does not provide a setup.py. \u001b[0m\n",
      "\u001b[34mGenerating setup.py\u001b[0m\n",
      "\u001b[34m2020-01-27 20:00:54,391 sagemaker-containers INFO     Generating setup.cfg\u001b[0m\n",
      "\u001b[34m2020-01-27 20:00:54,391 sagemaker-containers INFO     Generating MANIFEST.in\u001b[0m\n",
      "\u001b[34m2020-01-27 20:00:54,391 sagemaker-containers INFO     Installing module with the following command:\u001b[0m\n",
      "\u001b[34m/opt/conda/bin/python -m pip install . \u001b[0m\n",
      "\u001b[34mProcessing /opt/ml/code\u001b[0m\n",
      "\u001b[34mBuilding wheels for collected packages: lstm-train\n",
      "  Building wheel for lstm-train (setup.py): started\n",
      "  Building wheel for lstm-train (setup.py): finished with status 'done'\n",
      "  Created wheel for lstm-train: filename=lstm_train-1.0.0-py2.py3-none-any.whl size=11435 sha256=2dab2b034da05c678db7d0e6e7d5e3b0f6df1af5f193c30db4143e64610697af\n",
      "  Stored in directory: /tmp/pip-ephem-wheel-cache-20qdam9l/wheels/35/24/16/37574d11bf9bde50616c67372a334f94fa8356bc7164af8ca3\u001b[0m\n",
      "\u001b[34mSuccessfully built lstm-train\u001b[0m\n",
      "\u001b[34mInstalling collected packages: lstm-train\u001b[0m\n",
      "\u001b[34mSuccessfully installed lstm-train-1.0.0\u001b[0m\n",
      "\u001b[34mWARNING: You are using pip version 19.3; however, version 20.0.2 is available.\u001b[0m\n",
      "\u001b[34mYou should consider upgrading via the 'pip install --upgrade pip' command.\u001b[0m\n",
      "\u001b[34m2020-01-27 20:00:56,447 sagemaker-containers INFO     No GPUs detected (normal if no gpus installed)\u001b[0m\n",
      "\u001b[34m2020-01-27 20:00:56,461 sagemaker-containers INFO     Invoking user script\n",
      "\u001b[0m\n",
      "\u001b[34mTraining Env:\n",
      "\u001b[0m\n",
      "\u001b[34m{\n",
      "    \"additional_framework_parameters\": {},\n",
      "    \"channel_input_dirs\": {\n",
      "        \"train\": \"/opt/ml/input/data/train\"\n",
      "    },\n",
      "    \"current_host\": \"algo-1\",\n",
      "    \"framework_module\": \"sagemaker_pytorch_container.training:main\",\n",
      "    \"hosts\": [\n",
      "        \"algo-1\"\n",
      "    ],\n",
      "    \"hyperparameters\": {\n",
      "        \"batch-size\": 1024,\n",
      "        \"input_dim\": 24,\n",
      "        \"epochs\": 50\n",
      "    },\n",
      "    \"input_config_dir\": \"/opt/ml/input/config\",\n",
      "    \"input_data_config\": {\n",
      "        \"train\": {\n",
      "            \"TrainingInputMode\": \"File\",\n",
      "            \"S3DistributionType\": \"FullyReplicated\",\n",
      "            \"RecordWrapperType\": \"None\"\n",
      "        }\n",
      "    },\n",
      "    \"input_dir\": \"/opt/ml/input\",\n",
      "    \"is_master\": true,\n",
      "    \"job_name\": \"pytorch-training-2020-01-27-19-57-38-851\",\n",
      "    \"log_level\": 20,\n",
      "    \"master_hostname\": \"algo-1\",\n",
      "    \"model_dir\": \"/opt/ml/model\",\n",
      "    \"module_dir\": \"s3://sagemaker-us-east-1-201308845573/pytorch-training-2020-01-27-19-57-38-851/source/sourcedir.tar.gz\",\n",
      "    \"module_name\": \"lstm_train\",\n",
      "    \"network_interface_name\": \"eth0\",\n",
      "    \"num_cpus\": 4,\n",
      "    \"num_gpus\": 0,\n",
      "    \"output_data_dir\": \"/opt/ml/output/data\",\n",
      "    \"output_dir\": \"/opt/ml/output\",\n",
      "    \"output_intermediate_dir\": \"/opt/ml/output/intermediate\",\n",
      "    \"resource_config\": {\n",
      "        \"current_host\": \"algo-1\",\n",
      "        \"hosts\": [\n",
      "            \"algo-1\"\n",
      "        ],\n",
      "        \"network_interface_name\": \"eth0\"\n",
      "    },\n",
      "    \"user_entry_point\": \"lstm_train.py\"\u001b[0m\n",
      "\u001b[34m}\n",
      "\u001b[0m\n",
      "\u001b[34mEnvironment variables:\n",
      "\u001b[0m\n",
      "\u001b[34mSM_HOSTS=[\"algo-1\"]\u001b[0m\n",
      "\u001b[34mSM_NETWORK_INTERFACE_NAME=eth0\u001b[0m\n",
      "\u001b[34mSM_HPS={\"batch-size\":1024,\"epochs\":50,\"input_dim\":24}\u001b[0m\n",
      "\u001b[34mSM_USER_ENTRY_POINT=lstm_train.py\u001b[0m\n",
      "\u001b[34mSM_FRAMEWORK_PARAMS={}\u001b[0m\n",
      "\u001b[34mSM_RESOURCE_CONFIG={\"current_host\":\"algo-1\",\"hosts\":[\"algo-1\"],\"network_interface_name\":\"eth0\"}\u001b[0m\n",
      "\u001b[34mSM_INPUT_DATA_CONFIG={\"train\":{\"RecordWrapperType\":\"None\",\"S3DistributionType\":\"FullyReplicated\",\"TrainingInputMode\":\"File\"}}\u001b[0m\n",
      "\u001b[34mSM_OUTPUT_DATA_DIR=/opt/ml/output/data\u001b[0m\n",
      "\u001b[34mSM_CHANNELS=[\"train\"]\u001b[0m\n",
      "\u001b[34mSM_CURRENT_HOST=algo-1\u001b[0m\n",
      "\u001b[34mSM_MODULE_NAME=lstm_train\u001b[0m\n",
      "\u001b[34mSM_LOG_LEVEL=20\u001b[0m\n",
      "\u001b[34mSM_FRAMEWORK_MODULE=sagemaker_pytorch_container.training:main\u001b[0m\n",
      "\u001b[34mSM_INPUT_DIR=/opt/ml/input\u001b[0m\n",
      "\u001b[34mSM_INPUT_CONFIG_DIR=/opt/ml/input/config\u001b[0m\n",
      "\u001b[34mSM_OUTPUT_DIR=/opt/ml/output\u001b[0m\n",
      "\u001b[34mSM_NUM_CPUS=4\u001b[0m\n",
      "\u001b[34mSM_NUM_GPUS=0\u001b[0m\n",
      "\u001b[34mSM_MODEL_DIR=/opt/ml/model\u001b[0m\n",
      "\u001b[34mSM_MODULE_DIR=s3://sagemaker-us-east-1-201308845573/pytorch-training-2020-01-27-19-57-38-851/source/sourcedir.tar.gz\u001b[0m\n",
      "\u001b[34mSM_TRAINING_ENV={\"additional_framework_parameters\":{},\"channel_input_dirs\":{\"train\":\"/opt/ml/input/data/train\"},\"current_host\":\"algo-1\",\"framework_module\":\"sagemaker_pytorch_container.training:main\",\"hosts\":[\"algo-1\"],\"hyperparameters\":{\"batch-size\":1024,\"epochs\":50,\"input_dim\":24},\"input_config_dir\":\"/opt/ml/input/config\",\"input_data_config\":{\"train\":{\"RecordWrapperType\":\"None\",\"S3DistributionType\":\"FullyReplicated\",\"TrainingInputMode\":\"File\"}},\"input_dir\":\"/opt/ml/input\",\"is_master\":true,\"job_name\":\"pytorch-training-2020-01-27-19-57-38-851\",\"log_level\":20,\"master_hostname\":\"algo-1\",\"model_dir\":\"/opt/ml/model\",\"module_dir\":\"s3://sagemaker-us-east-1-201308845573/pytorch-training-2020-01-27-19-57-38-851/source/sourcedir.tar.gz\",\"module_name\":\"lstm_train\",\"network_interface_name\":\"eth0\",\"num_cpus\":4,\"num_gpus\":0,\"output_data_dir\":\"/opt/ml/output/data\",\"output_dir\":\"/opt/ml/output\",\"output_intermediate_dir\":\"/opt/ml/output/intermediate\",\"resource_config\":{\"current_host\":\"algo-1\",\"hosts\":[\"algo-1\"],\"network_interface_name\":\"eth0\"},\"user_entry_point\":\"lstm_train.py\"}\u001b[0m\n",
      "\u001b[34mSM_USER_ARGS=[\"--batch-size\",\"1024\",\"--epochs\",\"50\",\"--input_dim\",\"24\"]\u001b[0m\n",
      "\u001b[34mSM_OUTPUT_INTERMEDIATE_DIR=/opt/ml/output/intermediate\u001b[0m\n",
      "\u001b[34mSM_CHANNEL_TRAIN=/opt/ml/input/data/train\u001b[0m\n",
      "\u001b[34mSM_HP_BATCH-SIZE=1024\u001b[0m\n",
      "\u001b[34mSM_HP_INPUT_DIM=24\u001b[0m\n",
      "\u001b[34mSM_HP_EPOCHS=50\u001b[0m\n",
      "\u001b[34mPYTHONPATH=/opt/conda/bin:/opt/conda/lib/python36.zip:/opt/conda/lib/python3.6:/opt/conda/lib/python3.6/lib-dynload:/opt/conda/lib/python3.6/site-packages\n",
      "\u001b[0m\n",
      "\u001b[34mInvoking script with the following command:\n",
      "\u001b[0m\n",
      "\u001b[34m/opt/conda/bin/python -m lstm_train --batch-size 1024 --epochs 50 --input_dim 24\n",
      "\n",
      "\u001b[0m\n",
      "\u001b[34mUsing device cpu.\u001b[0m\n",
      "\u001b[34mGet train data loader.\u001b[0m\n",
      "\u001b[34mModel loaded with input_dim 24, hidden_dim 100, outout_dim: 1.\u001b[0m\n",
      "\u001b[34mEpoch: 1... RSMELoss: 1.9168970107...\u001b[0m\n",
      "\u001b[34mEpoch: 2... RSMELoss: 1.8868513783...\u001b[0m\n",
      "\u001b[34mEpoch: 3... RSMELoss: 1.8836305700...\u001b[0m\n",
      "\u001b[34mEpoch: 4... RSMELoss: 1.8795817253...\u001b[0m\n",
      "\u001b[34mEpoch: 5... RSMELoss: 1.8800898452...\u001b[0m\n",
      "\u001b[34mEpoch: 6... RSMELoss: 1.8807262457...\u001b[0m\n",
      "\u001b[34mEpoch: 7... RSMELoss: 1.8807001175...\u001b[0m\n",
      "\u001b[34mEpoch: 8... RSMELoss: 1.8788270316...\u001b[0m\n",
      "\u001b[34mEpoch: 9... RSMELoss: 1.8800541105...\u001b[0m\n",
      "\u001b[34mEpoch: 10... RSMELoss: 1.8793152587...\u001b[0m\n",
      "\u001b[34mEpoch: 11... RSMELoss: 1.8813039780...\u001b[0m\n",
      "\u001b[34mEpoch: 12... RSMELoss: 1.8819534914...\u001b[0m\n",
      "\u001b[34mEpoch: 13... RSMELoss: 1.8806955257...\u001b[0m\n",
      "\u001b[34mEpoch: 14... RSMELoss: 1.8813811529...\u001b[0m\n",
      "\u001b[34mEpoch: 15... RSMELoss: 1.8788161160...\u001b[0m\n",
      "\u001b[34mEpoch: 16... RSMELoss: 1.8810674782...\u001b[0m\n",
      "\u001b[34mEpoch: 17... RSMELoss: 1.8777846209...\u001b[0m\n",
      "\u001b[34mEpoch: 18... RSMELoss: 1.8792393404...\u001b[0m\n",
      "\u001b[34mEpoch: 19... RSMELoss: 1.8792851758...\u001b[0m\n",
      "\u001b[34mEpoch: 20... RSMELoss: 1.8801916103...\u001b[0m\n",
      "\u001b[34mEpoch: 21... RSMELoss: 1.8776538738...\u001b[0m\n",
      "\u001b[34mEpoch: 22... RSMELoss: 1.8802366460...\u001b[0m\n",
      "\u001b[34mEpoch: 23... RSMELoss: 1.8807402852...\u001b[0m\n",
      "\u001b[34mEpoch: 24... RSMELoss: 1.8797564201...\u001b[0m\n",
      "\u001b[34mEpoch: 25... RSMELoss: 1.8804886688...\u001b[0m\n",
      "\u001b[34mEpoch: 26... RSMELoss: 1.8784994818...\u001b[0m\n",
      "\u001b[34mEpoch: 27... RSMELoss: 1.8797484337...\u001b[0m\n",
      "\u001b[34mEpoch: 28... RSMELoss: 1.8796282108...\u001b[0m\n",
      "\u001b[34mEpoch: 29... RSMELoss: 1.8792291216...\u001b[0m\n",
      "\u001b[34mEpoch: 30... RSMELoss: 1.8795906116...\u001b[0m\n"
     ]
    },
    {
     "name": "stdout",
     "output_type": "stream",
     "text": [
      "\u001b[34mEpoch: 31... RSMELoss: 1.8789861983...\u001b[0m\n",
      "\u001b[34mEpoch: 32... RSMELoss: 1.8783266422...\u001b[0m\n",
      "\u001b[34mEpoch: 33... RSMELoss: 1.8778205877...\u001b[0m\n",
      "\u001b[34mEpoch: 34... RSMELoss: 1.8779503449...\u001b[0m\n",
      "\u001b[34mEpoch: 35... RSMELoss: 1.8807111416...\u001b[0m\n",
      "\u001b[34mEpoch: 36... RSMELoss: 1.8780939732...\u001b[0m\n",
      "\u001b[34mEpoch: 37... RSMELoss: 1.8799312819...\u001b[0m\n",
      "\u001b[34mEpoch: 38... RSMELoss: 1.8788687614...\u001b[0m\n",
      "\u001b[34mEpoch: 39... RSMELoss: 1.8795332761...\u001b[0m\n",
      "\u001b[34mEpoch: 40... RSMELoss: 1.8786097400...\u001b[0m\n",
      "\u001b[34mEpoch: 41... RSMELoss: 1.8800388330...\u001b[0m\n",
      "\u001b[34mEpoch: 42... RSMELoss: 1.8784713654...\u001b[0m\n",
      "\u001b[34mEpoch: 43... RSMELoss: 1.8801017018...\u001b[0m\n",
      "\u001b[34mEpoch: 44... RSMELoss: 1.8805722302...\u001b[0m\n",
      "\u001b[34mEpoch: 45... RSMELoss: 1.8782014070...\u001b[0m\n",
      "\u001b[34mEpoch: 46... RSMELoss: 1.8785339845...\u001b[0m\n",
      "\u001b[34mEpoch: 47... RSMELoss: 1.8783615955...\u001b[0m\n",
      "\u001b[34mEpoch: 48... RSMELoss: 1.8793040953...\u001b[0m\n",
      "\u001b[34mEpoch: 49... RSMELoss: 1.8785098575...\u001b[0m\n",
      "\u001b[34mEpoch: 50... RSMELoss: 1.8791619895...\u001b[0m\n",
      "\u001b[34m2020-01-27 20:19:33,110 sagemaker-containers INFO     Reporting training SUCCESS\u001b[0m\n",
      "\n",
      "2020-01-27 20:19:41 Uploading - Uploading generated training model\n",
      "2020-01-27 20:19:41 Completed - Training job completed\n",
      "Training seconds: 1190\n",
      "Billable seconds: 1190\n"
     ]
    }
   ],
   "source": [
    "estimator.fit({'train': input_s3_dir})"
   ]
  },
  {
   "cell_type": "code",
   "execution_count": 9,
   "metadata": {},
   "outputs": [
    {
     "name": "stdout",
     "output_type": "stream",
     "text": [
      "-------------------!"
     ]
    }
   ],
   "source": [
    "from sagemaker.pytorch import PyTorchModel\n",
    "\n",
    "model = PyTorchModel(\n",
    "    model_data=estimator.model_data,\n",
    "    role=role,\n",
    "    framework_version='1.2',\n",
    "    entry_point='lstm_predict.py',\n",
    "    source_dir='../models/pytorch'\n",
    ")\n",
    "\n",
    "predictor = model.deploy(initial_instance_count=1, instance_type='ml.m4.xlarge')"
   ]
  },
  {
   "cell_type": "code",
   "execution_count": 10,
   "metadata": {},
   "outputs": [],
   "source": [
    "def get_batches(dataset, size=1024):\n",
    "    for i in range(0, len(dataset), size):  \n",
    "        yield dataset[i:(i + size)] \n",
    "        \n",
    "def predict_batch(predictor, dataset):\n",
    "    pred_arr = np.array([])\n",
    "    \n",
    "    for next_batch in get_batches(dataset):\n",
    "        temp_pred = predictor.predict(next_batch)\n",
    "        \n",
    "        pred_arr = np.append(pred_arr, temp_pred)\n",
    "    \n",
    "    return pred_arr"
   ]
  },
  {
   "cell_type": "code",
   "execution_count": 11,
   "metadata": {
    "scrolled": true
   },
   "outputs": [
    {
     "data": {
      "text/html": [
       "<div>\n",
       "<style scoped>\n",
       "    .dataframe tbody tr th:only-of-type {\n",
       "        vertical-align: middle;\n",
       "    }\n",
       "\n",
       "    .dataframe tbody tr th {\n",
       "        vertical-align: top;\n",
       "    }\n",
       "\n",
       "    .dataframe thead th {\n",
       "        text-align: right;\n",
       "    }\n",
       "</style>\n",
       "<table border=\"1\" class=\"dataframe\">\n",
       "  <thead>\n",
       "    <tr style=\"text-align: right;\">\n",
       "      <th></th>\n",
       "      <th>fullVisitorId</th>\n",
       "      <th>transactionRevenue</th>\n",
       "      <th>predictedRevenue</th>\n",
       "    </tr>\n",
       "  </thead>\n",
       "  <tbody>\n",
       "    <tr>\n",
       "      <th>0</th>\n",
       "      <td>0000062267706107999</td>\n",
       "      <td>0.0000000000</td>\n",
       "      <td>0.0000000000</td>\n",
       "    </tr>\n",
       "    <tr>\n",
       "      <th>1</th>\n",
       "      <td>0000085059828173212</td>\n",
       "      <td>0.0000000000</td>\n",
       "      <td>0.0000000000</td>\n",
       "    </tr>\n",
       "    <tr>\n",
       "      <th>2</th>\n",
       "      <td>000026722803385797</td>\n",
       "      <td>0.0000000000</td>\n",
       "      <td>0.0000000000</td>\n",
       "    </tr>\n",
       "    <tr>\n",
       "      <th>3</th>\n",
       "      <td>0000436683523507380</td>\n",
       "      <td>0.0000000000</td>\n",
       "      <td>0.0000000000</td>\n",
       "    </tr>\n",
       "    <tr>\n",
       "      <th>4</th>\n",
       "      <td>0000450371054833295</td>\n",
       "      <td>0.0000000000</td>\n",
       "      <td>0.0000000000</td>\n",
       "    </tr>\n",
       "  </tbody>\n",
       "</table>\n",
       "</div>"
      ],
      "text/plain": [
       "         fullVisitorId  transactionRevenue  predictedRevenue\n",
       "0  0000062267706107999        0.0000000000      0.0000000000\n",
       "1  0000085059828173212        0.0000000000      0.0000000000\n",
       "2   000026722803385797        0.0000000000      0.0000000000\n",
       "3  0000436683523507380        0.0000000000      0.0000000000\n",
       "4  0000450371054833295        0.0000000000      0.0000000000"
      ]
     },
     "execution_count": 11,
     "metadata": {},
     "output_type": "execute_result"
    }
   ],
   "source": [
    "val_id = val_df['fullVisitorId'].values\n",
    "val_y = val_df['totals.transactionRevenue'].values\n",
    "\n",
    "val_X = val_df.drop(['totals.transactionRevenue', 'fullVisitorId'], axis=1).values\n",
    "val_X = val_X.reshape(val_X.shape[0], 1, val_X.shape[1])\n",
    "\n",
    "pred_val = predict_batch(predictor, val_X)\n",
    "\n",
    "pred_val[pred_val < 0] = 0\n",
    "\n",
    "pred_val_data = {\n",
    "    'fullVisitorId': val_id,\n",
    "    'transactionRevenue': val_y,\n",
    "    'predictedRevenue': np.expm1(pred_val)\n",
    "}\n",
    "\n",
    "pred_val_df = pd.DataFrame(pred_val_data)\n",
    "\n",
    "pred_val_df = pred_val_df.groupby('fullVisitorId')['transactionRevenue', 'predictedRevenue'].sum().reset_index()\n",
    "\n",
    "pred_val_df.head()"
   ]
  },
  {
   "cell_type": "code",
   "execution_count": 12,
   "metadata": {},
   "outputs": [
    {
     "name": "stdout",
     "output_type": "stream",
     "text": [
      "\n",
      "RSME for validation data set: 2.1530207390\n",
      "\n"
     ]
    }
   ],
   "source": [
    "rsme_val = np.sqrt(\n",
    "    mean_squared_error(\n",
    "        np.log1p(pred_val_df['transactionRevenue'].values),\n",
    "        np.log1p(pred_val_df['predictedRevenue'].values)\n",
    "    )\n",
    ")\n",
    "\n",
    "print('\\nRSME for validation data set: {:.10f}\\n'.format(rsme_val))"
   ]
  },
  {
   "cell_type": "code",
   "execution_count": null,
   "metadata": {},
   "outputs": [],
   "source": [
    "test_id = test_df['fullVisitorId'].values\n",
    "test_X = test_df.drop(['fullVisitorId'], axis=1)\n",
    "\n",
    "test_X = test_X.reshape(test_X.shape[0], 1, test_X.shape[1])\n",
    "\n",
    "pred_val = predict_batch(predictor, val_X)\n",
    "\n",
    "pred_test[pred_test < 0] = 0\n",
    "\n",
    "pred_test_data = {\n",
    "    'fullVisitorId': test_id,\n",
    "    'predictedRevenue': np.expm1(pred_test)\n",
    "}\n",
    "\n",
    "pred_test_df = pd.DataFrame(pred_test_data)\n",
    "\n",
    "pred_test_df = pred_test_df.groupby('fullVisitorId')['predictedRevenue'].sum().reset_index()\n",
    "\n",
    "pred_test_df.head()"
   ]
  },
  {
   "cell_type": "code",
   "execution_count": null,
   "metadata": {},
   "outputs": [],
   "source": [
    "pred_val_df.to_csv(pred_val_file, index=False, compression='zip')\n",
    "\n",
    "pred_test_df.to_csv(pred_test_file, index=False, compression='zip')"
   ]
  },
  {
   "cell_type": "code",
   "execution_count": 13,
   "metadata": {},
   "outputs": [
    {
     "name": "stdout",
     "output_type": "stream",
     "text": [
      "Deleted pytorch-inference-2020-01-27-20-21-10-783\n"
     ]
    }
   ],
   "source": [
    "def delete_endpoint(predictor):\n",
    "    try:\n",
    "        predictor.delete_endpoint()\n",
    "        print('Deleted {}'.format(predictor.endpoint))\n",
    "    except: \n",
    "        print('Already deleted: {}'.format(predictor.endpoint))\n",
    "        \n",
    "\n",
    "delete_endpoint(predictor)"
   ]
  },
  {
   "cell_type": "code",
   "execution_count": 14,
   "metadata": {},
   "outputs": [
    {
     "data": {
      "text/plain": [
       "[{'ResponseMetadata': {'RequestId': '8914272EA172C0FD',\n",
       "   'HostId': 'kyXsRCG9ag4OJSDaa9V9zZD5TgTCNPWm0HOfDN2QSCaSVxtV0ir6ZHsqROf4AK1EG1zqeLKzf5Y=',\n",
       "   'HTTPStatusCode': 200,\n",
       "   'HTTPHeaders': {'x-amz-id-2': 'kyXsRCG9ag4OJSDaa9V9zZD5TgTCNPWm0HOfDN2QSCaSVxtV0ir6ZHsqROf4AK1EG1zqeLKzf5Y=',\n",
       "    'x-amz-request-id': '8914272EA172C0FD',\n",
       "    'date': 'Mon, 27 Jan 2020 20:31:30 GMT',\n",
       "    'connection': 'close',\n",
       "    'content-type': 'application/xml',\n",
       "    'transfer-encoding': 'chunked',\n",
       "    'server': 'AmazonS3'},\n",
       "   'RetryAttempts': 0},\n",
       "  'Deleted': [{'Key': 'sagemaker/capstone-project/pytorch-training-2020-01-27-19-57-38-851/output/model.tar.gz'},\n",
       "   {'Key': 'sagemaker/capstone-project/pytorch-training-2020-01-27-19-57-38-851/debug-output/training_job_end.ts'},\n",
       "   {'Key': 'pytorch-training-2020-01-27-19-57-38-851/source/sourcedir.tar.gz'},\n",
       "   {'Key': 'pytorch-inference-2020-01-27-20-21-10-343/model.tar.gz'},\n",
       "   {'Key': 'sagemaker/capstone-project/train.zip'}]}]"
      ]
     },
     "execution_count": 14,
     "metadata": {},
     "output_type": "execute_result"
    }
   ],
   "source": [
    "bucket_to_delete = boto3.resource('s3').Bucket(bucket)\n",
    "\n",
    "bucket_to_delete.objects.all().delete()"
   ]
  },
  {
   "cell_type": "code",
   "execution_count": null,
   "metadata": {},
   "outputs": [],
   "source": []
  }
 ],
 "metadata": {
  "file_extension": ".py",
  "kernelspec": {
   "display_name": "conda_pytorch_p36",
   "language": "python",
   "name": "conda_pytorch_p36"
  },
  "language_info": {
   "codemirror_mode": {
    "name": "ipython",
    "version": 3
   },
   "file_extension": ".py",
   "mimetype": "text/x-python",
   "name": "python",
   "nbconvert_exporter": "python",
   "pygments_lexer": "ipython3",
   "version": "3.6.5"
  },
  "mimetype": "text/x-python",
  "name": "python",
  "npconvert_exporter": "python",
  "pygments_lexer": "ipython3",
  "version": 3
 },
 "nbformat": 4,
 "nbformat_minor": 2
}
