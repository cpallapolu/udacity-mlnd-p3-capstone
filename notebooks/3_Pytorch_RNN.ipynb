{
 "cells": [
  {
   "cell_type": "markdown",
   "metadata": {},
   "source": [
    "# Customer Revenue Prediction"
   ]
  },
  {
   "cell_type": "markdown",
   "metadata": {},
   "source": [
    "## PyTorch RNN Model\n",
    "*Machine Learning Nanodegree Program | Capstone Project*\n",
    "\n",
    "---"
   ]
  },
  {
   "cell_type": "markdown",
   "metadata": {},
   "source": [
    "In this notebook I will be creating a PyTorch RNN model and compare it with the baseline model I created earlier.\n",
    "\n",
    "### Overview:\n",
    "- Reading the data\n",
    "- Preparing the tensors for the PyTorch Model\n",
    "- Initializing the RNN model\n",
    "- Training the model with the train dataset\n",
    "- Validating the model using the val dataset\n",
    "- Predict the revenue for customer in test dataset\n",
    "- Visualizing the results\n",
    "- Compare the results with the baseline model\n",
    "- Saving the results to a csv "
   ]
  }
 ],
 "metadata": {
  "file_extension": ".py",
  "kernelspec": {
   "display_name": "Python 3",
   "language": "python",
   "name": "python3"
  },
  "language_info": {
   "codemirror_mode": {
    "name": "ipython",
    "version": 3
   },
   "file_extension": ".py",
   "mimetype": "text/x-python",
   "name": "python",
   "nbconvert_exporter": "python",
   "pygments_lexer": "ipython3",
   "version": "3.7.2"
  },
  "mimetype": "text/x-python",
  "name": "python",
  "npconvert_exporter": "python",
  "pygments_lexer": "ipython3",
  "version": 3
 },
 "nbformat": 4,
 "nbformat_minor": 2
}
