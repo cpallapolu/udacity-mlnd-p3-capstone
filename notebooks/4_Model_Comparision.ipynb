{
 "cells": [
  {
   "cell_type": "code",
   "execution_count": 25,
   "metadata": {},
   "outputs": [],
   "source": [
    "import pandas as pd\n",
    "import numpy as np\n",
    "import matplotlib.pyplot as plt\n",
    "import seaborn as sns\n",
    "\n",
    "from lightgbm import LGBMModel\n",
    "from os import path\n",
    "from sklearn.metrics import mean_squared_error\n",
    "\n",
    "%matplotlib inline\n",
    "pd.set_option('display.float_format', lambda x: '%.10f' % x)"
   ]
  },
  {
   "cell_type": "code",
   "execution_count": 45,
   "metadata": {},
   "outputs": [
    {
     "name": "stdout",
     "output_type": "stream",
     "text": [
      "\n",
      "LGBM Test Prediction file: ../datasets/lgbm_pred_test.zip\n",
      "\n",
      "LSTM Test Prediction file: ../datasets/lstm_pred_test.zip\n"
     ]
    }
   ],
   "source": [
    "data_dir = '../datasets'\n",
    "\n",
    "if not path.exists(data_dir):\n",
    "    raise Exception('{} directory not found.'.format(data_dir))\n",
    "\n",
    "# lgbm_val_file = '{}/{}'.format(data_dir, 'lgbm_pred_val.zip')\n",
    "# print('\\nLGBM Val Prediction file: {}'.format(lgbm_val_file))\n",
    "\n",
    "lgbm_test_file = '{}/{}'.format(data_dir, 'lgbm_pred_test.zip')\n",
    "print('\\nLGBM Test Prediction file: {}'.format(lgbm_test_file))\n",
    "\n",
    "# lstm_val_file = '{}/{}'.format(data_dir, 'lstm_pred_val.zip')\n",
    "# print('\\nLSTM Val Prediction file: {}'.format(lstm_val_file))\n",
    "\n",
    "lstm_test_file = '{}/{}'.format(data_dir, 'lstm_pred_test.zip')\n",
    "print('\\nLSTM Test Prediction file: {}'.format(lstm_test_file))"
   ]
  },
  {
   "cell_type": "code",
   "execution_count": 46,
   "metadata": {},
   "outputs": [],
   "source": [
    "def load_data(zip_path):\n",
    "    df = pd.read_csv(\n",
    "        zip_path,\n",
    "        dtype={'fullVisitorId': 'str'},\n",
    "        compression='zip'\n",
    "    )\n",
    "    \n",
    "    [rows, columns] = df.shape\n",
    "\n",
    "    print('Loaded {} rows with {} columns from {}.'.format(\n",
    "        rows, columns, zip_path\n",
    "    ))\n",
    "    \n",
    "    return df"
   ]
  },
  {
   "cell_type": "code",
   "execution_count": 114,
   "metadata": {},
   "outputs": [
    {
     "name": "stdout",
     "output_type": "stream",
     "text": [
      "Loaded 617242 rows with 2 columns from ../datasets/lstm_pred_test.zip.\n",
      "Loaded 617242 rows with 2 columns from ../datasets/lgbm_pred_test.zip.\n",
      "\n",
      "CPU times: user 938 ms, sys: 218 ms, total: 1.16 s\n",
      "Wall time: 1.28 s\n"
     ]
    }
   ],
   "source": [
    "%%time\n",
    "\n",
    "# lstm_val_df = load_data(lstm_val_file)\n",
    "lstm_test_df = load_data(lstm_test_file)\n",
    "\n",
    "# lgbm_val_df = load_data(lgbm_val_file)\n",
    "lgbm_test_df = load_data(lgbm_test_file)\n",
    "\n",
    "print()\n",
    "# comparison_df = df = pd.read_csv(\n",
    "#         comp_file,\n",
    "#         dtype={'fullVisitorId': 'str'},\n",
    "#     )\n",
    "\n",
    "# print(comparison_df.shape)"
   ]
  },
  {
   "cell_type": "code",
   "execution_count": 121,
   "metadata": {},
   "outputs": [
    {
     "data": {
      "text/html": [
       "<div>\n",
       "<style scoped>\n",
       "    .dataframe tbody tr th:only-of-type {\n",
       "        vertical-align: middle;\n",
       "    }\n",
       "\n",
       "    .dataframe tbody tr th {\n",
       "        vertical-align: top;\n",
       "    }\n",
       "\n",
       "    .dataframe thead th {\n",
       "        text-align: right;\n",
       "    }\n",
       "</style>\n",
       "<table border=\"1\" class=\"dataframe\">\n",
       "  <thead>\n",
       "    <tr style=\"text-align: right;\">\n",
       "      <th></th>\n",
       "      <th>fullVisitorId</th>\n",
       "      <th>lgbm</th>\n",
       "      <th>lstm</th>\n",
       "      <th>is_lstm_higher</th>\n",
       "      <th>is_lgbm_higher</th>\n",
       "      <th>both_equal</th>\n",
       "    </tr>\n",
       "  </thead>\n",
       "  <tbody>\n",
       "    <tr>\n",
       "      <th>0</th>\n",
       "      <td>0000000259678714014</td>\n",
       "      <td>2.3897294998</td>\n",
       "      <td>38.9576300000</td>\n",
       "      <td>True</td>\n",
       "      <td>False</td>\n",
       "      <td>False</td>\n",
       "    </tr>\n",
       "    <tr>\n",
       "      <th>1</th>\n",
       "      <td>0000049363351866189</td>\n",
       "      <td>0.0874586600</td>\n",
       "      <td>0.0000000000</td>\n",
       "      <td>False</td>\n",
       "      <td>True</td>\n",
       "      <td>False</td>\n",
       "    </tr>\n",
       "    <tr>\n",
       "      <th>2</th>\n",
       "      <td>0000053049821714864</td>\n",
       "      <td>0.0000000000</td>\n",
       "      <td>0.0000000000</td>\n",
       "      <td>False</td>\n",
       "      <td>False</td>\n",
       "      <td>True</td>\n",
       "    </tr>\n",
       "    <tr>\n",
       "      <th>3</th>\n",
       "      <td>0000059488412965267</td>\n",
       "      <td>1.9629093950</td>\n",
       "      <td>0.0000000000</td>\n",
       "      <td>False</td>\n",
       "      <td>True</td>\n",
       "      <td>False</td>\n",
       "    </tr>\n",
       "    <tr>\n",
       "      <th>4</th>\n",
       "      <td>0000085840370633780</td>\n",
       "      <td>0.1048852054</td>\n",
       "      <td>0.0048613310</td>\n",
       "      <td>False</td>\n",
       "      <td>True</td>\n",
       "      <td>False</td>\n",
       "    </tr>\n",
       "  </tbody>\n",
       "</table>\n",
       "</div>"
      ],
      "text/plain": [
       "         fullVisitorId         lgbm          lstm  is_lstm_higher  \\\n",
       "0  0000000259678714014 2.3897294998 38.9576300000            True   \n",
       "1  0000049363351866189 0.0874586600  0.0000000000           False   \n",
       "2  0000053049821714864 0.0000000000  0.0000000000           False   \n",
       "3  0000059488412965267 1.9629093950  0.0000000000           False   \n",
       "4  0000085840370633780 0.1048852054  0.0048613310           False   \n",
       "\n",
       "   is_lgbm_higher  both_equal  \n",
       "0           False       False  \n",
       "1            True       False  \n",
       "2           False        True  \n",
       "3            True       False  \n",
       "4            True       False  "
      ]
     },
     "execution_count": 121,
     "metadata": {},
     "output_type": "execute_result"
    }
   ],
   "source": [
    "merged_test = pd.merge(lgbm_test_df, lstm_test_df, on='fullVisitorId')\n",
    "merged_test = merged_test.rename(columns={'predictedRevenue_y': 'lstm', 'predictedRevenue_x': 'lgbm'})\n",
    "\n",
    "merged_test['is_lstm_higher'] = np.where(\n",
    "    (merged_test['lstm'] > merged_test['lgbm']), \n",
    "    True, \n",
    "    False\n",
    ")\n",
    "\n",
    "merged_test['is_lgbm_higher'] = np.where(\n",
    "    (merged_test['lstm'] < merged_test['lgbm']), \n",
    "    True, \n",
    "    False\n",
    ")\n",
    "\n",
    "merged_test['both_equal'] = np.where(\n",
    "    (merged_test['lstm'] == merged_test['lgbm']), \n",
    "    True, \n",
    "    False\n",
    ")\n",
    "\n",
    "merged_test.head()\n"
   ]
  },
  {
   "cell_type": "code",
   "execution_count": 122,
   "metadata": {},
   "outputs": [
    {
     "name": "stdout",
     "output_type": "stream",
     "text": [
      "lstm_high:: (190980, 6)\n",
      "lgbm_high:: (216631, 6)\n",
      "both_equal:: (209631, 6)\n"
     ]
    }
   ],
   "source": [
    "merged_test.shape\n",
    "merged_test.groupby('is_lstm_higher').size() \n",
    "\n",
    "lstm_high = merged_test[merged_test['is_lstm_higher'] == True]\n",
    "lgbm_high = merged_test[merged_test['is_lgbm_higher'] == True]\n",
    "both_equal = merged_test[merged_test['both_equal'] == True]\n",
    "\n",
    "\n",
    "print('lstm_high::', lstm_high.shape)\n",
    "print('lgbm_high::', lgbm_high.shape)\n",
    "print('both_equal::', both_equal.shape)"
   ]
  },
  {
   "cell_type": "code",
   "execution_count": 113,
   "metadata": {},
   "outputs": [
    {
     "data": {
      "text/plain": [
       "Text(0, 0.5, 'predictedRevenue')"
      ]
     },
     "execution_count": 113,
     "metadata": {},
     "output_type": "execute_result"
    },
    {
     "data": {
      "image/png": "[encoded data removed]",
      "text/plain": [
       "<Figure size 1296x864 with 1 Axes>"
      ]
     },
     "metadata": {
      "needs_background": "light"
     },
     "output_type": "display_data"
    }
   ],
   "source": [
    "plt.figure(figsize=(18, 12))\n",
    "\n",
    "df=pd.DataFrame({\n",
    "    'x': range(1, lstm_high.shape[0] + 1), \n",
    "    'lgbm': lstm_high['lgbm'].values, \n",
    "    'lstm': lstm_high['lstm'].values\n",
    "})\n",
    "  \n",
    "palette = [[0.6350, 0.0780, 0.1840], [0.9290, 0.6940, 0.1250]]\n",
    " \n",
    "for idx, column in enumerate(df.drop('x', axis=1)):\n",
    "    plt.plot(df['x'], df[column], marker='', color=palette[idx], linewidth=1, alpha=0.6, label=column)\n",
    "\n",
    "\n",
    "plt.legend(fontsize='xx-large')\n",
    "plt.title(\n",
    "    '\\nLSTM vs LGBM Customer predicted revenue\\n', \n",
    "    fontsize=18\n",
    ")\n",
    "plt.xlabel('fullVisitorId')\n",
    "plt.ylabel('predictedRevenue')\n"
   ]
  },
  {
   "cell_type": "code",
   "execution_count": null,
   "metadata": {},
   "outputs": [],
   "source": []
  }
 ],
 "metadata": {
  "kernelspec": {
   "display_name": "Python 3",
   "language": "python",
   "name": "python3"
  },
  "language_info": {
   "codemirror_mode": {
    "name": "ipython",
    "version": 3
   },
   "file_extension": ".py",
   "mimetype": "text/x-python",
   "name": "python",
   "nbconvert_exporter": "python",
   "pygments_lexer": "ipython3",
   "version": "3.7.2"
  }
 },
 "nbformat": 4,
 "nbformat_minor": 1
}
