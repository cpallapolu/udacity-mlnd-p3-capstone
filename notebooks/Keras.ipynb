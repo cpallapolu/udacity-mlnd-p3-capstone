{
 "cells": [
  {
   "cell_type": "code",
   "execution_count": 1,
   "metadata": {},
   "outputs": [
    {
     "name": "stderr",
     "output_type": "stream",
     "text": [
      "Using TensorFlow backend.\n"
     ]
    }
   ],
   "source": [
    "import pandas as pd\n",
    "import numpy as np\n",
    "import matplotlib.pyplot as plt\n",
    "import seaborn as sns\n",
    "\n",
    "from lightgbm import LGBMModel\n",
    "from os import path\n",
    "from sklearn.metrics import mean_squared_error\n",
    "\n",
    "from keras.layers import Dense, Dropout, LSTM, Bidirectional\n",
    "from keras.models import Sequential\n",
    "\n",
    "%matplotlib inline\n",
    "pd.set_option('display.float_format', lambda x: '%.10f' % x)"
   ]
  },
  {
   "cell_type": "code",
   "execution_count": 2,
   "metadata": {},
   "outputs": [
    {
     "name": "stdout",
     "output_type": "stream",
     "text": [
      "\n",
      "Train file: ../datasets/train.zip\n",
      "\n",
      "Validation file: ../datasets/val.zip\n",
      "\n",
      "Validation Prediction file: ../datasets/lstm_pred_val.zip\n",
      "\n",
      "Test file: ../datasets/test.zip\n",
      "\n",
      "Test Prediction file: ../datasets/lstm_pred_test.zip\n",
      "\n",
      "Important Features file: ../datasets/lstm_importances-01.png\n"
     ]
    }
   ],
   "source": [
    "data_dir = '../datasets'\n",
    "\n",
    "if not path.exists(data_dir):\n",
    "    raise Exception('{} directory not found.'.format(data_dir))\n",
    "\n",
    "train_file = '{}/{}'.format(data_dir, 'train.zip')\n",
    "print('\\nTrain file: {}'.format(train_file))\n",
    "\n",
    "val_file = '{}/{}'.format(data_dir, 'val.zip')\n",
    "print('\\nValidation file: {}'.format(val_file))\n",
    "\n",
    "pred_val_file = '{}/{}'.format(data_dir, 'lstm_pred_val.zip')\n",
    "print('\\nValidation Prediction file: {}'.format(pred_val_file))\n",
    "\n",
    "test_file = '{}/{}'.format(data_dir, 'test.zip')\n",
    "print('\\nTest file: {}'.format(test_file))\n",
    "\n",
    "pred_test_file = '{}/{}'.format(data_dir, 'lstm_pred_test.zip')\n",
    "print('\\nTest Prediction file: {}'.format(pred_test_file))\n",
    "\n",
    "imp_features_file = '{}/{}'.format(data_dir, 'lstm_importances-01.png')\n",
    "print('\\nImportant Features file: {}'.format(imp_features_file))"
   ]
  },
  {
   "cell_type": "code",
   "execution_count": 3,
   "metadata": {},
   "outputs": [],
   "source": [
    "def load_data(zip_path):\n",
    "    df = pd.read_csv(\n",
    "        zip_path,\n",
    "        dtype={'fullVisitorId': 'str'},\n",
    "        compression='zip'\n",
    "    )\n",
    "    \n",
    "    [rows, columns] = df.shape\n",
    "\n",
    "    print('Loaded {} rows with {} columns from {}.'.format(\n",
    "        rows, columns, zip_path\n",
    "    ))\n",
    "    \n",
    "    return df"
   ]
  },
  {
   "cell_type": "code",
   "execution_count": 4,
   "metadata": {},
   "outputs": [
    {
     "name": "stdout",
     "output_type": "stream",
     "text": [
      "Loaded 765707 rows with 26 columns from ../datasets/train.zip.\n",
      "Loaded 137946 rows with 26 columns from ../datasets/val.zip.\n",
      "Loaded 804684 rows with 25 columns from ../datasets/test.zip.\n",
      "\n",
      "CPU times: user 8.69 s, sys: 645 ms, total: 9.34 s\n",
      "Wall time: 10.1 s\n"
     ]
    }
   ],
   "source": [
    "%%time\n",
    "\n",
    "train_df = load_data(train_file)\n",
    "val_df = load_data(val_file)\n",
    "test_df = load_data(test_file)\n",
    "\n",
    "print()"
   ]
  },
  {
   "cell_type": "code",
   "execution_count": 5,
   "metadata": {},
   "outputs": [],
   "source": [
    "train_id = train_df['fullVisitorId'].values\n",
    "val_id = val_df['fullVisitorId'].values\n",
    "test_id = test_df['fullVisitorId'].values\n",
    "\n",
    "train_y = train_df['totals.transactionRevenue'].values\n",
    "train_log_y = np.log1p(train_y)\n",
    "\n",
    "val_y = val_df['totals.transactionRevenue'].values\n",
    "val_log_y = np.log1p(val_y)\n",
    "\n",
    "train_X = train_df.drop(['totals.transactionRevenue', 'fullVisitorId'], axis=1).values\n",
    "val_X = val_df.drop(['totals.transactionRevenue', 'fullVisitorId'], axis=1).values\n",
    "test_X = test_df.drop(['fullVisitorId'], axis=1).values"
   ]
  },
  {
   "cell_type": "code",
   "execution_count": 6,
   "metadata": {},
   "outputs": [
    {
     "data": {
      "text/html": [
       "<style  type=\"text/css\" >\n",
       "    #T_7e450c5a_431a_11ea_9952_f018982ce539 th {\n",
       "          text-align: center;\n",
       "    }</style><table id=\"T_7e450c5a_431a_11ea_9952_f018982ce539\" ><thead>    <tr>        <th class=\"index_name level0\" >Type</th>        <th class=\"col_heading level0 col0\" colspan=2>Raw</th>        <th class=\"col_heading level0 col2\" colspan=2>Transformed</th>    </tr>    <tr>        <th class=\"index_name level1\" >Dataset</th>        <th class=\"col_heading level1 col0\" >Rows</th>        <th class=\"col_heading level1 col1\" >Columns</th>        <th class=\"col_heading level1 col2\" >Rows</th>        <th class=\"col_heading level1 col3\" >Columns</th>    </tr></thead><tbody>\n",
       "                <tr>\n",
       "                        <th id=\"T_7e450c5a_431a_11ea_9952_f018982ce539level0_row0\" class=\"row_heading level0 row0\" >Train</th>\n",
       "                        <td id=\"T_7e450c5a_431a_11ea_9952_f018982ce539row0_col0\" class=\"data row0 col0\" >765707</td>\n",
       "                        <td id=\"T_7e450c5a_431a_11ea_9952_f018982ce539row0_col1\" class=\"data row0 col1\" >26</td>\n",
       "                        <td id=\"T_7e450c5a_431a_11ea_9952_f018982ce539row0_col2\" class=\"data row0 col2\" >765707</td>\n",
       "                        <td id=\"T_7e450c5a_431a_11ea_9952_f018982ce539row0_col3\" class=\"data row0 col3\" >24</td>\n",
       "            </tr>\n",
       "            <tr>\n",
       "                        <th id=\"T_7e450c5a_431a_11ea_9952_f018982ce539level0_row1\" class=\"row_heading level0 row1\" >Validation</th>\n",
       "                        <td id=\"T_7e450c5a_431a_11ea_9952_f018982ce539row1_col0\" class=\"data row1 col0\" >137946</td>\n",
       "                        <td id=\"T_7e450c5a_431a_11ea_9952_f018982ce539row1_col1\" class=\"data row1 col1\" >26</td>\n",
       "                        <td id=\"T_7e450c5a_431a_11ea_9952_f018982ce539row1_col2\" class=\"data row1 col2\" >137946</td>\n",
       "                        <td id=\"T_7e450c5a_431a_11ea_9952_f018982ce539row1_col3\" class=\"data row1 col3\" >24</td>\n",
       "            </tr>\n",
       "            <tr>\n",
       "                        <th id=\"T_7e450c5a_431a_11ea_9952_f018982ce539level0_row2\" class=\"row_heading level0 row2\" >Test</th>\n",
       "                        <td id=\"T_7e450c5a_431a_11ea_9952_f018982ce539row2_col0\" class=\"data row2 col0\" >804684</td>\n",
       "                        <td id=\"T_7e450c5a_431a_11ea_9952_f018982ce539row2_col1\" class=\"data row2 col1\" >25</td>\n",
       "                        <td id=\"T_7e450c5a_431a_11ea_9952_f018982ce539row2_col2\" class=\"data row2 col2\" >804684</td>\n",
       "                        <td id=\"T_7e450c5a_431a_11ea_9952_f018982ce539row2_col3\" class=\"data row2 col3\" >24</td>\n",
       "            </tr>\n",
       "    </tbody></table>"
      ],
      "text/plain": [
       "<pandas.io.formats.style.Styler at 0x14724ffd0>"
      ]
     },
     "execution_count": 6,
     "metadata": {},
     "output_type": "execute_result"
    }
   ],
   "source": [
    "header = pd.MultiIndex.from_product(\n",
    "    [['Raw','Transformed'], ['Rows', 'Columns']],\n",
    "    names=['Type','Dataset']\n",
    ")\n",
    "\n",
    "shape_df = pd.DataFrame(\n",
    "    [train_df.shape + train_X.shape, val_df.shape + val_X.shape, test_df.shape + test_X.shape], \n",
    "    index=['Train', 'Validation', 'Test'], \n",
    "    columns=header\n",
    ")\n",
    "\n",
    "shape_df.style.set_table_styles([\n",
    "    {'selector': 'th', 'props': [('text-align', 'center')]}\n",
    "])"
   ]
  },
  {
   "cell_type": "code",
   "execution_count": 7,
   "metadata": {},
   "outputs": [
    {
     "data": {
      "text/html": [
       "<div>\n",
       "<style scoped>\n",
       "    .dataframe tbody tr th:only-of-type {\n",
       "        vertical-align: middle;\n",
       "    }\n",
       "\n",
       "    .dataframe tbody tr th {\n",
       "        vertical-align: top;\n",
       "    }\n",
       "\n",
       "    .dataframe thead tr th {\n",
       "        text-align: left;\n",
       "    }\n",
       "</style>\n",
       "<table border=\"1\" class=\"dataframe\">\n",
       "  <thead>\n",
       "    <tr>\n",
       "      <th>Dataset</th>\n",
       "      <th>Rows</th>\n",
       "      <th>Batch</th>\n",
       "      <th>Columns</th>\n",
       "    </tr>\n",
       "  </thead>\n",
       "  <tbody>\n",
       "    <tr>\n",
       "      <th>Train</th>\n",
       "      <td>765707</td>\n",
       "      <td>1</td>\n",
       "      <td>24</td>\n",
       "    </tr>\n",
       "    <tr>\n",
       "      <th>Validation</th>\n",
       "      <td>137946</td>\n",
       "      <td>1</td>\n",
       "      <td>24</td>\n",
       "    </tr>\n",
       "    <tr>\n",
       "      <th>Test</th>\n",
       "      <td>804684</td>\n",
       "      <td>1</td>\n",
       "      <td>24</td>\n",
       "    </tr>\n",
       "  </tbody>\n",
       "</table>\n",
       "</div>"
      ],
      "text/plain": [
       "Dataset       Rows Batch Columns\n",
       "Train       765707     1      24\n",
       "Validation  137946     1      24\n",
       "Test        804684     1      24"
      ]
     },
     "execution_count": 7,
     "metadata": {},
     "output_type": "execute_result"
    }
   ],
   "source": [
    "shaped_train_X = train_X.reshape((train_X.shape[0], 1, train_X.shape[1]))\n",
    "shaped_val_X = val_X.reshape((val_X.shape[0], 1, val_X.shape[1]))\n",
    "shaped_test_X = test_X.reshape((test_X.shape[0], 1, test_X.shape[1]))\n",
    "\n",
    "header = pd.MultiIndex.from_product(\n",
    "    [['Rows', 'Batch', 'Columns']],\n",
    "    names=['Dataset']\n",
    ")\n",
    "\n",
    "shape_df = pd.DataFrame(\n",
    "    [shaped_train_X.shape, shaped_val_X.shape, shaped_test_X.shape], \n",
    "    index=['Train', 'Validation', 'Test'], \n",
    "    columns=header\n",
    ")\n",
    "\n",
    "shape_df.head()"
   ]
  },
  {
   "cell_type": "code",
   "execution_count": 8,
   "metadata": {},
   "outputs": [],
   "source": [
    "def lstm_model(train_X, train_y, val_X, val_y):\n",
    "    model = Sequential()\n",
    "\n",
    "    model.add(\n",
    "        Bidirectional(\n",
    "            LSTM(\n",
    "                256,\n",
    "                recurrent_dropout=0.2, \n",
    "                kernel_initializer='lecun_normal', \n",
    "                return_sequences=True,\n",
    "                input_shape = (shaped_train_X.shape[1], shaped_train_X.shape[2])\n",
    "            )\n",
    "        )\n",
    "    )\n",
    "    model.add(\n",
    "        Bidirectional(\n",
    "            LSTM(\n",
    "                128,\n",
    "                recurrent_dropout=0.2, \n",
    "                kernel_initializer='lecun_normal'\n",
    "            )\n",
    "        )\n",
    "    )\n",
    "    model.add(Dense(50, activation='sigmoid'))\n",
    "    model.add(Dropout(0.1))\n",
    "    model.add(Dense(20,activation='relu'))\n",
    "    model.add(Dense(1,activation='linear'))\n",
    "\n",
    "    model.compile(optimizer='adam', loss='mse')\n",
    "\n",
    "    model.fit(\n",
    "        shaped_train_X, \n",
    "        train_log_y, \n",
    "        epochs=5, \n",
    "        batch_size=64, \n",
    "        validation_data=(shaped_val_X, val_log_y), \n",
    "        validation_freq=2,\n",
    "        verbose=1,\n",
    "        shuffle=False\n",
    "    )\n",
    "    \n",
    "    return model"
   ]
  },
  {
   "cell_type": "code",
   "execution_count": 9,
   "metadata": {},
   "outputs": [
    {
     "name": "stdout",
     "output_type": "stream",
     "text": [
      "Train on 765707 samples, validate on 137946 samples\n",
      "Epoch 1/5\n",
      "765707/765707 [==============================] - 276s 360us/step - loss: 3.2921\n",
      "Epoch 2/5\n",
      "765707/765707 [==============================] - 290s 379us/step - loss: 2.9586 - val_loss: 3.1590\n",
      "Epoch 3/5\n",
      "765707/765707 [==============================] - 268s 349us/step - loss: 2.9153\n",
      "Epoch 4/5\n",
      "765707/765707 [==============================] - 274s 358us/step - loss: 2.8772 - val_loss: 3.1098\n",
      "Epoch 5/5\n",
      "765707/765707 [==============================] - 271s 354us/step - loss: 2.8529\n"
     ]
    }
   ],
   "source": [
    "model = lstm_model(shaped_train_X, train_log_y, shaped_val_X, val_log_y)"
   ]
  },
  {
   "cell_type": "code",
   "execution_count": 10,
   "metadata": {},
   "outputs": [],
   "source": [
    "pred_val = model.predict(shaped_val_X)"
   ]
  },
  {
   "cell_type": "code",
   "execution_count": 11,
   "metadata": {},
   "outputs": [
    {
     "data": {
      "text/html": [
       "<div>\n",
       "<style scoped>\n",
       "    .dataframe tbody tr th:only-of-type {\n",
       "        vertical-align: middle;\n",
       "    }\n",
       "\n",
       "    .dataframe tbody tr th {\n",
       "        vertical-align: top;\n",
       "    }\n",
       "\n",
       "    .dataframe thead th {\n",
       "        text-align: right;\n",
       "    }\n",
       "</style>\n",
       "<table border=\"1\" class=\"dataframe\">\n",
       "  <thead>\n",
       "    <tr style=\"text-align: right;\">\n",
       "      <th></th>\n",
       "      <th>fullVisitorId</th>\n",
       "      <th>transactionRevenue</th>\n",
       "      <th>predictedRevenue</th>\n",
       "    </tr>\n",
       "  </thead>\n",
       "  <tbody>\n",
       "    <tr>\n",
       "      <th>0</th>\n",
       "      <td>0000062267706107999</td>\n",
       "      <td>0.0000000000</td>\n",
       "      <td>0.0081076892</td>\n",
       "    </tr>\n",
       "    <tr>\n",
       "      <th>1</th>\n",
       "      <td>0000085059828173212</td>\n",
       "      <td>0.0000000000</td>\n",
       "      <td>0.0081044147</td>\n",
       "    </tr>\n",
       "    <tr>\n",
       "      <th>2</th>\n",
       "      <td>000026722803385797</td>\n",
       "      <td>0.0000000000</td>\n",
       "      <td>0.0089559462</td>\n",
       "    </tr>\n",
       "    <tr>\n",
       "      <th>3</th>\n",
       "      <td>0000436683523507380</td>\n",
       "      <td>0.0000000000</td>\n",
       "      <td>1.3142076731</td>\n",
       "    </tr>\n",
       "    <tr>\n",
       "      <th>4</th>\n",
       "      <td>0000450371054833295</td>\n",
       "      <td>0.0000000000</td>\n",
       "      <td>0.0081010200</td>\n",
       "    </tr>\n",
       "  </tbody>\n",
       "</table>\n",
       "</div>"
      ],
      "text/plain": [
       "         fullVisitorId  transactionRevenue  predictedRevenue\n",
       "0  0000062267706107999        0.0000000000      0.0081076892\n",
       "1  0000085059828173212        0.0000000000      0.0081044147\n",
       "2   000026722803385797        0.0000000000      0.0089559462\n",
       "3  0000436683523507380        0.0000000000      1.3142076731\n",
       "4  0000450371054833295        0.0000000000      0.0081010200"
      ]
     },
     "execution_count": 11,
     "metadata": {},
     "output_type": "execute_result"
    }
   ],
   "source": [
    "pred_val = pred_val.reshape(-1)\n",
    "\n",
    "pred_val[pred_val < 0] = 0\n",
    "\n",
    "pred_val_data = {\n",
    "    'fullVisitorId': val_id,\n",
    "    'transactionRevenue': val_y,\n",
    "    'predictedRevenue': np.expm1(pred_val)\n",
    "}\n",
    "\n",
    "pred_val_df = pd.DataFrame(pred_val_data)\n",
    "\n",
    "pred_val_df = pred_val_df.groupby('fullVisitorId')['transactionRevenue', 'predictedRevenue'].sum().reset_index()\n",
    "\n",
    "pred_val_df.head()"
   ]
  },
  {
   "cell_type": "code",
   "execution_count": 12,
   "metadata": {},
   "outputs": [
    {
     "name": "stdout",
     "output_type": "stream",
     "text": [
      "\n",
      "RSME for validation data set: 1.7806\n"
     ]
    }
   ],
   "source": [
    "rsme_val = np.sqrt(\n",
    "    mean_squared_error(\n",
    "        np.log1p(pred_val_df['transactionRevenue'].values),\n",
    "        np.log1p(pred_val_df['predictedRevenue'].values)\n",
    "    )\n",
    ")\n",
    "\n",
    "print('\\nRSME for validation data set: {:.4f}'.format(rsme_val))"
   ]
  },
  {
   "cell_type": "code",
   "execution_count": 13,
   "metadata": {},
   "outputs": [],
   "source": [
    "pred_test = model.predict(shaped_test_X)"
   ]
  },
  {
   "cell_type": "code",
   "execution_count": 14,
   "metadata": {},
   "outputs": [
    {
     "data": {
      "text/html": [
       "<div>\n",
       "<style scoped>\n",
       "    .dataframe tbody tr th:only-of-type {\n",
       "        vertical-align: middle;\n",
       "    }\n",
       "\n",
       "    .dataframe tbody tr th {\n",
       "        vertical-align: top;\n",
       "    }\n",
       "\n",
       "    .dataframe thead th {\n",
       "        text-align: right;\n",
       "    }\n",
       "</style>\n",
       "<table border=\"1\" class=\"dataframe\">\n",
       "  <thead>\n",
       "    <tr style=\"text-align: right;\">\n",
       "      <th></th>\n",
       "      <th>fullVisitorId</th>\n",
       "      <th>predictedRevenue</th>\n",
       "    </tr>\n",
       "  </thead>\n",
       "  <tbody>\n",
       "    <tr>\n",
       "      <th>0</th>\n",
       "      <td>0000000259678714014</td>\n",
       "      <td>45.4991645813</td>\n",
       "    </tr>\n",
       "    <tr>\n",
       "      <th>1</th>\n",
       "      <td>0000049363351866189</td>\n",
       "      <td>0.0243037809</td>\n",
       "    </tr>\n",
       "    <tr>\n",
       "      <th>2</th>\n",
       "      <td>0000053049821714864</td>\n",
       "      <td>0.0081150206</td>\n",
       "    </tr>\n",
       "    <tr>\n",
       "      <th>3</th>\n",
       "      <td>0000059488412965267</td>\n",
       "      <td>0.0243103914</td>\n",
       "    </tr>\n",
       "    <tr>\n",
       "      <th>4</th>\n",
       "      <td>0000085840370633780</td>\n",
       "      <td>0.0118847825</td>\n",
       "    </tr>\n",
       "  </tbody>\n",
       "</table>\n",
       "</div>"
      ],
      "text/plain": [
       "         fullVisitorId  predictedRevenue\n",
       "0  0000000259678714014     45.4991645813\n",
       "1  0000049363351866189      0.0243037809\n",
       "2  0000053049821714864      0.0081150206\n",
       "3  0000059488412965267      0.0243103914\n",
       "4  0000085840370633780      0.0118847825"
      ]
     },
     "execution_count": 14,
     "metadata": {},
     "output_type": "execute_result"
    }
   ],
   "source": [
    "pred_test = pred_test.reshape(-1)\n",
    "\n",
    "pred_test[pred_test < 0] = 0\n",
    "\n",
    "pred_test_data = {\n",
    "    'fullVisitorId': test_id,\n",
    "    'predictedRevenue': np.expm1(pred_test)\n",
    "}\n",
    "\n",
    "pred_test_df = pd.DataFrame(pred_test_data)\n",
    "\n",
    "pred_test_df = pred_test_df.groupby('fullVisitorId')['predictedRevenue'].sum().reset_index()\n",
    "\n",
    "pred_test_df.head()"
   ]
  },
  {
   "cell_type": "code",
   "execution_count": 15,
   "metadata": {},
   "outputs": [],
   "source": [
    "pred_val_df.to_csv(pred_val_file, index=False, compression='zip')\n",
    "pred_test_df.to_csv(pred_test_file, index=False, compression='zip')"
   ]
  },
  {
   "cell_type": "code",
   "execution_count": null,
   "metadata": {},
   "outputs": [],
   "source": []
  },
  {
   "cell_type": "code",
   "execution_count": 29,
   "metadata": {},
   "outputs": [
    {
     "ename": "ValueError",
     "evalue": "Found array with dim 3. Estimator expected <= 2.",
     "output_type": "error",
     "traceback": [
      "\u001b[0;31m---------------------------------------------------------------------------\u001b[0m",
      "\u001b[0;31mValueError\u001b[0m                                Traceback (most recent call last)",
      "\u001b[0;32m<ipython-input-29-cc51640f6de0>\u001b[0m in \u001b[0;36m<module>\u001b[0;34m\u001b[0m\n\u001b[1;32m      6\u001b[0m \u001b[0;32mfrom\u001b[0m \u001b[0msklearn\u001b[0m\u001b[0;34m.\u001b[0m\u001b[0mmetrics\u001b[0m \u001b[0;32mimport\u001b[0m \u001b[0mSCORERS\u001b[0m\u001b[0;34m\u001b[0m\u001b[0;34m\u001b[0m\u001b[0m\n\u001b[1;32m      7\u001b[0m \u001b[0;34m\u001b[0m\u001b[0m\n\u001b[0;32m----> 8\u001b[0;31m \u001b[0mperm\u001b[0m \u001b[0;34m=\u001b[0m \u001b[0mPermutationImportance\u001b[0m\u001b[0;34m(\u001b[0m\u001b[0mmodel\u001b[0m\u001b[0;34m,\u001b[0m \u001b[0mrandom_state\u001b[0m\u001b[0;34m=\u001b[0m\u001b[0;36m1\u001b[0m\u001b[0;34m,\u001b[0m \u001b[0mscoring\u001b[0m\u001b[0;34m=\u001b[0m\u001b[0;34m'neg_mean_squared_error'\u001b[0m\u001b[0;34m)\u001b[0m\u001b[0;34m.\u001b[0m\u001b[0mfit\u001b[0m\u001b[0;34m(\u001b[0m\u001b[0mshaped_train_X\u001b[0m\u001b[0;34m,\u001b[0m \u001b[0mtrain_log_y\u001b[0m\u001b[0;34m)\u001b[0m\u001b[0;34m\u001b[0m\u001b[0;34m\u001b[0m\u001b[0m\n\u001b[0m\u001b[1;32m      9\u001b[0m \u001b[0;31m# eli5.show_weights(perm, feature_names = X.columns.tolist())\u001b[0m\u001b[0;34m\u001b[0m\u001b[0;34m\u001b[0m\u001b[0;34m\u001b[0m\u001b[0m\n\u001b[1;32m     10\u001b[0m \u001b[0;31m# result = permutation_importance(model, shaped_train_X, train_log_y, random_state=1, scoring='neg_mean_squared_error')\u001b[0m\u001b[0;34m\u001b[0m\u001b[0;34m\u001b[0m\u001b[0;34m\u001b[0m\u001b[0m\n",
      "\u001b[0;32m/usr/local/lib/python3.7/site-packages/eli5/sklearn/permutation_importance.py\u001b[0m in \u001b[0;36mfit\u001b[0;34m(self, X, y, groups, **fit_params)\u001b[0m\n\u001b[1;32m    195\u001b[0m             \u001b[0mself\u001b[0m\u001b[0;34m.\u001b[0m\u001b[0mestimator_\u001b[0m\u001b[0;34m.\u001b[0m\u001b[0mfit\u001b[0m\u001b[0;34m(\u001b[0m\u001b[0mX\u001b[0m\u001b[0;34m,\u001b[0m \u001b[0my\u001b[0m\u001b[0;34m,\u001b[0m \u001b[0;34m**\u001b[0m\u001b[0mfit_params\u001b[0m\u001b[0;34m)\u001b[0m\u001b[0;34m\u001b[0m\u001b[0;34m\u001b[0m\u001b[0m\n\u001b[1;32m    196\u001b[0m \u001b[0;34m\u001b[0m\u001b[0m\n\u001b[0;32m--> 197\u001b[0;31m         \u001b[0mX\u001b[0m \u001b[0;34m=\u001b[0m \u001b[0mcheck_array\u001b[0m\u001b[0;34m(\u001b[0m\u001b[0mX\u001b[0m\u001b[0;34m)\u001b[0m\u001b[0;34m\u001b[0m\u001b[0;34m\u001b[0m\u001b[0m\n\u001b[0m\u001b[1;32m    198\u001b[0m \u001b[0;34m\u001b[0m\u001b[0m\n\u001b[1;32m    199\u001b[0m         \u001b[0;32mif\u001b[0m \u001b[0mself\u001b[0m\u001b[0;34m.\u001b[0m\u001b[0mcv\u001b[0m \u001b[0;32mnot\u001b[0m \u001b[0;32min\u001b[0m \u001b[0;34m(\u001b[0m\u001b[0;32mNone\u001b[0m\u001b[0;34m,\u001b[0m \u001b[0;34m\"prefit\"\u001b[0m\u001b[0;34m)\u001b[0m\u001b[0;34m:\u001b[0m\u001b[0;34m\u001b[0m\u001b[0;34m\u001b[0m\u001b[0m\n",
      "\u001b[0;32m/usr/local/lib/python3.7/site-packages/sklearn/utils/validation.py\u001b[0m in \u001b[0;36mcheck_array\u001b[0;34m(array, accept_sparse, accept_large_sparse, dtype, order, copy, force_all_finite, ensure_2d, allow_nd, ensure_min_samples, ensure_min_features, warn_on_dtype, estimator)\u001b[0m\n\u001b[1;32m    572\u001b[0m         \u001b[0;32mif\u001b[0m \u001b[0;32mnot\u001b[0m \u001b[0mallow_nd\u001b[0m \u001b[0;32mand\u001b[0m \u001b[0marray\u001b[0m\u001b[0;34m.\u001b[0m\u001b[0mndim\u001b[0m \u001b[0;34m>=\u001b[0m \u001b[0;36m3\u001b[0m\u001b[0;34m:\u001b[0m\u001b[0;34m\u001b[0m\u001b[0;34m\u001b[0m\u001b[0m\n\u001b[1;32m    573\u001b[0m             raise ValueError(\"Found array with dim %d. %s expected <= 2.\"\n\u001b[0;32m--> 574\u001b[0;31m                              % (array.ndim, estimator_name))\n\u001b[0m\u001b[1;32m    575\u001b[0m \u001b[0;34m\u001b[0m\u001b[0m\n\u001b[1;32m    576\u001b[0m         \u001b[0;32mif\u001b[0m \u001b[0mforce_all_finite\u001b[0m\u001b[0;34m:\u001b[0m\u001b[0;34m\u001b[0m\u001b[0;34m\u001b[0m\u001b[0m\n",
      "\u001b[0;31mValueError\u001b[0m: Found array with dim 3. Estimator expected <= 2."
     ]
    }
   ],
   "source": [
    "# Do feature importances\n",
    "\n",
    "from eli5.sklearn import PermutationImportance\n",
    "\n",
    "from sklearn.inspection import permutation_importance\n",
    "from sklearn.metrics import SCORERS\n",
    "\n",
    "perm = PermutationImportance(model, random_state=1, scoring='neg_mean_squared_error').fit(shaped_train_X, train_log_y)\n",
    "# eli5.show_weights(perm, feature_names = X.columns.tolist())\n",
    "# result = permutation_importance(model, shaped_train_X, train_log_y, random_state=1, scoring='neg_mean_squared_error')\n",
    "# base_score, score_decreases = get_score_importances(model, train_X, train_log_y, random_state=1)\n",
    "\n",
    "\n",
    "print(result)\n",
    "print()\n",
    "# print(score_decreases)"
   ]
  },
  {
   "cell_type": "code",
   "execution_count": null,
   "metadata": {},
   "outputs": [],
   "source": []
  }
 ],
 "metadata": {
  "file_extension": ".py",
  "kernelspec": {
   "display_name": "Python 3",
   "language": "python",
   "name": "python3"
  },
  "language_info": {
   "codemirror_mode": {
    "name": "ipython",
    "version": 3
   },
   "file_extension": ".py",
   "mimetype": "text/x-python",
   "name": "python",
   "nbconvert_exporter": "python",
   "pygments_lexer": "ipython3",
   "version": "3.7.2"
  },
  "mimetype": "text/x-python",
  "name": "python",
  "npconvert_exporter": "python",
  "pygments_lexer": "ipython2",
  "version": 2
 },
 "nbformat": 4,
 "nbformat_minor": 2
}
